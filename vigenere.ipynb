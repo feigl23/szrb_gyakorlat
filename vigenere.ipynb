{
 "cells": [
  {
   "cell_type": "markdown",
   "id": "496ecd08-8bbf-4545-80d1-d14bf0e838b0",
   "metadata": {},
   "source": [
    "# Vigenére cipher"
   ]
  },
  {
   "cell_type": "markdown",
   "id": "b056bddc-47bf-446f-96ec-ac758715deb6",
   "metadata": {},
   "source": [
    "#### Rich téma hozzáadása:"
   ]
  },
  {
   "cell_type": "code",
   "execution_count": 26,
   "id": "b1df565f-e8ea-4bc3-9b09-52f43752e3dc",
   "metadata": {},
   "outputs": [
    {
     "name": "stdout",
     "output_type": "stream",
     "text": [
      "The history saving thread hit an unexpected error (OperationalError('attempt to write a readonly database')).History will not be written to the database.\n"
     ]
    }
   ],
   "source": [
    "from rich.console import Console\n",
    "from rich.theme import Theme\n",
    "\n",
    "custom_theme = Theme(\n",
    "     {\"key\": \"bold cyan\", \"text\": \"bold grey66\", \"cipher\": \"bold red\"})\n",
    "console = Console(theme=custom_theme)"
   ]
  },
  {
   "cell_type": "markdown",
   "id": "55f5ee31-2ba3-4ae6-a527-52e9a996201b",
   "metadata": {},
   "source": [
    "#### Segéd függvények:\n",
    "A kulcs generáló (a kulcsot ismétli, míg eléri az üzenet hosszát) és a kódolás, dekódolás számára szükséges függvények."
   ]
  },
  {
   "cell_type": "code",
   "execution_count": 27,
   "id": "b358aa90-c603-40af-b02c-f55dd322ce4b",
   "metadata": {},
   "outputs": [],
   "source": [
    "def generateKey(string, key):\n",
    "\tkey = list(key)\n",
    "\tif len(string) == len(key):\n",
    "\t\treturn(key)\n",
    "\telse:\n",
    "\t\tfor i in range(len(string) - len(key)):\n",
    "\t\t\tkey.append(key[i % len(key)])\n",
    "\treturn key\n",
    "\n",
    "\n",
    "def coding(imsg,ikey,lkey,minus):\n",
    "    result = \"\"\n",
    "    for i in range(len(imsg)):\n",
    "        if minus:\n",
    "            value = (imsg[i] + ikey[i % lkey]) % 26\n",
    "        else:\n",
    "            value = (imsg[i] - ikey[i % lkey]) % 26\n",
    "        result = result + chr(value + 65)\n",
    "    return result"
   ]
  },
  {
   "cell_type": "markdown",
   "id": "0af674dd-455a-435d-af72-3025b582203e",
   "metadata": {},
   "source": [
    "## Encrypt"
   ]
  },
  {
   "cell_type": "markdown",
   "id": "32df5b5a-bcae-4b81-95b9-7623767bcb00",
   "metadata": {},
   "source": [
    "A kulcsnak a későbbi feltörés során használt könyvtár elején található szavak egyikét választottam ki, szemléltetésképp."
   ]
  },
  {
   "cell_type": "code",
   "execution_count": 12,
   "id": "ba982852-ec02-40e3-b102-6975cfbadf2d",
   "metadata": {},
   "outputs": [
    {
     "data": {
      "text/html": [
       "<pre style=\"white-space:pre;overflow-x:auto;line-height:normal;font-family:Menlo,'DejaVu Sans Mono',consolas,'Courier New',monospace\"><span style=\"color: #a8a8a8; text-decoration-color: #a8a8a8; font-weight: bold\">Message: TOINFINITYANDBEYOND </span>\n",
       "</pre>\n"
      ],
      "text/plain": [
       "\u001b[1;38;5;248mMessage: TOINFINITYANDBEYOND \u001b[0m\n"
      ]
     },
     "metadata": {},
     "output_type": "display_data"
    },
    {
     "data": {
      "text/html": [
       "<pre style=\"white-space:pre;overflow-x:auto;line-height:normal;font-family:Menlo,'DejaVu Sans Mono',consolas,'Courier New',monospace\"><span style=\"color: #008080; text-decoration-color: #008080; font-weight: bold\">Keyword : ABABA </span>\n",
       "</pre>\n"
      ],
      "text/plain": [
       "\u001b[1;36mKeyword : ABABA \u001b[0m\n"
      ]
     },
     "metadata": {},
     "output_type": "display_data"
    },
    {
     "data": {
      "text/html": [
       "<pre style=\"white-space:pre;overflow-x:auto;line-height:normal;font-family:Menlo,'DejaVu Sans Mono',consolas,'Courier New',monospace\"><span style=\"color: #008080; text-decoration-color: #008080; font-weight: bold\">Key : [</span><span style=\"color: #008000; text-decoration-color: #008000\">'A'</span><span style=\"color: #008080; text-decoration-color: #008080; font-weight: bold\">, </span><span style=\"color: #008000; text-decoration-color: #008000\">'B'</span><span style=\"color: #008080; text-decoration-color: #008080; font-weight: bold\">, </span><span style=\"color: #008000; text-decoration-color: #008000\">'A'</span><span style=\"color: #008080; text-decoration-color: #008080; font-weight: bold\">, </span><span style=\"color: #008000; text-decoration-color: #008000\">'B'</span><span style=\"color: #008080; text-decoration-color: #008080; font-weight: bold\">, </span><span style=\"color: #008000; text-decoration-color: #008000\">'A'</span><span style=\"color: #008080; text-decoration-color: #008080; font-weight: bold\">, </span><span style=\"color: #008000; text-decoration-color: #008000\">'A'</span><span style=\"color: #008080; text-decoration-color: #008080; font-weight: bold\">, </span><span style=\"color: #008000; text-decoration-color: #008000\">'B'</span><span style=\"color: #008080; text-decoration-color: #008080; font-weight: bold\">, </span><span style=\"color: #008000; text-decoration-color: #008000\">'A'</span><span style=\"color: #008080; text-decoration-color: #008080; font-weight: bold\">, </span><span style=\"color: #008000; text-decoration-color: #008000\">'B'</span><span style=\"color: #008080; text-decoration-color: #008080; font-weight: bold\">, </span><span style=\"color: #008000; text-decoration-color: #008000\">'A'</span><span style=\"color: #008080; text-decoration-color: #008080; font-weight: bold\">, </span><span style=\"color: #008000; text-decoration-color: #008000\">'A'</span><span style=\"color: #008080; text-decoration-color: #008080; font-weight: bold\">, </span><span style=\"color: #008000; text-decoration-color: #008000\">'B'</span><span style=\"color: #008080; text-decoration-color: #008080; font-weight: bold\">, </span><span style=\"color: #008000; text-decoration-color: #008000\">'A'</span><span style=\"color: #008080; text-decoration-color: #008080; font-weight: bold\">, </span><span style=\"color: #008000; text-decoration-color: #008000\">'B'</span><span style=\"color: #008080; text-decoration-color: #008080; font-weight: bold\">, </span><span style=\"color: #008000; text-decoration-color: #008000\">'A'</span><span style=\"color: #008080; text-decoration-color: #008080; font-weight: bold\">, </span><span style=\"color: #008000; text-decoration-color: #008000\">'A'</span><span style=\"color: #008080; text-decoration-color: #008080; font-weight: bold\">, </span><span style=\"color: #008000; text-decoration-color: #008000\">'B'</span><span style=\"color: #008080; text-decoration-color: #008080; font-weight: bold\">, </span><span style=\"color: #008000; text-decoration-color: #008000\">'A'</span><span style=\"color: #008080; text-decoration-color: #008080; font-weight: bold\">, </span><span style=\"color: #008000; text-decoration-color: #008000\">'B'</span><span style=\"color: #008080; text-decoration-color: #008080; font-weight: bold\">] </span>\n",
       "</pre>\n"
      ],
      "text/plain": [
       "\u001b[1;36mKey : \u001b[0m\u001b[1;36m[\u001b[0m\u001b[32m'A'\u001b[0m\u001b[1;36m, \u001b[0m\u001b[32m'B'\u001b[0m\u001b[1;36m, \u001b[0m\u001b[32m'A'\u001b[0m\u001b[1;36m, \u001b[0m\u001b[32m'B'\u001b[0m\u001b[1;36m, \u001b[0m\u001b[32m'A'\u001b[0m\u001b[1;36m, \u001b[0m\u001b[32m'A'\u001b[0m\u001b[1;36m, \u001b[0m\u001b[32m'B'\u001b[0m\u001b[1;36m, \u001b[0m\u001b[32m'A'\u001b[0m\u001b[1;36m, \u001b[0m\u001b[32m'B'\u001b[0m\u001b[1;36m, \u001b[0m\u001b[32m'A'\u001b[0m\u001b[1;36m, \u001b[0m\u001b[32m'A'\u001b[0m\u001b[1;36m, \u001b[0m\u001b[32m'B'\u001b[0m\u001b[1;36m, \u001b[0m\u001b[32m'A'\u001b[0m\u001b[1;36m, \u001b[0m\u001b[32m'B'\u001b[0m\u001b[1;36m, \u001b[0m\u001b[32m'A'\u001b[0m\u001b[1;36m, \u001b[0m\u001b[32m'A'\u001b[0m\u001b[1;36m, \u001b[0m\u001b[32m'B'\u001b[0m\u001b[1;36m, \u001b[0m\u001b[32m'A'\u001b[0m\u001b[1;36m, \u001b[0m\u001b[32m'B'\u001b[0m\u001b[1;36m]\u001b[0m\u001b[1;36m \u001b[0m\n"
      ]
     },
     "metadata": {},
     "output_type": "display_data"
    },
    {
     "data": {
      "text/html": [
       "<pre style=\"white-space:pre;overflow-x:auto;line-height:normal;font-family:Menlo,'DejaVu Sans Mono',consolas,'Courier New',monospace\"><span style=\"color: #800000; text-decoration-color: #800000; font-weight: bold\">Cipher: TNIMFIMISYAMDAEYNNC </span>\n",
       "</pre>\n"
      ],
      "text/plain": [
       "\u001b[1;31mCipher: TNIMFIMISYAMDAEYNNC \u001b[0m\n"
      ]
     },
     "metadata": {},
     "output_type": "display_data"
    }
   ],
   "source": [
    "def encrypt(msg, key):\n",
    "    lkey = len(key)\n",
    "    ikey = [ord(i) for i in key]\n",
    "    imsg = [ord(i) for i in msg]\n",
    "    return coding(imsg,ikey,lkey, False)\n",
    "    \n",
    "keyword = \"ABABA\"\n",
    "text = \"TOINFINITYANDBEYOND\"\n",
    "key = generateKey(text, keyword)\n",
    "cipher = encrypt(text,key)\n",
    "console.print(\"Message: {} \" . format(text), style=\"text\")\n",
    "console.print(\"Keyword : {} \" . format(keyword), style=\"key\")\n",
    "console.print(\"Key : {} \" . format(key), style=\"key\")\n",
    "console.print(\"Cipher: {} \" . format(cipher) , style=\"cipher\")"
   ]
  },
  {
   "cell_type": "markdown",
   "id": "5ed7ddeb-c17f-46db-853b-b98f1ecdb613",
   "metadata": {},
   "source": [
    "## Decrypt"
   ]
  },
  {
   "cell_type": "code",
   "execution_count": 13,
   "id": "36dd5c9b-e4c2-4917-a9b3-0667d1c3125c",
   "metadata": {},
   "outputs": [
    {
     "data": {
      "text/html": [
       "<pre style=\"white-space:pre;overflow-x:auto;line-height:normal;font-family:Menlo,'DejaVu Sans Mono',consolas,'Courier New',monospace\"><span style=\"color: #a8a8a8; text-decoration-color: #a8a8a8; font-weight: bold\">Decrypted Message: TOINFINITYANDBEYOND </span>\n",
       "</pre>\n"
      ],
      "text/plain": [
       "\u001b[1;38;5;248mDecrypted Message: TOINFINITYANDBEYOND \u001b[0m\n"
      ]
     },
     "metadata": {},
     "output_type": "display_data"
    }
   ],
   "source": [
    "def decrypt(cipher, key):\n",
    "    lkey = len(key)\n",
    "    ikey = [ord(i) for i in key]\n",
    "    imsg = [ord(i) for i in cipher]\n",
    "    return coding(imsg,ikey,lkey, True)\n",
    "    \n",
    "decrypted_msg = decrypt(cipher, key)\n",
    "console.print(\"Decrypted Message: {} \" . format(decrypted_msg), style=\"text\")"
   ]
  },
  {
   "cell_type": "markdown",
   "id": "9be802a7-d45f-423e-a826-193b3afe576f",
   "metadata": {},
   "source": [
    "A dictionary-s brute force támadás során a szótárban található szavakon végig próbálva használjuk a descript függvényt.\n",
    "\n",
    "Mivel ábécé sorrendben vannak a szavak, ha a kulcs a végén található igen sokáig tart a művelet, \n",
    "illetve nem tartalmaz minden szót ez a szótár sem.\n",
    "\n",
    "Ha a kulcs nem értelmes szó, akkor ez a függvény nem képes feltörni.\n",
    "\n",
    "Hogy a függvény ne fusson túl sokáig, csak az első 100 esetet írom ki.\n",
    "\n",
    "A kulcsok közül az \"ABABA\"-t választottam szemléltetésképpen és látható a harmadik próbálkozásnál, hogy sikeres a dekódolás."
   ]
  },
  {
   "cell_type": "code",
   "execution_count": 20,
   "id": "3e63d436-12bd-40e9-94e6-7da578d15725",
   "metadata": {},
   "outputs": [
    {
     "data": {
      "text/html": [
       "<pre style=\"white-space:pre;overflow-x:auto;line-height:normal;font-family:Menlo,'DejaVu Sans Mono',consolas,'Courier New',monospace\"><span style=\"color: #008080; text-decoration-color: #008080; font-weight: bold\">Key AARHUS:</span>\n",
       "</pre>\n"
      ],
      "text/plain": [
       "\u001b[1;36mKey AARHUS:\u001b[0m\n"
      ]
     },
     "metadata": {},
     "output_type": "display_data"
    },
    {
     "data": {
      "text/html": [
       "<pre style=\"white-space:pre;overflow-x:auto;line-height:normal;font-family:Menlo,'DejaVu Sans Mono',consolas,'Courier New',monospace\"><span style=\"color: #a8a8a8; text-decoration-color: #a8a8a8; font-weight: bold\">Decrypted Message: TNZTZAMIJFUEDAVFHFC </span>\n",
       "</pre>\n"
      ],
      "text/plain": [
       "\u001b[1;38;5;248mDecrypted Message: TNZTZAMIJFUEDAVFHFC \u001b[0m\n"
      ]
     },
     "metadata": {},
     "output_type": "display_data"
    },
    {
     "data": {
      "text/html": [
       "<pre style=\"white-space:pre;overflow-x:auto;line-height:normal;font-family:Menlo,'DejaVu Sans Mono',consolas,'Courier New',monospace\"><span style=\"color: #008080; text-decoration-color: #008080; font-weight: bold\">Key AARON:</span>\n",
       "</pre>\n"
      ],
      "text/plain": [
       "\u001b[1;36mKey AARON:\u001b[0m\n"
      ]
     },
     "metadata": {},
     "output_type": "display_data"
    },
    {
     "data": {
      "text/html": [
       "<pre style=\"white-space:pre;overflow-x:auto;line-height:normal;font-family:Menlo,'DejaVu Sans Mono',consolas,'Courier New',monospace\"><span style=\"color: #a8a8a8; text-decoration-color: #a8a8a8; font-weight: bold\">Decrypted Message: TNZASIMZGLAMUORYNEQ </span>\n",
       "</pre>\n"
      ],
      "text/plain": [
       "\u001b[1;38;5;248mDecrypted Message: TNZASIMZGLAMUORYNEQ \u001b[0m\n"
      ]
     },
     "metadata": {},
     "output_type": "display_data"
    },
    {
     "data": {
      "text/html": [
       "<pre style=\"white-space:pre;overflow-x:auto;line-height:normal;font-family:Menlo,'DejaVu Sans Mono',consolas,'Courier New',monospace\"><span style=\"color: #008080; text-decoration-color: #008080; font-weight: bold\">Key ABABA:</span>\n",
       "</pre>\n"
      ],
      "text/plain": [
       "\u001b[1;36mKey ABABA:\u001b[0m\n"
      ]
     },
     "metadata": {},
     "output_type": "display_data"
    },
    {
     "data": {
      "text/html": [
       "<pre style=\"white-space:pre;overflow-x:auto;line-height:normal;font-family:Menlo,'DejaVu Sans Mono',consolas,'Courier New',monospace\"><span style=\"color: #a8a8a8; text-decoration-color: #a8a8a8; font-weight: bold\">Decrypted Message: TOINFINITYANDBEYOND </span>\n",
       "</pre>\n"
      ],
      "text/plain": [
       "\u001b[1;38;5;248mDecrypted Message: TOINFINITYANDBEYOND \u001b[0m\n"
      ]
     },
     "metadata": {},
     "output_type": "display_data"
    },
    {
     "data": {
      "text/html": [
       "<pre style=\"white-space:pre;overflow-x:auto;line-height:normal;font-family:Menlo,'DejaVu Sans Mono',consolas,'Courier New',monospace\"><span style=\"color: #008080; text-decoration-color: #008080; font-weight: bold\">Key ABACK:</span>\n",
       "</pre>\n"
      ],
      "text/plain": [
       "\u001b[1;36mKey ABACK:\u001b[0m\n"
      ]
     },
     "metadata": {},
     "output_type": "display_data"
    },
    {
     "data": {
      "text/html": [
       "<pre style=\"white-space:pre;overflow-x:auto;line-height:normal;font-family:Menlo,'DejaVu Sans Mono',consolas,'Courier New',monospace\"><span style=\"color: #a8a8a8; text-decoration-color: #a8a8a8; font-weight: bold\">Decrypted Message: TOIOPINIUIANDCOYONE </span>\n",
       "</pre>\n"
      ],
      "text/plain": [
       "\u001b[1;38;5;248mDecrypted Message: TOIOPINIUIANDCOYONE \u001b[0m\n"
      ]
     },
     "metadata": {},
     "output_type": "display_data"
    },
    {
     "data": {
      "text/html": [
       "<pre style=\"white-space:pre;overflow-x:auto;line-height:normal;font-family:Menlo,'DejaVu Sans Mono',consolas,'Courier New',monospace\"><span style=\"color: #008080; text-decoration-color: #008080; font-weight: bold\">Key ABAFT:</span>\n",
       "</pre>\n"
      ],
      "text/plain": [
       "\u001b[1;36mKey ABAFT:\u001b[0m\n"
      ]
     },
     "metadata": {},
     "output_type": "display_data"
    },
    {
     "data": {
      "text/html": [
       "<pre style=\"white-space:pre;overflow-x:auto;line-height:normal;font-family:Menlo,'DejaVu Sans Mono',consolas,'Courier New',monospace\"><span style=\"color: #a8a8a8; text-decoration-color: #a8a8a8; font-weight: bold\">Decrypted Message: TOIRYINIXRANDFXYONH </span>\n",
       "</pre>\n"
      ],
      "text/plain": [
       "\u001b[1;38;5;248mDecrypted Message: TOIRYINIXRANDFXYONH \u001b[0m\n"
      ]
     },
     "metadata": {},
     "output_type": "display_data"
    },
    {
     "data": {
      "text/html": [
       "<pre style=\"white-space:pre;overflow-x:auto;line-height:normal;font-family:Menlo,'DejaVu Sans Mono',consolas,'Courier New',monospace\"><span style=\"color: #008080; text-decoration-color: #008080; font-weight: bold\">Key ABANDON:</span>\n",
       "</pre>\n"
      ],
      "text/plain": [
       "\u001b[1;36mKey ABANDON:\u001b[0m\n"
      ]
     },
     "metadata": {},
     "output_type": "display_data"
    },
    {
     "data": {
      "text/html": [
       "<pre style=\"white-space:pre;overflow-x:auto;line-height:normal;font-family:Menlo,'DejaVu Sans Mono',consolas,'Courier New',monospace\"><span style=\"color: #a8a8a8; text-decoration-color: #a8a8a8; font-weight: bold\">Decrypted Message: TOIZIWZITYNPRNEZNAF </span>\n",
       "</pre>\n"
      ],
      "text/plain": [
       "\u001b[1;38;5;248mDecrypted Message: TOIZIWZITYNPRNEZNAF \u001b[0m\n"
      ]
     },
     "metadata": {},
     "output_type": "display_data"
    },
    {
     "data": {
      "text/html": [
       "<pre style=\"white-space:pre;overflow-x:auto;line-height:normal;font-family:Menlo,'DejaVu Sans Mono',consolas,'Courier New',monospace\"><span style=\"color: #008080; text-decoration-color: #008080; font-weight: bold\">Key ABANDONED:</span>\n",
       "</pre>\n"
      ],
      "text/plain": [
       "\u001b[1;36mKey ABANDONED:\u001b[0m\n"
      ]
     },
     "metadata": {},
     "output_type": "display_data"
    },
    {
     "data": {
      "text/html": [
       "<pre style=\"white-space:pre;overflow-x:auto;line-height:normal;font-family:Menlo,'DejaVu Sans Mono',consolas,'Courier New',monospace\"><span style=\"color: #a8a8a8; text-decoration-color: #a8a8a8; font-weight: bold\">Decrypted Message: TOIZIWZMVYBMQDSLRQC </span>\n",
       "</pre>\n"
      ],
      "text/plain": [
       "\u001b[1;38;5;248mDecrypted Message: TOIZIWZMVYBMQDSLRQC \u001b[0m\n"
      ]
     },
     "metadata": {},
     "output_type": "display_data"
    },
    {
     "data": {
      "text/html": [
       "<pre style=\"white-space:pre;overflow-x:auto;line-height:normal;font-family:Menlo,'DejaVu Sans Mono',consolas,'Courier New',monospace\"><span style=\"color: #008080; text-decoration-color: #008080; font-weight: bold\">Key ABANDONING:</span>\n",
       "</pre>\n"
      ],
      "text/plain": [
       "\u001b[1;36mKey ABANDONING:\u001b[0m\n"
      ]
     },
     "metadata": {},
     "output_type": "display_data"
    },
    {
     "data": {
      "text/html": [
       "<pre style=\"white-space:pre;overflow-x:auto;line-height:normal;font-family:Menlo,'DejaVu Sans Mono',consolas,'Courier New',monospace\"><span style=\"color: #a8a8a8; text-decoration-color: #a8a8a8; font-weight: bold\">Decrypted Message: TOIZIWZQFEANDNHMAVP </span>\n",
       "</pre>\n"
      ],
      "text/plain": [
       "\u001b[1;38;5;248mDecrypted Message: TOIZIWZQFEANDNHMAVP \u001b[0m\n"
      ]
     },
     "metadata": {},
     "output_type": "display_data"
    },
    {
     "data": {
      "text/html": [
       "<pre style=\"white-space:pre;overflow-x:auto;line-height:normal;font-family:Menlo,'DejaVu Sans Mono',consolas,'Courier New',monospace\"><span style=\"color: #008080; text-decoration-color: #008080; font-weight: bold\">Key ABANDONMENT:</span>\n",
       "</pre>\n"
      ],
      "text/plain": [
       "\u001b[1;36mKey ABANDONMENT:\u001b[0m\n"
      ]
     },
     "metadata": {},
     "output_type": "display_data"
    },
    {
     "data": {
      "text/html": [
       "<pre style=\"white-space:pre;overflow-x:auto;line-height:normal;font-family:Menlo,'DejaVu Sans Mono',consolas,'Courier New',monospace\"><span style=\"color: #a8a8a8; text-decoration-color: #a8a8a8; font-weight: bold\">Decrypted Message: TOIZIWZUWLTMEARBBAO </span>\n",
       "</pre>\n"
      ],
      "text/plain": [
       "\u001b[1;38;5;248mDecrypted Message: TOIZIWZUWLTMEARBBAO \u001b[0m\n"
      ]
     },
     "metadata": {},
     "output_type": "display_data"
    },
    {
     "data": {
      "text/html": [
       "<pre style=\"white-space:pre;overflow-x:auto;line-height:normal;font-family:Menlo,'DejaVu Sans Mono',consolas,'Courier New',monospace\"><span style=\"color: #008080; text-decoration-color: #008080; font-weight: bold\">Key ABANDONS:</span>\n",
       "</pre>\n"
      ],
      "text/plain": [
       "\u001b[1;36mKey ABANDONS:\u001b[0m\n"
      ]
     },
     "metadata": {},
     "output_type": "display_data"
    },
    {
     "data": {
      "text/html": [
       "<pre style=\"white-space:pre;overflow-x:auto;line-height:normal;font-family:Menlo,'DejaVu Sans Mono',consolas,'Courier New',monospace\"><span style=\"color: #a8a8a8; text-decoration-color: #a8a8a8; font-weight: bold\">Decrypted Message: TOIZIWZASZAZGORQNOC </span>\n",
       "</pre>\n"
      ],
      "text/plain": [
       "\u001b[1;38;5;248mDecrypted Message: TOIZIWZASZAZGORQNOC \u001b[0m\n"
      ]
     },
     "metadata": {},
     "output_type": "display_data"
    },
    {
     "data": {
      "text/html": [
       "<pre style=\"white-space:pre;overflow-x:auto;line-height:normal;font-family:Menlo,'DejaVu Sans Mono',consolas,'Courier New',monospace\"><span style=\"color: #008080; text-decoration-color: #008080; font-weight: bold\">Key ABASE:</span>\n",
       "</pre>\n"
      ],
      "text/plain": [
       "\u001b[1;36mKey ABASE:\u001b[0m\n"
      ]
     },
     "metadata": {},
     "output_type": "display_data"
    },
    {
     "data": {
      "text/html": [
       "<pre style=\"white-space:pre;overflow-x:auto;line-height:normal;font-family:Menlo,'DejaVu Sans Mono',consolas,'Courier New',monospace\"><span style=\"color: #a8a8a8; text-decoration-color: #a8a8a8; font-weight: bold\">Decrypted Message: TOIEJINIKCANDSIYONU </span>\n",
       "</pre>\n"
      ],
      "text/plain": [
       "\u001b[1;38;5;248mDecrypted Message: TOIEJINIKCANDSIYONU \u001b[0m\n"
      ]
     },
     "metadata": {},
     "output_type": "display_data"
    },
    {
     "data": {
      "text/html": [
       "<pre style=\"white-space:pre;overflow-x:auto;line-height:normal;font-family:Menlo,'DejaVu Sans Mono',consolas,'Courier New',monospace\"><span style=\"color: #008080; text-decoration-color: #008080; font-weight: bold\">Key ABASED:</span>\n",
       "</pre>\n"
      ],
      "text/plain": [
       "\u001b[1;36mKey ABASED:\u001b[0m\n"
      ]
     },
     "metadata": {},
     "output_type": "display_data"
    },
    {
     "data": {
      "text/html": [
       "<pre style=\"white-space:pre;overflow-x:auto;line-height:normal;font-family:Menlo,'DejaVu Sans Mono',consolas,'Courier New',monospace\"><span style=\"color: #a8a8a8; text-decoration-color: #a8a8a8; font-weight: bold\">Decrypted Message: TOIEJLMJSQEPDBEQRQC </span>\n",
       "</pre>\n"
      ],
      "text/plain": [
       "\u001b[1;38;5;248mDecrypted Message: TOIEJLMJSQEPDBEQRQC \u001b[0m\n"
      ]
     },
     "metadata": {},
     "output_type": "display_data"
    },
    {
     "data": {
      "text/html": [
       "<pre style=\"white-space:pre;overflow-x:auto;line-height:normal;font-family:Menlo,'DejaVu Sans Mono',consolas,'Courier New',monospace\"><span style=\"color: #008080; text-decoration-color: #008080; font-weight: bold\">Key ABASEMENT:</span>\n",
       "</pre>\n"
      ],
      "text/plain": [
       "\u001b[1;36mKey ABASEMENT:\u001b[0m\n"
      ]
     },
     "metadata": {},
     "output_type": "display_data"
    },
    {
     "data": {
      "text/html": [
       "<pre style=\"white-space:pre;overflow-x:auto;line-height:normal;font-family:Menlo,'DejaVu Sans Mono',consolas,'Courier New',monospace\"><span style=\"color: #a8a8a8; text-decoration-color: #a8a8a8; font-weight: bold\">Decrypted Message: TOIEJUQVLYBMVEQCAGC </span>\n",
       "</pre>\n"
      ],
      "text/plain": [
       "\u001b[1;38;5;248mDecrypted Message: TOIEJUQVLYBMVEQCAGC \u001b[0m\n"
      ]
     },
     "metadata": {},
     "output_type": "display_data"
    },
    {
     "data": {
      "text/html": [
       "<pre style=\"white-space:pre;overflow-x:auto;line-height:normal;font-family:Menlo,'DejaVu Sans Mono',consolas,'Courier New',monospace\"><span style=\"color: #008080; text-decoration-color: #008080; font-weight: bold\">Key ABASEMENTS:</span>\n",
       "</pre>\n"
      ],
      "text/plain": [
       "\u001b[1;36mKey ABASEMENTS:\u001b[0m\n"
      ]
     },
     "metadata": {},
     "output_type": "display_data"
    },
    {
     "data": {
      "text/html": [
       "<pre style=\"white-space:pre;overflow-x:auto;line-height:normal;font-family:Menlo,'DejaVu Sans Mono',consolas,'Courier New',monospace\"><span style=\"color: #a8a8a8; text-decoration-color: #a8a8a8; font-weight: bold\">Decrypted Message: TOIEJUQVLQANDSIKRAV </span>\n",
       "</pre>\n"
      ],
      "text/plain": [
       "\u001b[1;38;5;248mDecrypted Message: TOIEJUQVLQANDSIKRAV \u001b[0m\n"
      ]
     },
     "metadata": {},
     "output_type": "display_data"
    },
    {
     "data": {
      "text/html": [
       "<pre style=\"white-space:pre;overflow-x:auto;line-height:normal;font-family:Menlo,'DejaVu Sans Mono',consolas,'Courier New',monospace\"><span style=\"color: #008080; text-decoration-color: #008080; font-weight: bold\">Key ABASES:</span>\n",
       "</pre>\n"
      ],
      "text/plain": [
       "\u001b[1;36mKey ABASES:\u001b[0m\n"
      ]
     },
     "metadata": {},
     "output_type": "display_data"
    },
    {
     "data": {
      "text/html": [
       "<pre style=\"white-space:pre;overflow-x:auto;line-height:normal;font-family:Menlo,'DejaVu Sans Mono',consolas,'Courier New',monospace\"><span style=\"color: #a8a8a8; text-decoration-color: #a8a8a8; font-weight: bold\">Decrypted Message: TOIEJAMJSQEEDBEQRFC </span>\n",
       "</pre>\n"
      ],
      "text/plain": [
       "\u001b[1;38;5;248mDecrypted Message: TOIEJAMJSQEEDBEQRFC \u001b[0m\n"
      ]
     },
     "metadata": {},
     "output_type": "display_data"
    },
    {
     "data": {
      "text/html": [
       "<pre style=\"white-space:pre;overflow-x:auto;line-height:normal;font-family:Menlo,'DejaVu Sans Mono',consolas,'Courier New',monospace\"><span style=\"color: #008080; text-decoration-color: #008080; font-weight: bold\">Key ABASH:</span>\n",
       "</pre>\n"
      ],
      "text/plain": [
       "\u001b[1;36mKey ABASH:\u001b[0m\n"
      ]
     },
     "metadata": {},
     "output_type": "display_data"
    },
    {
     "data": {
      "text/html": [
       "<pre style=\"white-space:pre;overflow-x:auto;line-height:normal;font-family:Menlo,'DejaVu Sans Mono',consolas,'Courier New',monospace\"><span style=\"color: #a8a8a8; text-decoration-color: #a8a8a8; font-weight: bold\">Decrypted Message: TOIEMINIKFANDSLYONU </span>\n",
       "</pre>\n"
      ],
      "text/plain": [
       "\u001b[1;38;5;248mDecrypted Message: TOIEMINIKFANDSLYONU \u001b[0m\n"
      ]
     },
     "metadata": {},
     "output_type": "display_data"
    },
    {
     "data": {
      "text/html": [
       "<pre style=\"white-space:pre;overflow-x:auto;line-height:normal;font-family:Menlo,'DejaVu Sans Mono',consolas,'Courier New',monospace\"><span style=\"color: #008080; text-decoration-color: #008080; font-weight: bold\">Key ABASHED:</span>\n",
       "</pre>\n"
      ],
      "text/plain": [
       "\u001b[1;36mKey ABASHED:\u001b[0m\n"
      ]
     },
     "metadata": {},
     "output_type": "display_data"
    },
    {
     "data": {
      "text/html": [
       "<pre style=\"white-space:pre;overflow-x:auto;line-height:normal;font-family:Menlo,'DejaVu Sans Mono',consolas,'Courier New',monospace\"><span style=\"color: #a8a8a8; text-decoration-color: #a8a8a8; font-weight: bold\">Decrypted Message: TOIEMMPITYSTHDEZNFJ </span>\n",
       "</pre>\n"
      ],
      "text/plain": [
       "\u001b[1;38;5;248mDecrypted Message: TOIEMMPITYSTHDEZNFJ \u001b[0m\n"
      ]
     },
     "metadata": {},
     "output_type": "display_data"
    },
    {
     "data": {
      "text/html": [
       "<pre style=\"white-space:pre;overflow-x:auto;line-height:normal;font-family:Menlo,'DejaVu Sans Mono',consolas,'Courier New',monospace\"><span style=\"color: #008080; text-decoration-color: #008080; font-weight: bold\">Key ABASHES:</span>\n",
       "</pre>\n"
      ],
      "text/plain": [
       "\u001b[1;36mKey ABASHES:\u001b[0m\n"
      ]
     },
     "metadata": {},
     "output_type": "display_data"
    },
    {
     "data": {
      "text/html": [
       "<pre style=\"white-space:pre;overflow-x:auto;line-height:normal;font-family:Menlo,'DejaVu Sans Mono',consolas,'Courier New',monospace\"><span style=\"color: #a8a8a8; text-decoration-color: #a8a8a8; font-weight: bold\">Decrypted Message: TOIEMMEITYSTHSEZNFJ </span>\n",
       "</pre>\n"
      ],
      "text/plain": [
       "\u001b[1;38;5;248mDecrypted Message: TOIEMMEITYSTHSEZNFJ \u001b[0m\n"
      ]
     },
     "metadata": {},
     "output_type": "display_data"
    },
    {
     "data": {
      "text/html": [
       "<pre style=\"white-space:pre;overflow-x:auto;line-height:normal;font-family:Menlo,'DejaVu Sans Mono',consolas,'Courier New',monospace\"><span style=\"color: #008080; text-decoration-color: #008080; font-weight: bold\">Key ABASHING:</span>\n",
       "</pre>\n"
      ],
      "text/plain": [
       "\u001b[1;36mKey ABASHING:\u001b[0m\n"
      ]
     },
     "metadata": {},
     "output_type": "display_data"
    },
    {
     "data": {
      "text/html": [
       "<pre style=\"white-space:pre;overflow-x:auto;line-height:normal;font-family:Menlo,'DejaVu Sans Mono',consolas,'Courier New',monospace\"><span style=\"color: #a8a8a8; text-decoration-color: #a8a8a8; font-weight: bold\">Decrypted Message: TOIEMQZOSZAEKIRENOC </span>\n",
       "</pre>\n"
      ],
      "text/plain": [
       "\u001b[1;38;5;248mDecrypted Message: TOIEMQZOSZAEKIRENOC \u001b[0m\n"
      ]
     },
     "metadata": {},
     "output_type": "display_data"
    },
    {
     "data": {
      "text/html": [
       "<pre style=\"white-space:pre;overflow-x:auto;line-height:normal;font-family:Menlo,'DejaVu Sans Mono',consolas,'Courier New',monospace\"><span style=\"color: #008080; text-decoration-color: #008080; font-weight: bold\">Key ABASING:</span>\n",
       "</pre>\n"
      ],
      "text/plain": [
       "\u001b[1;36mKey ABASING:\u001b[0m\n"
      ]
     },
     "metadata": {},
     "output_type": "display_data"
    },
    {
     "data": {
      "text/html": [
       "<pre style=\"white-space:pre;overflow-x:auto;line-height:normal;font-family:Menlo,'DejaVu Sans Mono',consolas,'Courier New',monospace\"><span style=\"color: #a8a8a8; text-decoration-color: #a8a8a8; font-weight: bold\">Decrypted Message: TOIENVSITYSUQGEZNFK </span>\n",
       "</pre>\n"
      ],
      "text/plain": [
       "\u001b[1;38;5;248mDecrypted Message: TOIENVSITYSUQGEZNFK \u001b[0m\n"
      ]
     },
     "metadata": {},
     "output_type": "display_data"
    },
    {
     "data": {
      "text/html": [
       "<pre style=\"white-space:pre;overflow-x:auto;line-height:normal;font-family:Menlo,'DejaVu Sans Mono',consolas,'Courier New',monospace\"><span style=\"color: #008080; text-decoration-color: #008080; font-weight: bold\">Key ABATE:</span>\n",
       "</pre>\n"
      ],
      "text/plain": [
       "\u001b[1;36mKey ABATE:\u001b[0m\n"
      ]
     },
     "metadata": {},
     "output_type": "display_data"
    },
    {
     "data": {
      "text/html": [
       "<pre style=\"white-space:pre;overflow-x:auto;line-height:normal;font-family:Menlo,'DejaVu Sans Mono',consolas,'Courier New',monospace\"><span style=\"color: #a8a8a8; text-decoration-color: #a8a8a8; font-weight: bold\">Decrypted Message: TOIFJINILCANDTIYONV </span>\n",
       "</pre>\n"
      ],
      "text/plain": [
       "\u001b[1;38;5;248mDecrypted Message: TOIFJINILCANDTIYONV \u001b[0m\n"
      ]
     },
     "metadata": {},
     "output_type": "display_data"
    },
    {
     "data": {
      "text/html": [
       "<pre style=\"white-space:pre;overflow-x:auto;line-height:normal;font-family:Menlo,'DejaVu Sans Mono',consolas,'Courier New',monospace\"><span style=\"color: #008080; text-decoration-color: #008080; font-weight: bold\">Key ABATED:</span>\n",
       "</pre>\n"
      ],
      "text/plain": [
       "\u001b[1;36mKey ABATED:\u001b[0m\n"
      ]
     },
     "metadata": {},
     "output_type": "display_data"
    },
    {
     "data": {
      "text/html": [
       "<pre style=\"white-space:pre;overflow-x:auto;line-height:normal;font-family:Menlo,'DejaVu Sans Mono',consolas,'Courier New',monospace\"><span style=\"color: #a8a8a8; text-decoration-color: #a8a8a8; font-weight: bold\">Decrypted Message: TOIFJLMJSREPDBERRQC </span>\n",
       "</pre>\n"
      ],
      "text/plain": [
       "\u001b[1;38;5;248mDecrypted Message: TOIFJLMJSREPDBERRQC \u001b[0m\n"
      ]
     },
     "metadata": {},
     "output_type": "display_data"
    },
    {
     "data": {
      "text/html": [
       "<pre style=\"white-space:pre;overflow-x:auto;line-height:normal;font-family:Menlo,'DejaVu Sans Mono',consolas,'Courier New',monospace\"><span style=\"color: #008080; text-decoration-color: #008080; font-weight: bold\">Key ABATEMENT:</span>\n",
       "</pre>\n"
      ],
      "text/plain": [
       "\u001b[1;36mKey ABATEMENT:\u001b[0m\n"
      ]
     },
     "metadata": {},
     "output_type": "display_data"
    },
    {
     "data": {
      "text/html": [
       "<pre style=\"white-space:pre;overflow-x:auto;line-height:normal;font-family:Menlo,'DejaVu Sans Mono',consolas,'Courier New',monospace\"><span style=\"color: #a8a8a8; text-decoration-color: #a8a8a8; font-weight: bold\">Decrypted Message: TOIFJUQVLYBMWEQCAGC </span>\n",
       "</pre>\n"
      ],
      "text/plain": [
       "\u001b[1;38;5;248mDecrypted Message: TOIFJUQVLYBMWEQCAGC \u001b[0m\n"
      ]
     },
     "metadata": {},
     "output_type": "display_data"
    },
    {
     "data": {
      "text/html": [
       "<pre style=\"white-space:pre;overflow-x:auto;line-height:normal;font-family:Menlo,'DejaVu Sans Mono',consolas,'Courier New',monospace\"><span style=\"color: #008080; text-decoration-color: #008080; font-weight: bold\">Key ABATEMENTS:</span>\n",
       "</pre>\n"
      ],
      "text/plain": [
       "\u001b[1;36mKey ABATEMENTS:\u001b[0m\n"
      ]
     },
     "metadata": {},
     "output_type": "display_data"
    },
    {
     "data": {
      "text/html": [
       "<pre style=\"white-space:pre;overflow-x:auto;line-height:normal;font-family:Menlo,'DejaVu Sans Mono',consolas,'Courier New',monospace\"><span style=\"color: #a8a8a8; text-decoration-color: #a8a8a8; font-weight: bold\">Decrypted Message: TOIFJUQVLQANDTIKRAV </span>\n",
       "</pre>\n"
      ],
      "text/plain": [
       "\u001b[1;38;5;248mDecrypted Message: TOIFJUQVLQANDTIKRAV \u001b[0m\n"
      ]
     },
     "metadata": {},
     "output_type": "display_data"
    },
    {
     "data": {
      "text/html": [
       "<pre style=\"white-space:pre;overflow-x:auto;line-height:normal;font-family:Menlo,'DejaVu Sans Mono',consolas,'Courier New',monospace\"><span style=\"color: #008080; text-decoration-color: #008080; font-weight: bold\">Key ABATER:</span>\n",
       "</pre>\n"
      ],
      "text/plain": [
       "\u001b[1;36mKey ABATER:\u001b[0m\n"
      ]
     },
     "metadata": {},
     "output_type": "display_data"
    },
    {
     "data": {
      "text/html": [
       "<pre style=\"white-space:pre;overflow-x:auto;line-height:normal;font-family:Menlo,'DejaVu Sans Mono',consolas,'Courier New',monospace\"><span style=\"color: #a8a8a8; text-decoration-color: #a8a8a8; font-weight: bold\">Decrypted Message: TOIFJZMJSREDDBERREC </span>\n",
       "</pre>\n"
      ],
      "text/plain": [
       "\u001b[1;38;5;248mDecrypted Message: TOIFJZMJSREDDBERREC \u001b[0m\n"
      ]
     },
     "metadata": {},
     "output_type": "display_data"
    },
    {
     "data": {
      "text/html": [
       "<pre style=\"white-space:pre;overflow-x:auto;line-height:normal;font-family:Menlo,'DejaVu Sans Mono',consolas,'Courier New',monospace\"><span style=\"color: #008080; text-decoration-color: #008080; font-weight: bold\">Key ABATES:</span>\n",
       "</pre>\n"
      ],
      "text/plain": [
       "\u001b[1;36mKey ABATES:\u001b[0m\n"
      ]
     },
     "metadata": {},
     "output_type": "display_data"
    },
    {
     "data": {
      "text/html": [
       "<pre style=\"white-space:pre;overflow-x:auto;line-height:normal;font-family:Menlo,'DejaVu Sans Mono',consolas,'Courier New',monospace\"><span style=\"color: #a8a8a8; text-decoration-color: #a8a8a8; font-weight: bold\">Decrypted Message: TOIFJAMJSREEDBERRFC </span>\n",
       "</pre>\n"
      ],
      "text/plain": [
       "\u001b[1;38;5;248mDecrypted Message: TOIFJAMJSREEDBERRFC \u001b[0m\n"
      ]
     },
     "metadata": {},
     "output_type": "display_data"
    },
    {
     "data": {
      "text/html": [
       "<pre style=\"white-space:pre;overflow-x:auto;line-height:normal;font-family:Menlo,'DejaVu Sans Mono',consolas,'Courier New',monospace\"><span style=\"color: #008080; text-decoration-color: #008080; font-weight: bold\">Key ABATING:</span>\n",
       "</pre>\n"
      ],
      "text/plain": [
       "\u001b[1;36mKey ABATING:\u001b[0m\n"
      ]
     },
     "metadata": {},
     "output_type": "display_data"
    },
    {
     "data": {
      "text/html": [
       "<pre style=\"white-space:pre;overflow-x:auto;line-height:normal;font-family:Menlo,'DejaVu Sans Mono',consolas,'Courier New',monospace\"><span style=\"color: #a8a8a8; text-decoration-color: #a8a8a8; font-weight: bold\">Decrypted Message: TOIFNVSITYTUQGEZNGK </span>\n",
       "</pre>\n"
      ],
      "text/plain": [
       "\u001b[1;38;5;248mDecrypted Message: TOIFNVSITYTUQGEZNGK \u001b[0m\n"
      ]
     },
     "metadata": {},
     "output_type": "display_data"
    },
    {
     "data": {
      "text/html": [
       "<pre style=\"white-space:pre;overflow-x:auto;line-height:normal;font-family:Menlo,'DejaVu Sans Mono',consolas,'Courier New',monospace\"><span style=\"color: #008080; text-decoration-color: #008080; font-weight: bold\">Key ABBA:</span>\n",
       "</pre>\n"
      ],
      "text/plain": [
       "\u001b[1;36mKey ABBA:\u001b[0m\n"
      ]
     },
     "metadata": {},
     "output_type": "display_data"
    },
    {
     "data": {
      "text/html": [
       "<pre style=\"white-space:pre;overflow-x:auto;line-height:normal;font-family:Menlo,'DejaVu Sans Mono',consolas,'Courier New',monospace\"><span style=\"color: #a8a8a8; text-decoration-color: #a8a8a8; font-weight: bold\">Decrypted Message: TOJMFJNISZBMDBFYNOD </span>\n",
       "</pre>\n"
      ],
      "text/plain": [
       "\u001b[1;38;5;248mDecrypted Message: TOJMFJNISZBMDBFYNOD \u001b[0m\n"
      ]
     },
     "metadata": {},
     "output_type": "display_data"
    },
    {
     "data": {
      "text/html": [
       "<pre style=\"white-space:pre;overflow-x:auto;line-height:normal;font-family:Menlo,'DejaVu Sans Mono',consolas,'Courier New',monospace\"><span style=\"color: #008080; text-decoration-color: #008080; font-weight: bold\">Key ABBE:</span>\n",
       "</pre>\n"
      ],
      "text/plain": [
       "\u001b[1;36mKey ABBE:\u001b[0m\n"
      ]
     },
     "metadata": {},
     "output_type": "display_data"
    },
    {
     "data": {
      "text/html": [
       "<pre style=\"white-space:pre;overflow-x:auto;line-height:normal;font-family:Menlo,'DejaVu Sans Mono',consolas,'Courier New',monospace\"><span style=\"color: #a8a8a8; text-decoration-color: #a8a8a8; font-weight: bold\">Decrypted Message: TOJQFJNMSZBQDBFCNOD </span>\n",
       "</pre>\n"
      ],
      "text/plain": [
       "\u001b[1;38;5;248mDecrypted Message: TOJQFJNMSZBQDBFCNOD \u001b[0m\n"
      ]
     },
     "metadata": {},
     "output_type": "display_data"
    },
    {
     "data": {
      "text/html": [
       "<pre style=\"white-space:pre;overflow-x:auto;line-height:normal;font-family:Menlo,'DejaVu Sans Mono',consolas,'Courier New',monospace\"><span style=\"color: #008080; text-decoration-color: #008080; font-weight: bold\">Key ABBEY:</span>\n",
       "</pre>\n"
      ],
      "text/plain": [
       "\u001b[1;36mKey ABBEY:\u001b[0m\n"
      ]
     },
     "metadata": {},
     "output_type": "display_data"
    },
    {
     "data": {
      "text/html": [
       "<pre style=\"white-space:pre;overflow-x:auto;line-height:normal;font-family:Menlo,'DejaVu Sans Mono',consolas,'Courier New',monospace\"><span style=\"color: #a8a8a8; text-decoration-color: #a8a8a8; font-weight: bold\">Decrypted Message: TOJQDINJWWANEECYOOG </span>\n",
       "</pre>\n"
      ],
      "text/plain": [
       "\u001b[1;38;5;248mDecrypted Message: TOJQDINJWWANEECYOOG \u001b[0m\n"
      ]
     },
     "metadata": {},
     "output_type": "display_data"
    },
    {
     "data": {
      "text/html": [
       "<pre style=\"white-space:pre;overflow-x:auto;line-height:normal;font-family:Menlo,'DejaVu Sans Mono',consolas,'Courier New',monospace\"><span style=\"color: #008080; text-decoration-color: #008080; font-weight: bold\">Key ABBEYS:</span>\n",
       "</pre>\n"
      ],
      "text/plain": [
       "\u001b[1;36mKey ABBEYS:\u001b[0m\n"
      ]
     },
     "metadata": {},
     "output_type": "display_data"
    },
    {
     "data": {
      "text/html": [
       "<pre style=\"white-space:pre;overflow-x:auto;line-height:normal;font-family:Menlo,'DejaVu Sans Mono',consolas,'Courier New',monospace\"><span style=\"color: #a8a8a8; text-decoration-color: #a8a8a8; font-weight: bold\">Decrypted Message: TOJQDAMJTCYEDBFCLFC </span>\n",
       "</pre>\n"
      ],
      "text/plain": [
       "\u001b[1;38;5;248mDecrypted Message: TOJQDAMJTCYEDBFCLFC \u001b[0m\n"
      ]
     },
     "metadata": {},
     "output_type": "display_data"
    },
    {
     "data": {
      "text/html": [
       "<pre style=\"white-space:pre;overflow-x:auto;line-height:normal;font-family:Menlo,'DejaVu Sans Mono',consolas,'Courier New',monospace\"><span style=\"color: #008080; text-decoration-color: #008080; font-weight: bold\">Key ABBOT:</span>\n",
       "</pre>\n"
      ],
      "text/plain": [
       "\u001b[1;36mKey ABBOT:\u001b[0m\n"
      ]
     },
     "metadata": {},
     "output_type": "display_data"
    },
    {
     "data": {
      "text/html": [
       "<pre style=\"white-space:pre;overflow-x:auto;line-height:normal;font-family:Menlo,'DejaVu Sans Mono',consolas,'Courier New',monospace\"><span style=\"color: #a8a8a8; text-decoration-color: #a8a8a8; font-weight: bold\">Decrypted Message: TOJAYINJGRANEOXYOOQ </span>\n",
       "</pre>\n"
      ],
      "text/plain": [
       "\u001b[1;38;5;248mDecrypted Message: TOJAYINJGRANEOXYOOQ \u001b[0m\n"
      ]
     },
     "metadata": {},
     "output_type": "display_data"
    },
    {
     "data": {
      "text/html": [
       "<pre style=\"white-space:pre;overflow-x:auto;line-height:normal;font-family:Menlo,'DejaVu Sans Mono',consolas,'Courier New',monospace\"><span style=\"color: #008080; text-decoration-color: #008080; font-weight: bold\">Key ABBOTS:</span>\n",
       "</pre>\n"
      ],
      "text/plain": [
       "\u001b[1;36mKey ABBOTS:\u001b[0m\n"
      ]
     },
     "metadata": {},
     "output_type": "display_data"
    },
    {
     "data": {
      "text/html": [
       "<pre style=\"white-space:pre;overflow-x:auto;line-height:normal;font-family:Menlo,'DejaVu Sans Mono',consolas,'Courier New',monospace\"><span style=\"color: #a8a8a8; text-decoration-color: #a8a8a8; font-weight: bold\">Decrypted Message: TOJAYAMJTMTEDBFMGFC </span>\n",
       "</pre>\n"
      ],
      "text/plain": [
       "\u001b[1;38;5;248mDecrypted Message: TOJAYAMJTMTEDBFMGFC \u001b[0m\n"
      ]
     },
     "metadata": {},
     "output_type": "display_data"
    },
    {
     "data": {
      "text/html": [
       "<pre style=\"white-space:pre;overflow-x:auto;line-height:normal;font-family:Menlo,'DejaVu Sans Mono',consolas,'Courier New',monospace\"><span style=\"color: #008080; text-decoration-color: #008080; font-weight: bold\">Key ABBOTT:</span>\n",
       "</pre>\n"
      ],
      "text/plain": [
       "\u001b[1;36mKey ABBOTT:\u001b[0m\n"
      ]
     },
     "metadata": {},
     "output_type": "display_data"
    },
    {
     "data": {
      "text/html": [
       "<pre style=\"white-space:pre;overflow-x:auto;line-height:normal;font-family:Menlo,'DejaVu Sans Mono',consolas,'Courier New',monospace\"><span style=\"color: #a8a8a8; text-decoration-color: #a8a8a8; font-weight: bold\">Decrypted Message: TOJAYBMJTMTFDBFMGGC </span>\n",
       "</pre>\n"
      ],
      "text/plain": [
       "\u001b[1;38;5;248mDecrypted Message: TOJAYBMJTMTFDBFMGGC \u001b[0m\n"
      ]
     },
     "metadata": {},
     "output_type": "display_data"
    },
    {
     "data": {
      "text/html": [
       "<pre style=\"white-space:pre;overflow-x:auto;line-height:normal;font-family:Menlo,'DejaVu Sans Mono',consolas,'Courier New',monospace\"><span style=\"color: #008080; text-decoration-color: #008080; font-weight: bold\">Key ABBREVIATE:</span>\n",
       "</pre>\n"
      ],
      "text/plain": [
       "\u001b[1;36mKey ABBREVIATE:\u001b[0m\n"
      ]
     },
     "metadata": {},
     "output_type": "display_data"
    },
    {
     "data": {
      "text/html": [
       "<pre style=\"white-space:pre;overflow-x:auto;line-height:normal;font-family:Menlo,'DejaVu Sans Mono',consolas,'Courier New',monospace\"><span style=\"color: #a8a8a8; text-decoration-color: #a8a8a8; font-weight: bold\">Decrypted Message: TOJDJDUILCANERITVNV </span>\n",
       "</pre>\n"
      ],
      "text/plain": [
       "\u001b[1;38;5;248mDecrypted Message: TOJDJDUILCANERITVNV \u001b[0m\n"
      ]
     },
     "metadata": {},
     "output_type": "display_data"
    },
    {
     "data": {
      "text/html": [
       "<pre style=\"white-space:pre;overflow-x:auto;line-height:normal;font-family:Menlo,'DejaVu Sans Mono',consolas,'Courier New',monospace\"><span style=\"color: #008080; text-decoration-color: #008080; font-weight: bold\">Key ABBREVIATED:</span>\n",
       "</pre>\n"
      ],
      "text/plain": [
       "\u001b[1;36mKey ABBREVIATED:\u001b[0m\n"
      ]
     },
     "metadata": {},
     "output_type": "display_data"
    },
    {
     "data": {
      "text/html": [
       "<pre style=\"white-space:pre;overflow-x:auto;line-height:normal;font-family:Menlo,'DejaVu Sans Mono',consolas,'Courier New',monospace\"><span style=\"color: #a8a8a8; text-decoration-color: #a8a8a8; font-weight: bold\">Decrypted Message: TOJDJDUILCDMEBVCIVC </span>\n",
       "</pre>\n"
      ],
      "text/plain": [
       "\u001b[1;38;5;248mDecrypted Message: TOJDJDUILCDMEBVCIVC \u001b[0m\n"
      ]
     },
     "metadata": {},
     "output_type": "display_data"
    },
    {
     "data": {
      "text/html": [
       "<pre style=\"white-space:pre;overflow-x:auto;line-height:normal;font-family:Menlo,'DejaVu Sans Mono',consolas,'Courier New',monospace\"><span style=\"color: #008080; text-decoration-color: #008080; font-weight: bold\">Key ABBREVIATES:</span>\n",
       "</pre>\n"
      ],
      "text/plain": [
       "\u001b[1;36mKey ABBREVIATES:\u001b[0m\n"
      ]
     },
     "metadata": {},
     "output_type": "display_data"
    },
    {
     "data": {
      "text/html": [
       "<pre style=\"white-space:pre;overflow-x:auto;line-height:normal;font-family:Menlo,'DejaVu Sans Mono',consolas,'Courier New',monospace\"><span style=\"color: #a8a8a8; text-decoration-color: #a8a8a8; font-weight: bold\">Decrypted Message: TOJDJDUILCSMEBVCIVC </span>\n",
       "</pre>\n"
      ],
      "text/plain": [
       "\u001b[1;38;5;248mDecrypted Message: TOJDJDUILCSMEBVCIVC \u001b[0m\n"
      ]
     },
     "metadata": {},
     "output_type": "display_data"
    },
    {
     "data": {
      "text/html": [
       "<pre style=\"white-space:pre;overflow-x:auto;line-height:normal;font-family:Menlo,'DejaVu Sans Mono',consolas,'Courier New',monospace\"><span style=\"color: #008080; text-decoration-color: #008080; font-weight: bold\">Key ABBREVIATING:</span>\n",
       "</pre>\n"
      ],
      "text/plain": [
       "\u001b[1;36mKey ABBREVIATING:\u001b[0m\n"
      ]
     },
     "metadata": {},
     "output_type": "display_data"
    },
    {
     "data": {
      "text/html": [
       "<pre style=\"white-space:pre;overflow-x:auto;line-height:normal;font-family:Menlo,'DejaVu Sans Mono',consolas,'Courier New',monospace\"><span style=\"color: #a8a8a8; text-decoration-color: #a8a8a8; font-weight: bold\">Decrypted Message: TOJDJDUILGNSDBFPRIK </span>\n",
       "</pre>\n"
      ],
      "text/plain": [
       "\u001b[1;38;5;248mDecrypted Message: TOJDJDUILGNSDBFPRIK \u001b[0m\n"
      ]
     },
     "metadata": {},
     "output_type": "display_data"
    },
    {
     "data": {
      "text/html": [
       "<pre style=\"white-space:pre;overflow-x:auto;line-height:normal;font-family:Menlo,'DejaVu Sans Mono',consolas,'Courier New',monospace\"><span style=\"color: #008080; text-decoration-color: #008080; font-weight: bold\">Key ABBREVIATION:</span>\n",
       "</pre>\n"
      ],
      "text/plain": [
       "\u001b[1;36mKey ABBREVIATION:\u001b[0m\n"
      ]
     },
     "metadata": {},
     "output_type": "display_data"
    },
    {
     "data": {
      "text/html": [
       "<pre style=\"white-space:pre;overflow-x:auto;line-height:normal;font-family:Menlo,'DejaVu Sans Mono',consolas,'Courier New',monospace\"><span style=\"color: #a8a8a8; text-decoration-color: #a8a8a8; font-weight: bold\">Decrypted Message: TOJDJDUILGOZDBFPRIK </span>\n",
       "</pre>\n"
      ],
      "text/plain": [
       "\u001b[1;38;5;248mDecrypted Message: TOJDJDUILGOZDBFPRIK \u001b[0m\n"
      ]
     },
     "metadata": {},
     "output_type": "display_data"
    },
    {
     "data": {
      "text/html": [
       "<pre style=\"white-space:pre;overflow-x:auto;line-height:normal;font-family:Menlo,'DejaVu Sans Mono',consolas,'Courier New',monospace\"><span style=\"color: #008080; text-decoration-color: #008080; font-weight: bold\">Key ABBREVIATIONS:</span>\n",
       "</pre>\n"
      ],
      "text/plain": [
       "\u001b[1;36mKey ABBREVIATIONS:\u001b[0m\n"
      ]
     },
     "metadata": {},
     "output_type": "display_data"
    },
    {
     "data": {
      "text/html": [
       "<pre style=\"white-space:pre;overflow-x:auto;line-height:normal;font-family:Menlo,'DejaVu Sans Mono',consolas,'Courier New',monospace\"><span style=\"color: #a8a8a8; text-decoration-color: #a8a8a8; font-weight: bold\">Decrypted Message: TOJDJDUILGOZVAFZERX </span>\n",
       "</pre>\n"
      ],
      "text/plain": [
       "\u001b[1;38;5;248mDecrypted Message: TOJDJDUILGOZVAFZERX \u001b[0m\n"
      ]
     },
     "metadata": {},
     "output_type": "display_data"
    },
    {
     "data": {
      "text/html": [
       "<pre style=\"white-space:pre;overflow-x:auto;line-height:normal;font-family:Menlo,'DejaVu Sans Mono',consolas,'Courier New',monospace\"><span style=\"color: #008080; text-decoration-color: #008080; font-weight: bold\">Key ABBY:</span>\n",
       "</pre>\n"
      ],
      "text/plain": [
       "\u001b[1;36mKey ABBY:\u001b[0m\n"
      ]
     },
     "metadata": {},
     "output_type": "display_data"
    },
    {
     "data": {
      "text/html": [
       "<pre style=\"white-space:pre;overflow-x:auto;line-height:normal;font-family:Menlo,'DejaVu Sans Mono',consolas,'Courier New',monospace\"><span style=\"color: #a8a8a8; text-decoration-color: #a8a8a8; font-weight: bold\">Decrypted Message: TOJKFJNGSZBKDBFWNOD </span>\n",
       "</pre>\n"
      ],
      "text/plain": [
       "\u001b[1;38;5;248mDecrypted Message: TOJKFJNGSZBKDBFWNOD \u001b[0m\n"
      ]
     },
     "metadata": {},
     "output_type": "display_data"
    },
    {
     "data": {
      "text/html": [
       "<pre style=\"white-space:pre;overflow-x:auto;line-height:normal;font-family:Menlo,'DejaVu Sans Mono',consolas,'Courier New',monospace\"><span style=\"color: #008080; text-decoration-color: #008080; font-weight: bold\">Key ABDOMEN:</span>\n",
       "</pre>\n"
      ],
      "text/plain": [
       "\u001b[1;36mKey ABDOMEN:\u001b[0m\n"
      ]
     },
     "metadata": {},
     "output_type": "display_data"
    },
    {
     "data": {
      "text/html": [
       "<pre style=\"white-space:pre;overflow-x:auto;line-height:normal;font-family:Menlo,'DejaVu Sans Mono',consolas,'Courier New',monospace\"><span style=\"color: #a8a8a8; text-decoration-color: #a8a8a8; font-weight: bold\">Decrypted Message: TOLARMZITBOYHNEZQBO </span>\n",
       "</pre>\n"
      ],
      "text/plain": [
       "\u001b[1;38;5;248mDecrypted Message: TOLARMZITBOYHNEZQBO \u001b[0m\n"
      ]
     },
     "metadata": {},
     "output_type": "display_data"
    },
    {
     "data": {
      "text/html": [
       "<pre style=\"white-space:pre;overflow-x:auto;line-height:normal;font-family:Menlo,'DejaVu Sans Mono',consolas,'Courier New',monospace\"><span style=\"color: #008080; text-decoration-color: #008080; font-weight: bold\">Key ABDOMENS:</span>\n",
       "</pre>\n"
      ],
      "text/plain": [
       "\u001b[1;36mKey ABDOMENS:\u001b[0m\n"
      ]
     },
     "metadata": {},
     "output_type": "display_data"
    },
    {
     "data": {
      "text/html": [
       "<pre style=\"white-space:pre;overflow-x:auto;line-height:normal;font-family:Menlo,'DejaVu Sans Mono',consolas,'Courier New',monospace\"><span style=\"color: #a8a8a8; text-decoration-color: #a8a8a8; font-weight: bold\">Decrypted Message: TOLARMZASZDAPERQNOF </span>\n",
       "</pre>\n"
      ],
      "text/plain": [
       "\u001b[1;38;5;248mDecrypted Message: TOLARMZASZDAPERQNOF \u001b[0m\n"
      ]
     },
     "metadata": {},
     "output_type": "display_data"
    },
    {
     "data": {
      "text/html": [
       "<pre style=\"white-space:pre;overflow-x:auto;line-height:normal;font-family:Menlo,'DejaVu Sans Mono',consolas,'Courier New',monospace\"><span style=\"color: #008080; text-decoration-color: #008080; font-weight: bold\">Key ABDOMINAL:</span>\n",
       "</pre>\n"
      ],
      "text/plain": [
       "\u001b[1;36mKey ABDOMINAL:\u001b[0m\n"
      ]
     },
     "metadata": {},
     "output_type": "display_data"
    },
    {
     "data": {
      "text/html": [
       "<pre style=\"white-space:pre;overflow-x:auto;line-height:normal;font-family:Menlo,'DejaVu Sans Mono',consolas,'Courier New',monospace\"><span style=\"color: #a8a8a8; text-decoration-color: #a8a8a8; font-weight: bold\">Decrypted Message: TOLARQZIDYBPRMMLNYC </span>\n",
       "</pre>\n"
      ],
      "text/plain": [
       "\u001b[1;38;5;248mDecrypted Message: TOLARQZIDYBPRMMLNYC \u001b[0m\n"
      ]
     },
     "metadata": {},
     "output_type": "display_data"
    },
    {
     "data": {
      "text/html": [
       "<pre style=\"white-space:pre;overflow-x:auto;line-height:normal;font-family:Menlo,'DejaVu Sans Mono',consolas,'Courier New',monospace\"><span style=\"color: #008080; text-decoration-color: #008080; font-weight: bold\">Key ABDUCT:</span>\n",
       "</pre>\n"
      ],
      "text/plain": [
       "\u001b[1;36mKey ABDUCT:\u001b[0m\n"
      ]
     },
     "metadata": {},
     "output_type": "display_data"
    },
    {
     "data": {
      "text/html": [
       "<pre style=\"white-space:pre;overflow-x:auto;line-height:normal;font-family:Menlo,'DejaVu Sans Mono',consolas,'Courier New',monospace\"><span style=\"color: #a8a8a8; text-decoration-color: #a8a8a8; font-weight: bold\">Decrypted Message: TOLGHBMJVSCFDBHSPGC </span>\n",
       "</pre>\n"
      ],
      "text/plain": [
       "\u001b[1;38;5;248mDecrypted Message: TOLGHBMJVSCFDBHSPGC \u001b[0m\n"
      ]
     },
     "metadata": {},
     "output_type": "display_data"
    },
    {
     "data": {
      "text/html": [
       "<pre style=\"white-space:pre;overflow-x:auto;line-height:normal;font-family:Menlo,'DejaVu Sans Mono',consolas,'Courier New',monospace\"><span style=\"color: #008080; text-decoration-color: #008080; font-weight: bold\">Key ABDUCTED:</span>\n",
       "</pre>\n"
      ],
      "text/plain": [
       "\u001b[1;36mKey ABDUCTED:\u001b[0m\n"
      ]
     },
     "metadata": {},
     "output_type": "display_data"
    },
    {
     "data": {
      "text/html": [
       "<pre style=\"white-space:pre;overflow-x:auto;line-height:normal;font-family:Menlo,'DejaVu Sans Mono',consolas,'Courier New',monospace\"><span style=\"color: #a8a8a8; text-decoration-color: #a8a8a8; font-weight: bold\">Decrypted Message: TOLGHBQLSZDGFTIBNOF </span>\n",
       "</pre>\n"
      ],
      "text/plain": [
       "\u001b[1;38;5;248mDecrypted Message: TOLGHBQLSZDGFTIBNOF \u001b[0m\n"
      ]
     },
     "metadata": {},
     "output_type": "display_data"
    },
    {
     "data": {
      "text/html": [
       "<pre style=\"white-space:pre;overflow-x:auto;line-height:normal;font-family:Menlo,'DejaVu Sans Mono',consolas,'Courier New',monospace\"><span style=\"color: #008080; text-decoration-color: #008080; font-weight: bold\">Key ABDUCTION:</span>\n",
       "</pre>\n"
      ],
      "text/plain": [
       "\u001b[1;36mKey ABDUCTION:\u001b[0m\n"
      ]
     },
     "metadata": {},
     "output_type": "display_data"
    },
    {
     "data": {
      "text/html": [
       "<pre style=\"white-space:pre;overflow-x:auto;line-height:normal;font-family:Menlo,'DejaVu Sans Mono',consolas,'Courier New',monospace\"><span style=\"color: #a8a8a8; text-decoration-color: #a8a8a8; font-weight: bold\">Decrypted Message: TOLGHBUWFYBPXCXGBAC </span>\n",
       "</pre>\n"
      ],
      "text/plain": [
       "\u001b[1;38;5;248mDecrypted Message: TOLGHBUWFYBPXCXGBAC \u001b[0m\n"
      ]
     },
     "metadata": {},
     "output_type": "display_data"
    },
    {
     "data": {
      "text/html": [
       "<pre style=\"white-space:pre;overflow-x:auto;line-height:normal;font-family:Menlo,'DejaVu Sans Mono',consolas,'Courier New',monospace\"><span style=\"color: #008080; text-decoration-color: #008080; font-weight: bold\">Key ABDUCTIONS:</span>\n",
       "</pre>\n"
      ],
      "text/plain": [
       "\u001b[1;36mKey ABDUCTIONS:\u001b[0m\n"
      ]
     },
     "metadata": {},
     "output_type": "display_data"
    },
    {
     "data": {
      "text/html": [
       "<pre style=\"white-space:pre;overflow-x:auto;line-height:normal;font-family:Menlo,'DejaVu Sans Mono',consolas,'Courier New',monospace\"><span style=\"color: #a8a8a8; text-decoration-color: #a8a8a8; font-weight: bold\">Decrypted Message: TOLGHBUWFQANGUGRVBP </span>\n",
       "</pre>\n"
      ],
      "text/plain": [
       "\u001b[1;38;5;248mDecrypted Message: TOLGHBUWFQANGUGRVBP \u001b[0m\n"
      ]
     },
     "metadata": {},
     "output_type": "display_data"
    },
    {
     "data": {
      "text/html": [
       "<pre style=\"white-space:pre;overflow-x:auto;line-height:normal;font-family:Menlo,'DejaVu Sans Mono',consolas,'Courier New',monospace\"><span style=\"color: #008080; text-decoration-color: #008080; font-weight: bold\">Key ABDUCTOR:</span>\n",
       "</pre>\n"
      ],
      "text/plain": [
       "\u001b[1;36mKey ABDUCTOR:\u001b[0m\n"
      ]
     },
     "metadata": {},
     "output_type": "display_data"
    },
    {
     "data": {
      "text/html": [
       "<pre style=\"white-space:pre;overflow-x:auto;line-height:normal;font-family:Menlo,'DejaVu Sans Mono',consolas,'Courier New',monospace\"><span style=\"color: #a8a8a8; text-decoration-color: #a8a8a8; font-weight: bold\">Decrypted Message: TOLGHBAZSZDGFTSPNOF </span>\n",
       "</pre>\n"
      ],
      "text/plain": [
       "\u001b[1;38;5;248mDecrypted Message: TOLGHBAZSZDGFTSPNOF \u001b[0m\n"
      ]
     },
     "metadata": {},
     "output_type": "display_data"
    },
    {
     "data": {
      "text/html": [
       "<pre style=\"white-space:pre;overflow-x:auto;line-height:normal;font-family:Menlo,'DejaVu Sans Mono',consolas,'Courier New',monospace\"><span style=\"color: #008080; text-decoration-color: #008080; font-weight: bold\">Key ABDUCTORS:</span>\n",
       "</pre>\n"
      ],
      "text/plain": [
       "\u001b[1;36mKey ABDUCTORS:\u001b[0m\n"
      ]
     },
     "metadata": {},
     "output_type": "display_data"
    },
    {
     "data": {
      "text/html": [
       "<pre style=\"white-space:pre;overflow-x:auto;line-height:normal;font-family:Menlo,'DejaVu Sans Mono',consolas,'Courier New',monospace\"><span style=\"color: #a8a8a8; text-decoration-color: #a8a8a8; font-weight: bold\">Decrypted Message: TOLGHBAZKYBPXCXMEFC </span>\n",
       "</pre>\n"
      ],
      "text/plain": [
       "\u001b[1;38;5;248mDecrypted Message: TOLGHBAZKYBPXCXMEFC \u001b[0m\n"
      ]
     },
     "metadata": {},
     "output_type": "display_data"
    },
    {
     "data": {
      "text/html": [
       "<pre style=\"white-space:pre;overflow-x:auto;line-height:normal;font-family:Menlo,'DejaVu Sans Mono',consolas,'Courier New',monospace\"><span style=\"color: #008080; text-decoration-color: #008080; font-weight: bold\">Key ABDUCTS:</span>\n",
       "</pre>\n"
      ],
      "text/plain": [
       "\u001b[1;36mKey ABDUCTS:\u001b[0m\n"
      ]
     },
     "metadata": {},
     "output_type": "display_data"
    },
    {
     "data": {
      "text/html": [
       "<pre style=\"white-space:pre;overflow-x:auto;line-height:normal;font-family:Menlo,'DejaVu Sans Mono',consolas,'Courier New',monospace\"><span style=\"color: #a8a8a8; text-decoration-color: #a8a8a8; font-weight: bold\">Decrypted Message: TOLGHBEITBUOWSEZQHE </span>\n",
       "</pre>\n"
      ],
      "text/plain": [
       "\u001b[1;38;5;248mDecrypted Message: TOLGHBEITBUOWSEZQHE \u001b[0m\n"
      ]
     },
     "metadata": {},
     "output_type": "display_data"
    },
    {
     "data": {
      "text/html": [
       "<pre style=\"white-space:pre;overflow-x:auto;line-height:normal;font-family:Menlo,'DejaVu Sans Mono',consolas,'Courier New',monospace\"><span style=\"color: #008080; text-decoration-color: #008080; font-weight: bold\">Key ABE:</span>\n",
       "</pre>\n"
      ],
      "text/plain": [
       "\u001b[1;36mKey ABE:\u001b[0m\n"
      ]
     },
     "metadata": {},
     "output_type": "display_data"
    },
    {
     "data": {
      "text/html": [
       "<pre style=\"white-space:pre;overflow-x:auto;line-height:normal;font-family:Menlo,'DejaVu Sans Mono',consolas,'Courier New',monospace\"><span style=\"color: #a8a8a8; text-decoration-color: #a8a8a8; font-weight: bold\">Decrypted Message: TOMMGMMJWYBQDBIYORC </span>\n",
       "</pre>\n"
      ],
      "text/plain": [
       "\u001b[1;38;5;248mDecrypted Message: TOMMGMMJWYBQDBIYORC \u001b[0m\n"
      ]
     },
     "metadata": {},
     "output_type": "display_data"
    },
    {
     "data": {
      "text/html": [
       "<pre style=\"white-space:pre;overflow-x:auto;line-height:normal;font-family:Menlo,'DejaVu Sans Mono',consolas,'Courier New',monospace\"><span style=\"color: #008080; text-decoration-color: #008080; font-weight: bold\">Key ABED:</span>\n",
       "</pre>\n"
      ],
      "text/plain": [
       "\u001b[1;36mKey ABED:\u001b[0m\n"
      ]
     },
     "metadata": {},
     "output_type": "display_data"
    },
    {
     "data": {
      "text/html": [
       "<pre style=\"white-space:pre;overflow-x:auto;line-height:normal;font-family:Menlo,'DejaVu Sans Mono',consolas,'Courier New',monospace\"><span style=\"color: #a8a8a8; text-decoration-color: #a8a8a8; font-weight: bold\">Decrypted Message: TOMPFJQLSZEPDBIBNOG </span>\n",
       "</pre>\n"
      ],
      "text/plain": [
       "\u001b[1;38;5;248mDecrypted Message: TOMPFJQLSZEPDBIBNOG \u001b[0m\n"
      ]
     },
     "metadata": {},
     "output_type": "display_data"
    },
    {
     "data": {
      "text/html": [
       "<pre style=\"white-space:pre;overflow-x:auto;line-height:normal;font-family:Menlo,'DejaVu Sans Mono',consolas,'Courier New',monospace\"><span style=\"color: #008080; text-decoration-color: #008080; font-weight: bold\">Key ABEL:</span>\n",
       "</pre>\n"
      ],
      "text/plain": [
       "\u001b[1;36mKey ABEL:\u001b[0m\n"
      ]
     },
     "metadata": {},
     "output_type": "display_data"
    },
    {
     "data": {
      "text/html": [
       "<pre style=\"white-space:pre;overflow-x:auto;line-height:normal;font-family:Menlo,'DejaVu Sans Mono',consolas,'Courier New',monospace\"><span style=\"color: #a8a8a8; text-decoration-color: #a8a8a8; font-weight: bold\">Decrypted Message: TOMXFJQTSZEXDBIJNOG </span>\n",
       "</pre>\n"
      ],
      "text/plain": [
       "\u001b[1;38;5;248mDecrypted Message: TOMXFJQTSZEXDBIJNOG \u001b[0m\n"
      ]
     },
     "metadata": {},
     "output_type": "display_data"
    },
    {
     "data": {
      "text/html": [
       "<pre style=\"white-space:pre;overflow-x:auto;line-height:normal;font-family:Menlo,'DejaVu Sans Mono',consolas,'Courier New',monospace\"><span style=\"color: #008080; text-decoration-color: #008080; font-weight: bold\">Key ABELIAN:</span>\n",
       "</pre>\n"
      ],
      "text/plain": [
       "\u001b[1;36mKey ABELIAN:\u001b[0m\n"
      ]
     },
     "metadata": {},
     "output_type": "display_data"
    },
    {
     "data": {
      "text/html": [
       "<pre style=\"white-space:pre;overflow-x:auto;line-height:normal;font-family:Menlo,'DejaVu Sans Mono',consolas,'Courier New',monospace\"><span style=\"color: #a8a8a8; text-decoration-color: #a8a8a8; font-weight: bold\">Decrypted Message: TOMXNIZITCLUDNEZRYK </span>\n",
       "</pre>\n"
      ],
      "text/plain": [
       "\u001b[1;38;5;248mDecrypted Message: TOMXNIZITCLUDNEZRYK \u001b[0m\n"
      ]
     },
     "metadata": {},
     "output_type": "display_data"
    },
    {
     "data": {
      "text/html": [
       "<pre style=\"white-space:pre;overflow-x:auto;line-height:normal;font-family:Menlo,'DejaVu Sans Mono',consolas,'Courier New',monospace\"><span style=\"color: #008080; text-decoration-color: #008080; font-weight: bold\">Key ABELSON:</span>\n",
       "</pre>\n"
      ],
      "text/plain": [
       "\u001b[1;36mKey ABELSON:\u001b[0m\n"
      ]
     },
     "metadata": {},
     "output_type": "display_data"
    },
    {
     "data": {
      "text/html": [
       "<pre style=\"white-space:pre;overflow-x:auto;line-height:normal;font-family:Menlo,'DejaVu Sans Mono',consolas,'Courier New',monospace\"><span style=\"color: #a8a8a8; text-decoration-color: #a8a8a8; font-weight: bold\">Decrypted Message: TOMXXWZITCLERNEZRYU </span>\n",
       "</pre>\n"
      ],
      "text/plain": [
       "\u001b[1;38;5;248mDecrypted Message: TOMXXWZITCLERNEZRYU \u001b[0m\n"
      ]
     },
     "metadata": {},
     "output_type": "display_data"
    },
    {
     "data": {
      "text/html": [
       "<pre style=\"white-space:pre;overflow-x:auto;line-height:normal;font-family:Menlo,'DejaVu Sans Mono',consolas,'Courier New',monospace\"><span style=\"color: #008080; text-decoration-color: #008080; font-weight: bold\">Key ABERDEEN:</span>\n",
       "</pre>\n"
      ],
      "text/plain": [
       "\u001b[1;36mKey ABERDEEN:\u001b[0m\n"
      ]
     },
     "metadata": {},
     "output_type": "display_data"
    },
    {
     "data": {
      "text/html": [
       "<pre style=\"white-space:pre;overflow-x:auto;line-height:normal;font-family:Menlo,'DejaVu Sans Mono',consolas,'Courier New',monospace\"><span style=\"color: #a8a8a8; text-decoration-color: #a8a8a8; font-weight: bold\">Decrypted Message: TOMDIMQVSZEDGEILNOG </span>\n",
       "</pre>\n"
      ],
      "text/plain": [
       "\u001b[1;38;5;248mDecrypted Message: TOMDIMQVSZEDGEILNOG \u001b[0m\n"
      ]
     },
     "metadata": {},
     "output_type": "display_data"
    },
    {
     "data": {
      "text/html": [
       "<pre style=\"white-space:pre;overflow-x:auto;line-height:normal;font-family:Menlo,'DejaVu Sans Mono',consolas,'Courier New',monospace\"><span style=\"color: #008080; text-decoration-color: #008080; font-weight: bold\">Key ABERNATHY:</span>\n",
       "</pre>\n"
      ],
      "text/plain": [
       "\u001b[1;36mKey ABERNATHY:\u001b[0m\n"
      ]
     },
     "metadata": {},
     "output_type": "display_data"
    },
    {
     "data": {
      "text/html": [
       "<pre style=\"white-space:pre;overflow-x:auto;line-height:normal;font-family:Menlo,'DejaVu Sans Mono',consolas,'Courier New',monospace\"><span style=\"color: #a8a8a8; text-decoration-color: #a8a8a8; font-weight: bold\">Decrypted Message: TOMDSIFPQYBQUNERULC </span>\n",
       "</pre>\n"
      ],
      "text/plain": [
       "\u001b[1;38;5;248mDecrypted Message: TOMDSIFPQYBQUNERULC \u001b[0m\n"
      ]
     },
     "metadata": {},
     "output_type": "display_data"
    },
    {
     "data": {
      "text/html": [
       "<pre style=\"white-space:pre;overflow-x:auto;line-height:normal;font-family:Menlo,'DejaVu Sans Mono',consolas,'Courier New',monospace\"><span style=\"color: #008080; text-decoration-color: #008080; font-weight: bold\">Key ABERRANT:</span>\n",
       "</pre>\n"
      ],
      "text/plain": [
       "\u001b[1;36mKey ABERRANT:\u001b[0m\n"
      ]
     },
     "metadata": {},
     "output_type": "display_data"
    },
    {
     "data": {
      "text/html": [
       "<pre style=\"white-space:pre;overflow-x:auto;line-height:normal;font-family:Menlo,'DejaVu Sans Mono',consolas,'Courier New',monospace\"><span style=\"color: #a8a8a8; text-decoration-color: #a8a8a8; font-weight: bold\">Decrypted Message: TOMDWIZBSZEDUARRNOG </span>\n",
       "</pre>\n"
      ],
      "text/plain": [
       "\u001b[1;38;5;248mDecrypted Message: TOMDWIZBSZEDUARRNOG \u001b[0m\n"
      ]
     },
     "metadata": {},
     "output_type": "display_data"
    },
    {
     "data": {
      "text/html": [
       "<pre style=\"white-space:pre;overflow-x:auto;line-height:normal;font-family:Menlo,'DejaVu Sans Mono',consolas,'Courier New',monospace\"><span style=\"color: #008080; text-decoration-color: #008080; font-weight: bold\">Key ABERRATION:</span>\n",
       "</pre>\n"
      ],
      "text/plain": [
       "\u001b[1;36mKey ABERRATION:\u001b[0m\n"
      ]
     },
     "metadata": {},
     "output_type": "display_data"
    },
    {
     "data": {
      "text/html": [
       "<pre style=\"white-space:pre;overflow-x:auto;line-height:normal;font-family:Menlo,'DejaVu Sans Mono',consolas,'Courier New',monospace\"><span style=\"color: #a8a8a8; text-decoration-color: #a8a8a8; font-weight: bold\">Decrypted Message: TOMDWIFQGLANHRVYGVQ </span>\n",
       "</pre>\n"
      ],
      "text/plain": [
       "\u001b[1;38;5;248mDecrypted Message: TOMDWIFQGLANHRVYGVQ \u001b[0m\n"
      ]
     },
     "metadata": {},
     "output_type": "display_data"
    },
    {
     "data": {
      "text/html": [
       "<pre style=\"white-space:pre;overflow-x:auto;line-height:normal;font-family:Menlo,'DejaVu Sans Mono',consolas,'Courier New',monospace\"><span style=\"color: #008080; text-decoration-color: #008080; font-weight: bold\">Key ABERRATIONS:</span>\n",
       "</pre>\n"
      ],
      "text/plain": [
       "\u001b[1;36mKey ABERRATIONS:\u001b[0m\n"
      ]
     },
     "metadata": {},
     "output_type": "display_data"
    },
    {
     "data": {
      "text/html": [
       "<pre style=\"white-space:pre;overflow-x:auto;line-height:normal;font-family:Menlo,'DejaVu Sans Mono',consolas,'Courier New',monospace\"><span style=\"color: #a8a8a8; text-decoration-color: #a8a8a8; font-weight: bold\">Decrypted Message: TOMDWIFQGLSMEEVPNGK </span>\n",
       "</pre>\n"
      ],
      "text/plain": [
       "\u001b[1;38;5;248mDecrypted Message: TOMDWIFQGLSMEEVPNGK \u001b[0m\n"
      ]
     },
     "metadata": {},
     "output_type": "display_data"
    },
    {
     "data": {
      "text/html": [
       "<pre style=\"white-space:pre;overflow-x:auto;line-height:normal;font-family:Menlo,'DejaVu Sans Mono',consolas,'Courier New',monospace\"><span style=\"color: #008080; text-decoration-color: #008080; font-weight: bold\">Key ABET:</span>\n",
       "</pre>\n"
      ],
      "text/plain": [
       "\u001b[1;36mKey ABET:\u001b[0m\n"
      ]
     },
     "metadata": {},
     "output_type": "display_data"
    },
    {
     "data": {
      "text/html": [
       "<pre style=\"white-space:pre;overflow-x:auto;line-height:normal;font-family:Menlo,'DejaVu Sans Mono',consolas,'Courier New',monospace\"><span style=\"color: #a8a8a8; text-decoration-color: #a8a8a8; font-weight: bold\">Decrypted Message: TOMFFJQBSZEFDBIRNOG </span>\n",
       "</pre>\n"
      ],
      "text/plain": [
       "\u001b[1;38;5;248mDecrypted Message: TOMFFJQBSZEFDBIRNOG \u001b[0m\n"
      ]
     },
     "metadata": {},
     "output_type": "display_data"
    },
    {
     "data": {
      "text/html": [
       "<pre style=\"white-space:pre;overflow-x:auto;line-height:normal;font-family:Menlo,'DejaVu Sans Mono',consolas,'Courier New',monospace\"><span style=\"color: #008080; text-decoration-color: #008080; font-weight: bold\">Key ABETS:</span>\n",
       "</pre>\n"
      ],
      "text/plain": [
       "\u001b[1;36mKey ABETS:\u001b[0m\n"
      ]
     },
     "metadata": {},
     "output_type": "display_data"
    },
    {
     "data": {
      "text/html": [
       "<pre style=\"white-space:pre;overflow-x:auto;line-height:normal;font-family:Menlo,'DejaVu Sans Mono',consolas,'Courier New',monospace\"><span style=\"color: #a8a8a8; text-decoration-color: #a8a8a8; font-weight: bold\">Decrypted Message: TOMFXINMLQANHTWYORV </span>\n",
       "</pre>\n"
      ],
      "text/plain": [
       "\u001b[1;38;5;248mDecrypted Message: TOMFXINMLQANHTWYORV \u001b[0m\n"
      ]
     },
     "metadata": {},
     "output_type": "display_data"
    },
    {
     "data": {
      "text/html": [
       "<pre style=\"white-space:pre;overflow-x:auto;line-height:normal;font-family:Menlo,'DejaVu Sans Mono',consolas,'Courier New',monospace\"><span style=\"color: #008080; text-decoration-color: #008080; font-weight: bold\">Key ABETTED:</span>\n",
       "</pre>\n"
      ],
      "text/plain": [
       "\u001b[1;36mKey ABETTED:\u001b[0m\n"
      ]
     },
     "metadata": {},
     "output_type": "display_data"
    },
    {
     "data": {
      "text/html": [
       "<pre style=\"white-space:pre;overflow-x:auto;line-height:normal;font-family:Menlo,'DejaVu Sans Mono',consolas,'Courier New',monospace\"><span style=\"color: #a8a8a8; text-decoration-color: #a8a8a8; font-weight: bold\">Decrypted Message: TOMFYMPITCTFHDEZRGV </span>\n",
       "</pre>\n"
      ],
      "text/plain": [
       "\u001b[1;38;5;248mDecrypted Message: TOMFYMPITCTFHDEZRGV \u001b[0m\n"
      ]
     },
     "metadata": {},
     "output_type": "display_data"
    },
    {
     "data": {
      "text/html": [
       "<pre style=\"white-space:pre;overflow-x:auto;line-height:normal;font-family:Menlo,'DejaVu Sans Mono',consolas,'Courier New',monospace\"><span style=\"color: #008080; text-decoration-color: #008080; font-weight: bold\">Key ABETTER:</span>\n",
       "</pre>\n"
      ],
      "text/plain": [
       "\u001b[1;36mKey ABETTER:\u001b[0m\n"
      ]
     },
     "metadata": {},
     "output_type": "display_data"
    },
    {
     "data": {
      "text/html": [
       "<pre style=\"white-space:pre;overflow-x:auto;line-height:normal;font-family:Menlo,'DejaVu Sans Mono',consolas,'Courier New',monospace\"><span style=\"color: #a8a8a8; text-decoration-color: #a8a8a8; font-weight: bold\">Decrypted Message: TOMFYMDITCTFHREZRGV </span>\n",
       "</pre>\n"
      ],
      "text/plain": [
       "\u001b[1;38;5;248mDecrypted Message: TOMFYMDITCTFHREZRGV \u001b[0m\n"
      ]
     },
     "metadata": {},
     "output_type": "display_data"
    },
    {
     "data": {
      "text/html": [
       "<pre style=\"white-space:pre;overflow-x:auto;line-height:normal;font-family:Menlo,'DejaVu Sans Mono',consolas,'Courier New',monospace\"><span style=\"color: #008080; text-decoration-color: #008080; font-weight: bold\">Key ABETTING:</span>\n",
       "</pre>\n"
      ],
      "text/plain": [
       "\u001b[1;36mKey ABETTING:\u001b[0m\n"
      ]
     },
     "metadata": {},
     "output_type": "display_data"
    },
    {
     "data": {
      "text/html": [
       "<pre style=\"white-space:pre;overflow-x:auto;line-height:normal;font-family:Menlo,'DejaVu Sans Mono',consolas,'Courier New',monospace\"><span style=\"color: #a8a8a8; text-decoration-color: #a8a8a8; font-weight: bold\">Decrypted Message: TOMFYQZOSZEFWIRENOG </span>\n",
       "</pre>\n"
      ],
      "text/plain": [
       "\u001b[1;38;5;248mDecrypted Message: TOMFYQZOSZEFWIRENOG \u001b[0m\n"
      ]
     },
     "metadata": {},
     "output_type": "display_data"
    },
    {
     "data": {
      "text/html": [
       "<pre style=\"white-space:pre;overflow-x:auto;line-height:normal;font-family:Menlo,'DejaVu Sans Mono',consolas,'Courier New',monospace\"><span style=\"color: #008080; text-decoration-color: #008080; font-weight: bold\">Key ABEYANCE:</span>\n",
       "</pre>\n"
      ],
      "text/plain": [
       "\u001b[1;36mKey ABEYANCE:\u001b[0m\n"
      ]
     },
     "metadata": {},
     "output_type": "display_data"
    },
    {
     "data": {
      "text/html": [
       "<pre style=\"white-space:pre;overflow-x:auto;line-height:normal;font-family:Menlo,'DejaVu Sans Mono',consolas,'Courier New',monospace\"><span style=\"color: #a8a8a8; text-decoration-color: #a8a8a8; font-weight: bold\">Decrypted Message: TOMKFVOMSZEKDNGCNOG </span>\n",
       "</pre>\n"
      ],
      "text/plain": [
       "\u001b[1;38;5;248mDecrypted Message: TOMKFVOMSZEKDNGCNOG \u001b[0m\n"
      ]
     },
     "metadata": {},
     "output_type": "display_data"
    },
    {
     "data": {
      "text/html": [
       "<pre style=\"white-space:pre;overflow-x:auto;line-height:normal;font-family:Menlo,'DejaVu Sans Mono',consolas,'Courier New',monospace\"><span style=\"color: #008080; text-decoration-color: #008080; font-weight: bold\">Key ABHOR:</span>\n",
       "</pre>\n"
      ],
      "text/plain": [
       "\u001b[1;36mKey ABHOR:\u001b[0m\n"
      ]
     },
     "metadata": {},
     "output_type": "display_data"
    },
    {
     "data": {
      "text/html": [
       "<pre style=\"white-space:pre;overflow-x:auto;line-height:normal;font-family:Menlo,'DejaVu Sans Mono',consolas,'Courier New',monospace\"><span style=\"color: #a8a8a8; text-decoration-color: #a8a8a8; font-weight: bold\">Decrypted Message: TOPAWINPGPANKOVYOUQ </span>\n",
       "</pre>\n"
      ],
      "text/plain": [
       "\u001b[1;38;5;248mDecrypted Message: TOPAWINPGPANKOVYOUQ \u001b[0m\n"
      ]
     },
     "metadata": {},
     "output_type": "display_data"
    },
    {
     "data": {
      "text/html": [
       "<pre style=\"white-space:pre;overflow-x:auto;line-height:normal;font-family:Menlo,'DejaVu Sans Mono',consolas,'Courier New',monospace\"><span style=\"color: #008080; text-decoration-color: #008080; font-weight: bold\">Key ABHORRED:</span>\n",
       "</pre>\n"
      ],
      "text/plain": [
       "\u001b[1;36mKey ABHORRED:\u001b[0m\n"
      ]
     },
     "metadata": {},
     "output_type": "display_data"
    },
    {
     "data": {
      "text/html": [
       "<pre style=\"white-space:pre;overflow-x:auto;line-height:normal;font-family:Menlo,'DejaVu Sans Mono',consolas,'Courier New',monospace\"><span style=\"color: #a8a8a8; text-decoration-color: #a8a8a8; font-weight: bold\">Decrypted Message: TOPAWZQLSZHAURIBNOJ </span>\n",
       "</pre>\n"
      ],
      "text/plain": [
       "\u001b[1;38;5;248mDecrypted Message: TOPAWZQLSZHAURIBNOJ \u001b[0m\n"
      ]
     },
     "metadata": {},
     "output_type": "display_data"
    },
    {
     "data": {
      "text/html": [
       "<pre style=\"white-space:pre;overflow-x:auto;line-height:normal;font-family:Menlo,'DejaVu Sans Mono',consolas,'Courier New',monospace\"><span style=\"color: #008080; text-decoration-color: #008080; font-weight: bold\">Key ABHORRENT:</span>\n",
       "</pre>\n"
      ],
      "text/plain": [
       "\u001b[1;36mKey ABHORRENT:\u001b[0m\n"
      ]
     },
     "metadata": {},
     "output_type": "display_data"
    },
    {
     "data": {
      "text/html": [
       "<pre style=\"white-space:pre;overflow-x:auto;line-height:normal;font-family:Menlo,'DejaVu Sans Mono',consolas,'Courier New',monospace\"><span style=\"color: #a8a8a8; text-decoration-color: #a8a8a8; font-weight: bold\">Decrypted Message: TOPAWZQVLYBTRRVCAGC </span>\n",
       "</pre>\n"
      ],
      "text/plain": [
       "\u001b[1;38;5;248mDecrypted Message: TOPAWZQVLYBTRRVCAGC \u001b[0m\n"
      ]
     },
     "metadata": {},
     "output_type": "display_data"
    },
    {
     "data": {
      "text/html": [
       "<pre style=\"white-space:pre;overflow-x:auto;line-height:normal;font-family:Menlo,'DejaVu Sans Mono',consolas,'Courier New',monospace\"><span style=\"color: #008080; text-decoration-color: #008080; font-weight: bold\">Key ABHORRER:</span>\n",
       "</pre>\n"
      ],
      "text/plain": [
       "\u001b[1;36mKey ABHORRER:\u001b[0m\n"
      ]
     },
     "metadata": {},
     "output_type": "display_data"
    },
    {
     "data": {
      "text/html": [
       "<pre style=\"white-space:pre;overflow-x:auto;line-height:normal;font-family:Menlo,'DejaVu Sans Mono',consolas,'Courier New',monospace\"><span style=\"color: #a8a8a8; text-decoration-color: #a8a8a8; font-weight: bold\">Decrypted Message: TOPAWZQZSZHAURIPNOJ </span>\n",
       "</pre>\n"
      ],
      "text/plain": [
       "\u001b[1;38;5;248mDecrypted Message: TOPAWZQZSZHAURIPNOJ \u001b[0m\n"
      ]
     },
     "metadata": {},
     "output_type": "display_data"
    },
    {
     "data": {
      "text/html": [
       "<pre style=\"white-space:pre;overflow-x:auto;line-height:normal;font-family:Menlo,'DejaVu Sans Mono',consolas,'Courier New',monospace\"><span style=\"color: #008080; text-decoration-color: #008080; font-weight: bold\">Key ABHORRING:</span>\n",
       "</pre>\n"
      ],
      "text/plain": [
       "\u001b[1;36mKey ABHORRING:\u001b[0m\n"
      ]
     },
     "metadata": {},
     "output_type": "display_data"
    },
    {
     "data": {
      "text/html": [
       "<pre style=\"white-space:pre;overflow-x:auto;line-height:normal;font-family:Menlo,'DejaVu Sans Mono',consolas,'Courier New',monospace\"><span style=\"color: #a8a8a8; text-decoration-color: #a8a8a8; font-weight: bold\">Decrypted Message: TOPAWZUVYYBTRRVGATC </span>\n",
       "</pre>\n"
      ],
      "text/plain": [
       "\u001b[1;38;5;248mDecrypted Message: TOPAWZUVYYBTRRVGATC \u001b[0m\n"
      ]
     },
     "metadata": {},
     "output_type": "display_data"
    },
    {
     "data": {
      "text/html": [
       "<pre style=\"white-space:pre;overflow-x:auto;line-height:normal;font-family:Menlo,'DejaVu Sans Mono',consolas,'Courier New',monospace\"><span style=\"color: #008080; text-decoration-color: #008080; font-weight: bold\">Key ABHORS:</span>\n",
       "</pre>\n"
      ],
      "text/plain": [
       "\u001b[1;36mKey ABHORS:\u001b[0m\n"
      ]
     },
     "metadata": {},
     "output_type": "display_data"
    },
    {
     "data": {
      "text/html": [
       "<pre style=\"white-space:pre;overflow-x:auto;line-height:normal;font-family:Menlo,'DejaVu Sans Mono',consolas,'Courier New',monospace\"><span style=\"color: #a8a8a8; text-decoration-color: #a8a8a8; font-weight: bold\">Decrypted Message: TOPAWAMJZMREDBLMEFC </span>\n",
       "</pre>\n"
      ],
      "text/plain": [
       "\u001b[1;38;5;248mDecrypted Message: TOPAWAMJZMREDBLMEFC \u001b[0m\n"
      ]
     },
     "metadata": {},
     "output_type": "display_data"
    },
    {
     "data": {
      "text/html": [
       "<pre style=\"white-space:pre;overflow-x:auto;line-height:normal;font-family:Menlo,'DejaVu Sans Mono',consolas,'Courier New',monospace\"><span style=\"color: #008080; text-decoration-color: #008080; font-weight: bold\">Key ABIDE:</span>\n",
       "</pre>\n"
      ],
      "text/plain": [
       "\u001b[1;36mKey ABIDE:\u001b[0m\n"
      ]
     },
     "metadata": {},
     "output_type": "display_data"
    },
    {
     "data": {
      "text/html": [
       "<pre style=\"white-space:pre;overflow-x:auto;line-height:normal;font-family:Menlo,'DejaVu Sans Mono',consolas,'Courier New',monospace\"><span style=\"color: #a8a8a8; text-decoration-color: #a8a8a8; font-weight: bold\">Decrypted Message: TOQPJINQVCANLDIYOVF </span>\n",
       "</pre>\n"
      ],
      "text/plain": [
       "\u001b[1;38;5;248mDecrypted Message: TOQPJINQVCANLDIYOVF \u001b[0m\n"
      ]
     },
     "metadata": {},
     "output_type": "display_data"
    },
    {
     "data": {
      "text/html": [
       "<pre style=\"white-space:pre;overflow-x:auto;line-height:normal;font-family:Menlo,'DejaVu Sans Mono',consolas,'Courier New',monospace\"><span style=\"color: #008080; text-decoration-color: #008080; font-weight: bold\">Key ABIDED:</span>\n",
       "</pre>\n"
      ],
      "text/plain": [
       "\u001b[1;36mKey ABIDED:\u001b[0m\n"
      ]
     },
     "metadata": {},
     "output_type": "display_data"
    },
    {
     "data": {
      "text/html": [
       "<pre style=\"white-space:pre;overflow-x:auto;line-height:normal;font-family:Menlo,'DejaVu Sans Mono',consolas,'Courier New',monospace\"><span style=\"color: #a8a8a8; text-decoration-color: #a8a8a8; font-weight: bold\">Decrypted Message: TOQPJLMJABEPDBMBRQC </span>\n",
       "</pre>\n"
      ],
      "text/plain": [
       "\u001b[1;38;5;248mDecrypted Message: TOQPJLMJABEPDBMBRQC \u001b[0m\n"
      ]
     },
     "metadata": {},
     "output_type": "display_data"
    },
    {
     "data": {
      "text/html": [
       "<pre style=\"white-space:pre;overflow-x:auto;line-height:normal;font-family:Menlo,'DejaVu Sans Mono',consolas,'Courier New',monospace\"><span style=\"color: #008080; text-decoration-color: #008080; font-weight: bold\">Key ABIDES:</span>\n",
       "</pre>\n"
      ],
      "text/plain": [
       "\u001b[1;36mKey ABIDES:\u001b[0m\n"
      ]
     },
     "metadata": {},
     "output_type": "display_data"
    },
    {
     "data": {
      "text/html": [
       "<pre style=\"white-space:pre;overflow-x:auto;line-height:normal;font-family:Menlo,'DejaVu Sans Mono',consolas,'Courier New',monospace\"><span style=\"color: #a8a8a8; text-decoration-color: #a8a8a8; font-weight: bold\">Decrypted Message: TOQPJAMJABEEDBMBRFC </span>\n",
       "</pre>\n"
      ],
      "text/plain": [
       "\u001b[1;38;5;248mDecrypted Message: TOQPJAMJABEEDBMBRFC \u001b[0m\n"
      ]
     },
     "metadata": {},
     "output_type": "display_data"
    },
    {
     "data": {
      "text/html": [
       "<pre style=\"white-space:pre;overflow-x:auto;line-height:normal;font-family:Menlo,'DejaVu Sans Mono',consolas,'Courier New',monospace\"><span style=\"color: #008080; text-decoration-color: #008080; font-weight: bold\">Key ABIDING:</span>\n",
       "</pre>\n"
      ],
      "text/plain": [
       "\u001b[1;36mKey ABIDING:\u001b[0m\n"
      ]
     },
     "metadata": {},
     "output_type": "display_data"
    },
    {
     "data": {
      "text/html": [
       "<pre style=\"white-space:pre;overflow-x:auto;line-height:normal;font-family:Menlo,'DejaVu Sans Mono',consolas,'Courier New',monospace\"><span style=\"color: #a8a8a8; text-decoration-color: #a8a8a8; font-weight: bold\">Decrypted Message: TOQPNVSITGDUQGEZVQK </span>\n",
       "</pre>\n"
      ],
      "text/plain": [
       "\u001b[1;38;5;248mDecrypted Message: TOQPNVSITGDUQGEZVQK \u001b[0m\n"
      ]
     },
     "metadata": {},
     "output_type": "display_data"
    },
    {
     "data": {
      "text/html": [
       "<pre style=\"white-space:pre;overflow-x:auto;line-height:normal;font-family:Menlo,'DejaVu Sans Mono',consolas,'Courier New',monospace\"><span style=\"color: #008080; text-decoration-color: #008080; font-weight: bold\">Key ABIDJAN:</span>\n",
       "</pre>\n"
      ],
      "text/plain": [
       "\u001b[1;36mKey ABIDJAN:\u001b[0m\n"
      ]
     },
     "metadata": {},
     "output_type": "display_data"
    },
    {
     "data": {
      "text/html": [
       "<pre style=\"white-space:pre;overflow-x:auto;line-height:normal;font-family:Menlo,'DejaVu Sans Mono',consolas,'Courier New',monospace\"><span style=\"color: #a8a8a8; text-decoration-color: #a8a8a8; font-weight: bold\">Decrypted Message: TOQPOIZITGDVDNEZVQL </span>\n",
       "</pre>\n"
      ],
      "text/plain": [
       "\u001b[1;38;5;248mDecrypted Message: TOQPOIZITGDVDNEZVQL \u001b[0m\n"
      ]
     },
     "metadata": {},
     "output_type": "display_data"
    },
    {
     "data": {
      "text/html": [
       "<pre style=\"white-space:pre;overflow-x:auto;line-height:normal;font-family:Menlo,'DejaVu Sans Mono',consolas,'Courier New',monospace\"><span style=\"color: #008080; text-decoration-color: #008080; font-weight: bold\">Key ABIGAIL:</span>\n",
       "</pre>\n"
      ],
      "text/plain": [
       "\u001b[1;36mKey ABIGAIL:\u001b[0m\n"
      ]
     },
     "metadata": {},
     "output_type": "display_data"
    },
    {
     "data": {
      "text/html": [
       "<pre style=\"white-space:pre;overflow-x:auto;line-height:normal;font-family:Menlo,'DejaVu Sans Mono',consolas,'Courier New',monospace\"><span style=\"color: #a8a8a8; text-decoration-color: #a8a8a8; font-weight: bold\">Decrypted Message: TOQSFQXITGGMLLEZVTC </span>\n",
       "</pre>\n"
      ],
      "text/plain": [
       "\u001b[1;38;5;248mDecrypted Message: TOQSFQXITGGMLLEZVTC \u001b[0m\n"
      ]
     },
     "metadata": {},
     "output_type": "display_data"
    },
    {
     "data": {
      "text/html": [
       "<pre style=\"white-space:pre;overflow-x:auto;line-height:normal;font-family:Menlo,'DejaVu Sans Mono',consolas,'Courier New',monospace\"><span style=\"color: #008080; text-decoration-color: #008080; font-weight: bold\">Key ABILENE:</span>\n",
       "</pre>\n"
      ],
      "text/plain": [
       "\u001b[1;36mKey ABILENE:\u001b[0m\n"
      ]
     },
     "metadata": {},
     "output_type": "display_data"
    },
    {
     "data": {
      "text/html": [
       "<pre style=\"white-space:pre;overflow-x:auto;line-height:normal;font-family:Menlo,'DejaVu Sans Mono',consolas,'Courier New',monospace\"><span style=\"color: #a8a8a8; text-decoration-color: #a8a8a8; font-weight: bold\">Decrypted Message: TOQXJVQITGLQQEEZVYG </span>\n",
       "</pre>\n"
      ],
      "text/plain": [
       "\u001b[1;38;5;248mDecrypted Message: TOQXJVQITGLQQEEZVYG \u001b[0m\n"
      ]
     },
     "metadata": {},
     "output_type": "display_data"
    },
    {
     "data": {
      "text/html": [
       "<pre style=\"white-space:pre;overflow-x:auto;line-height:normal;font-family:Menlo,'DejaVu Sans Mono',consolas,'Courier New',monospace\"><span style=\"color: #008080; text-decoration-color: #008080; font-weight: bold\">Key ABILITIES:</span>\n",
       "</pre>\n"
      ],
      "text/plain": [
       "\u001b[1;36mKey ABILITIES:\u001b[0m\n"
      ]
     },
     "metadata": {},
     "output_type": "display_data"
    },
    {
     "data": {
      "text/html": [
       "<pre style=\"white-space:pre;overflow-x:auto;line-height:normal;font-family:Menlo,'DejaVu Sans Mono',consolas,'Courier New',monospace\"><span style=\"color: #a8a8a8; text-decoration-color: #a8a8a8; font-weight: bold\">Decrypted Message: TOQXNBUMKYBUOIXGRFC </span>\n",
       "</pre>\n"
      ],
      "text/plain": [
       "\u001b[1;38;5;248mDecrypted Message: TOQXNBUMKYBUOIXGRFC \u001b[0m\n"
      ]
     },
     "metadata": {},
     "output_type": "display_data"
    },
    {
     "data": {
      "text/html": [
       "<pre style=\"white-space:pre;overflow-x:auto;line-height:normal;font-family:Menlo,'DejaVu Sans Mono',consolas,'Courier New',monospace\"><span style=\"color: #008080; text-decoration-color: #008080; font-weight: bold\">Key ABILITY:</span>\n",
       "</pre>\n"
      ],
      "text/plain": [
       "\u001b[1;36mKey ABILITY:\u001b[0m\n"
      ]
     },
     "metadata": {},
     "output_type": "display_data"
    },
    {
     "data": {
      "text/html": [
       "<pre style=\"white-space:pre;overflow-x:auto;line-height:normal;font-family:Menlo,'DejaVu Sans Mono',consolas,'Courier New',monospace\"><span style=\"color: #a8a8a8; text-decoration-color: #a8a8a8; font-weight: bold\">Decrypted Message: TOQXNBKITGLUWYEZVYK </span>\n",
       "</pre>\n"
      ],
      "text/plain": [
       "\u001b[1;38;5;248mDecrypted Message: TOQXNBKITGLUWYEZVYK \u001b[0m\n"
      ]
     },
     "metadata": {},
     "output_type": "display_data"
    },
    {
     "data": {
      "text/html": [
       "<pre style=\"white-space:pre;overflow-x:auto;line-height:normal;font-family:Menlo,'DejaVu Sans Mono',consolas,'Courier New',monospace\"><span style=\"color: #008080; text-decoration-color: #008080; font-weight: bold\">Key ABJECT:</span>\n",
       "</pre>\n"
      ],
      "text/plain": [
       "\u001b[1;36mKey ABJECT:\u001b[0m\n"
      ]
     },
     "metadata": {},
     "output_type": "display_data"
    },
    {
     "data": {
      "text/html": [
       "<pre style=\"white-space:pre;overflow-x:auto;line-height:normal;font-family:Menlo,'DejaVu Sans Mono',consolas,'Courier New',monospace\"><span style=\"color: #a8a8a8; text-decoration-color: #a8a8a8; font-weight: bold\">Decrypted Message: TORQHBMJBCCFDBNCPGC </span>\n",
       "</pre>\n"
      ],
      "text/plain": [
       "\u001b[1;38;5;248mDecrypted Message: TORQHBMJBCCFDBNCPGC \u001b[0m\n"
      ]
     },
     "metadata": {},
     "output_type": "display_data"
    },
    {
     "data": {
      "text/html": [
       "<pre style=\"white-space:pre;overflow-x:auto;line-height:normal;font-family:Menlo,'DejaVu Sans Mono',consolas,'Courier New',monospace\"><span style=\"color: #008080; text-decoration-color: #008080; font-weight: bold\">Key ABJECTION:</span>\n",
       "</pre>\n"
      ],
      "text/plain": [
       "\u001b[1;36mKey ABJECTION:\u001b[0m\n"
      ]
     },
     "metadata": {},
     "output_type": "display_data"
    },
    {
     "data": {
      "text/html": [
       "<pre style=\"white-space:pre;overflow-x:auto;line-height:normal;font-family:Menlo,'DejaVu Sans Mono',consolas,'Courier New',monospace\"><span style=\"color: #a8a8a8; text-decoration-color: #a8a8a8; font-weight: bold\">Decrypted Message: TORQHBUWFYBVHCXGBAC </span>\n",
       "</pre>\n"
      ],
      "text/plain": [
       "\u001b[1;38;5;248mDecrypted Message: TORQHBUWFYBVHCXGBAC \u001b[0m\n"
      ]
     },
     "metadata": {},
     "output_type": "display_data"
    },
    {
     "data": {
      "text/html": [
       "<pre style=\"white-space:pre;overflow-x:auto;line-height:normal;font-family:Menlo,'DejaVu Sans Mono',consolas,'Courier New',monospace\"><span style=\"color: #008080; text-decoration-color: #008080; font-weight: bold\">Key ABJECTIONS:</span>\n",
       "</pre>\n"
      ],
      "text/plain": [
       "\u001b[1;36mKey ABJECTIONS:\u001b[0m\n"
      ]
     },
     "metadata": {},
     "output_type": "display_data"
    },
    {
     "data": {
      "text/html": [
       "<pre style=\"white-space:pre;overflow-x:auto;line-height:normal;font-family:Menlo,'DejaVu Sans Mono',consolas,'Courier New',monospace\"><span style=\"color: #a8a8a8; text-decoration-color: #a8a8a8; font-weight: bold\">Decrypted Message: TORQHBUWFQANMEGRVBP </span>\n",
       "</pre>\n"
      ],
      "text/plain": [
       "\u001b[1;38;5;248mDecrypted Message: TORQHBUWFQANMEGRVBP \u001b[0m\n"
      ]
     },
     "metadata": {},
     "output_type": "display_data"
    },
    {
     "data": {
      "text/html": [
       "<pre style=\"white-space:pre;overflow-x:auto;line-height:normal;font-family:Menlo,'DejaVu Sans Mono',consolas,'Courier New',monospace\"><span style=\"color: #008080; text-decoration-color: #008080; font-weight: bold\">Key ABJECTLY:</span>\n",
       "</pre>\n"
      ],
      "text/plain": [
       "\u001b[1;36mKey ABJECTLY:\u001b[0m\n"
      ]
     },
     "metadata": {},
     "output_type": "display_data"
    },
    {
     "data": {
      "text/html": [
       "<pre style=\"white-space:pre;overflow-x:auto;line-height:normal;font-family:Menlo,'DejaVu Sans Mono',consolas,'Courier New',monospace\"><span style=\"color: #a8a8a8; text-decoration-color: #a8a8a8; font-weight: bold\">Decrypted Message: TORQHBXGSZJQFTPWNOL </span>\n",
       "</pre>\n"
      ],
      "text/plain": [
       "\u001b[1;38;5;248mDecrypted Message: TORQHBXGSZJQFTPWNOL \u001b[0m\n"
      ]
     },
     "metadata": {},
     "output_type": "display_data"
    },
    {
     "data": {
      "text/html": [
       "<pre style=\"white-space:pre;overflow-x:auto;line-height:normal;font-family:Menlo,'DejaVu Sans Mono',consolas,'Courier New',monospace\"><span style=\"color: #008080; text-decoration-color: #008080; font-weight: bold\">Key ABJECTNESS:</span>\n",
       "</pre>\n"
      ],
      "text/plain": [
       "\u001b[1;36mKey ABJECTNESS:\u001b[0m\n"
      ]
     },
     "metadata": {},
     "output_type": "display_data"
    },
    {
     "data": {
      "text/html": [
       "<pre style=\"white-space:pre;overflow-x:auto;line-height:normal;font-family:Menlo,'DejaVu Sans Mono',consolas,'Courier New',monospace\"><span style=\"color: #a8a8a8; text-decoration-color: #a8a8a8; font-weight: bold\">Decrypted Message: TORQHBZMKQANMEGRARU </span>\n",
       "</pre>\n"
      ],
      "text/plain": [
       "\u001b[1;38;5;248mDecrypted Message: TORQHBZMKQANMEGRARU \u001b[0m\n"
      ]
     },
     "metadata": {},
     "output_type": "display_data"
    },
    {
     "data": {
      "text/html": [
       "<pre style=\"white-space:pre;overflow-x:auto;line-height:normal;font-family:Menlo,'DejaVu Sans Mono',consolas,'Courier New',monospace\"><span style=\"color: #008080; text-decoration-color: #008080; font-weight: bold\">Key ABJURE:</span>\n",
       "</pre>\n"
      ],
      "text/plain": [
       "\u001b[1;36mKey ABJURE:\u001b[0m\n"
      ]
     },
     "metadata": {},
     "output_type": "display_data"
    },
    {
     "data": {
      "text/html": [
       "<pre style=\"white-space:pre;overflow-x:auto;line-height:normal;font-family:Menlo,'DejaVu Sans Mono',consolas,'Courier New',monospace\"><span style=\"color: #a8a8a8; text-decoration-color: #a8a8a8; font-weight: bold\">Decrypted Message: TORGWMMJBSRQDBNSERC </span>\n",
       "</pre>\n"
      ],
      "text/plain": [
       "\u001b[1;38;5;248mDecrypted Message: TORGWMMJBSRQDBNSERC \u001b[0m\n"
      ]
     },
     "metadata": {},
     "output_type": "display_data"
    },
    {
     "data": {
      "text/html": [
       "<pre style=\"white-space:pre;overflow-x:auto;line-height:normal;font-family:Menlo,'DejaVu Sans Mono',consolas,'Courier New',monospace\"><span style=\"color: #008080; text-decoration-color: #008080; font-weight: bold\">Key ABJURED:</span>\n",
       "</pre>\n"
      ],
      "text/plain": [
       "\u001b[1;36mKey ABJURED:\u001b[0m\n"
      ]
     },
     "metadata": {},
     "output_type": "display_data"
    },
    {
     "data": {
      "text/html": [
       "<pre style=\"white-space:pre;overflow-x:auto;line-height:normal;font-family:Menlo,'DejaVu Sans Mono',consolas,'Courier New',monospace\"><span style=\"color: #a8a8a8; text-decoration-color: #a8a8a8; font-weight: bold\">Decrypted Message: TORGWMPITHUDHDEZWHT </span>\n",
       "</pre>\n"
      ],
      "text/plain": [
       "\u001b[1;38;5;248mDecrypted Message: TORGWMPITHUDHDEZWHT \u001b[0m\n"
      ]
     },
     "metadata": {},
     "output_type": "display_data"
    },
    {
     "data": {
      "text/html": [
       "<pre style=\"white-space:pre;overflow-x:auto;line-height:normal;font-family:Menlo,'DejaVu Sans Mono',consolas,'Courier New',monospace\"><span style=\"color: #008080; text-decoration-color: #008080; font-weight: bold\">Key ABJURES:</span>\n",
       "</pre>\n"
      ],
      "text/plain": [
       "\u001b[1;36mKey ABJURES:\u001b[0m\n"
      ]
     },
     "metadata": {},
     "output_type": "display_data"
    },
    {
     "data": {
      "text/html": [
       "<pre style=\"white-space:pre;overflow-x:auto;line-height:normal;font-family:Menlo,'DejaVu Sans Mono',consolas,'Courier New',monospace\"><span style=\"color: #a8a8a8; text-decoration-color: #a8a8a8; font-weight: bold\">Decrypted Message: TORGWMEITHUDHSEZWHT </span>\n",
       "</pre>\n"
      ],
      "text/plain": [
       "\u001b[1;38;5;248mDecrypted Message: TORGWMEITHUDHSEZWHT \u001b[0m\n"
      ]
     },
     "metadata": {},
     "output_type": "display_data"
    },
    {
     "data": {
      "text/html": [
       "<pre style=\"white-space:pre;overflow-x:auto;line-height:normal;font-family:Menlo,'DejaVu Sans Mono',consolas,'Courier New',monospace\"><span style=\"color: #008080; text-decoration-color: #008080; font-weight: bold\">Key ABJURING:</span>\n",
       "</pre>\n"
      ],
      "text/plain": [
       "\u001b[1;36mKey ABJURING:\u001b[0m\n"
      ]
     },
     "metadata": {},
     "output_type": "display_data"
    },
    {
     "data": {
      "text/html": [
       "<pre style=\"white-space:pre;overflow-x:auto;line-height:normal;font-family:Menlo,'DejaVu Sans Mono',consolas,'Courier New',monospace\"><span style=\"color: #a8a8a8; text-decoration-color: #a8a8a8; font-weight: bold\">Decrypted Message: TORGWQZOSZJGUIRENOL </span>\n",
       "</pre>\n"
      ],
      "text/plain": [
       "\u001b[1;38;5;248mDecrypted Message: TORGWQZOSZJGUIRENOL \u001b[0m\n"
      ]
     },
     "metadata": {},
     "output_type": "display_data"
    },
    {
     "data": {
      "text/html": [
       "<pre style=\"white-space:pre;overflow-x:auto;line-height:normal;font-family:Menlo,'DejaVu Sans Mono',consolas,'Courier New',monospace\"><span style=\"color: #008080; text-decoration-color: #008080; font-weight: bold\">Key ABLATE:</span>\n",
       "</pre>\n"
      ],
      "text/plain": [
       "\u001b[1;36mKey ABLATE:\u001b[0m\n"
      ]
     },
     "metadata": {},
     "output_type": "display_data"
    },
    {
     "data": {
      "text/html": [
       "<pre style=\"white-space:pre;overflow-x:auto;line-height:normal;font-family:Menlo,'DejaVu Sans Mono',consolas,'Courier New',monospace\"><span style=\"color: #a8a8a8; text-decoration-color: #a8a8a8; font-weight: bold\">Decrypted Message: TOTMYMMJDYTQDBPYGRC </span>\n",
       "</pre>\n"
      ],
      "text/plain": [
       "\u001b[1;38;5;248mDecrypted Message: TOTMYMMJDYTQDBPYGRC \u001b[0m\n"
      ]
     },
     "metadata": {},
     "output_type": "display_data"
    },
    {
     "data": {
      "text/html": [
       "<pre style=\"white-space:pre;overflow-x:auto;line-height:normal;font-family:Menlo,'DejaVu Sans Mono',consolas,'Courier New',monospace\"><span style=\"color: #008080; text-decoration-color: #008080; font-weight: bold\">Key ABLATED:</span>\n",
       "</pre>\n"
      ],
      "text/plain": [
       "\u001b[1;36mKey ABLATED:\u001b[0m\n"
      ]
     },
     "metadata": {},
     "output_type": "display_data"
    },
    {
     "data": {
      "text/html": [
       "<pre style=\"white-space:pre;overflow-x:auto;line-height:normal;font-family:Menlo,'DejaVu Sans Mono',consolas,'Courier New',monospace\"><span style=\"color: #a8a8a8; text-decoration-color: #a8a8a8; font-weight: bold\">Decrypted Message: TOTMYMPITJAFHDEZYNV </span>\n",
       "</pre>\n"
      ],
      "text/plain": [
       "\u001b[1;38;5;248mDecrypted Message: TOTMYMPITJAFHDEZYNV \u001b[0m\n"
      ]
     },
     "metadata": {},
     "output_type": "display_data"
    },
    {
     "data": {
      "text/html": [
       "<pre style=\"white-space:pre;overflow-x:auto;line-height:normal;font-family:Menlo,'DejaVu Sans Mono',consolas,'Courier New',monospace\"><span style=\"color: #008080; text-decoration-color: #008080; font-weight: bold\">Key ABLATES:</span>\n",
       "</pre>\n"
      ],
      "text/plain": [
       "\u001b[1;36mKey ABLATES:\u001b[0m\n"
      ]
     },
     "metadata": {},
     "output_type": "display_data"
    },
    {
     "data": {
      "text/html": [
       "<pre style=\"white-space:pre;overflow-x:auto;line-height:normal;font-family:Menlo,'DejaVu Sans Mono',consolas,'Courier New',monospace\"><span style=\"color: #a8a8a8; text-decoration-color: #a8a8a8; font-weight: bold\">Decrypted Message: TOTMYMEITJAFHSEZYNV </span>\n",
       "</pre>\n"
      ],
      "text/plain": [
       "\u001b[1;38;5;248mDecrypted Message: TOTMYMEITJAFHSEZYNV \u001b[0m\n"
      ]
     },
     "metadata": {},
     "output_type": "display_data"
    },
    {
     "data": {
      "text/html": [
       "<pre style=\"white-space:pre;overflow-x:auto;line-height:normal;font-family:Menlo,'DejaVu Sans Mono',consolas,'Courier New',monospace\"><span style=\"color: #008080; text-decoration-color: #008080; font-weight: bold\">Key ABLATING:</span>\n",
       "</pre>\n"
      ],
      "text/plain": [
       "\u001b[1;36mKey ABLATING:\u001b[0m\n"
      ]
     },
     "metadata": {},
     "output_type": "display_data"
    },
    {
     "data": {
      "text/html": [
       "<pre style=\"white-space:pre;overflow-x:auto;line-height:normal;font-family:Menlo,'DejaVu Sans Mono',consolas,'Courier New',monospace\"><span style=\"color: #a8a8a8; text-decoration-color: #a8a8a8; font-weight: bold\">Decrypted Message: TOTMYQZOSZLMWIRENON </span>\n",
       "</pre>\n"
      ],
      "text/plain": [
       "\u001b[1;38;5;248mDecrypted Message: TOTMYQZOSZLMWIRENON \u001b[0m\n"
      ]
     },
     "metadata": {},
     "output_type": "display_data"
    },
    {
     "data": {
      "text/html": [
       "<pre style=\"white-space:pre;overflow-x:auto;line-height:normal;font-family:Menlo,'DejaVu Sans Mono',consolas,'Courier New',monospace\"><span style=\"color: #008080; text-decoration-color: #008080; font-weight: bold\">Key ABLATION:</span>\n",
       "</pre>\n"
      ],
      "text/plain": [
       "\u001b[1;36mKey ABLATION:\u001b[0m\n"
      ]
     },
     "metadata": {},
     "output_type": "display_data"
    },
    {
     "data": {
      "text/html": [
       "<pre style=\"white-space:pre;overflow-x:auto;line-height:normal;font-family:Menlo,'DejaVu Sans Mono',consolas,'Courier New',monospace\"><span style=\"color: #a8a8a8; text-decoration-color: #a8a8a8; font-weight: bold\">Decrypted Message: TOTMYQAVSZLMWISLNON </span>\n",
       "</pre>\n"
      ],
      "text/plain": [
       "\u001b[1;38;5;248mDecrypted Message: TOTMYQAVSZLMWISLNON \u001b[0m\n"
      ]
     },
     "metadata": {},
     "output_type": "display_data"
    },
    {
     "data": {
      "text/html": [
       "<pre style=\"white-space:pre;overflow-x:auto;line-height:normal;font-family:Menlo,'DejaVu Sans Mono',consolas,'Courier New',monospace\"><span style=\"color: #008080; text-decoration-color: #008080; font-weight: bold\">Key ABLATIVE:</span>\n",
       "</pre>\n"
      ],
      "text/plain": [
       "\u001b[1;36mKey ABLATIVE:\u001b[0m\n"
      ]
     },
     "metadata": {},
     "output_type": "display_data"
    },
    {
     "data": {
      "text/html": [
       "<pre style=\"white-space:pre;overflow-x:auto;line-height:normal;font-family:Menlo,'DejaVu Sans Mono',consolas,'Courier New',monospace\"><span style=\"color: #a8a8a8; text-decoration-color: #a8a8a8; font-weight: bold\">Decrypted Message: TOTMYQHMSZLMWIZCNON </span>\n",
       "</pre>\n"
      ],
      "text/plain": [
       "\u001b[1;38;5;248mDecrypted Message: TOTMYQHMSZLMWIZCNON \u001b[0m\n"
      ]
     },
     "metadata": {},
     "output_type": "display_data"
    },
    {
     "data": {
      "text/html": [
       "<pre style=\"white-space:pre;overflow-x:auto;line-height:normal;font-family:Menlo,'DejaVu Sans Mono',consolas,'Courier New',monospace\"><span style=\"color: #008080; text-decoration-color: #008080; font-weight: bold\">Key ABLAZE:</span>\n",
       "</pre>\n"
      ],
      "text/plain": [
       "\u001b[1;36mKey ABLAZE:\u001b[0m\n"
      ]
     },
     "metadata": {},
     "output_type": "display_data"
    },
    {
     "data": {
      "text/html": [
       "<pre style=\"white-space:pre;overflow-x:auto;line-height:normal;font-family:Menlo,'DejaVu Sans Mono',consolas,'Courier New',monospace\"><span style=\"color: #a8a8a8; text-decoration-color: #a8a8a8; font-weight: bold\">Decrypted Message: TOTMEMMJDYZQDBPYMRC </span>\n",
       "</pre>\n"
      ],
      "text/plain": [
       "\u001b[1;38;5;248mDecrypted Message: TOTMEMMJDYZQDBPYMRC \u001b[0m\n"
      ]
     },
     "metadata": {},
     "output_type": "display_data"
    },
    {
     "data": {
      "text/html": [
       "<pre style=\"white-space:pre;overflow-x:auto;line-height:normal;font-family:Menlo,'DejaVu Sans Mono',consolas,'Courier New',monospace\"><span style=\"color: #008080; text-decoration-color: #008080; font-weight: bold\">Key ABLE:</span>\n",
       "</pre>\n"
      ],
      "text/plain": [
       "\u001b[1;36mKey ABLE:\u001b[0m\n"
      ]
     },
     "metadata": {},
     "output_type": "display_data"
    },
    {
     "data": {
      "text/html": [
       "<pre style=\"white-space:pre;overflow-x:auto;line-height:normal;font-family:Menlo,'DejaVu Sans Mono',consolas,'Courier New',monospace\"><span style=\"color: #a8a8a8; text-decoration-color: #a8a8a8; font-weight: bold\">Decrypted Message: TOTQFJXMSZLQDBPCNON </span>\n",
       "</pre>\n"
      ],
      "text/plain": [
       "\u001b[1;38;5;248mDecrypted Message: TOTQFJXMSZLQDBPCNON \u001b[0m\n"
      ]
     },
     "metadata": {},
     "output_type": "display_data"
    },
    {
     "data": {
      "text/html": [
       "<pre style=\"white-space:pre;overflow-x:auto;line-height:normal;font-family:Menlo,'DejaVu Sans Mono',consolas,'Courier New',monospace\"><span style=\"color: #008080; text-decoration-color: #008080; font-weight: bold\">Key ABLER:</span>\n",
       "</pre>\n"
      ],
      "text/plain": [
       "\u001b[1;36mKey ABLER:\u001b[0m\n"
      ]
     },
     "metadata": {},
     "output_type": "display_data"
    },
    {
     "data": {
      "text/html": [
       "<pre style=\"white-space:pre;overflow-x:auto;line-height:normal;font-family:Menlo,'DejaVu Sans Mono',consolas,'Courier New',monospace\"><span style=\"color: #a8a8a8; text-decoration-color: #a8a8a8; font-weight: bold\">Decrypted Message: TOTQWINTWPANOEVYOYG </span>\n",
       "</pre>\n"
      ],
      "text/plain": [
       "\u001b[1;38;5;248mDecrypted Message: TOTQWINTWPANOEVYOYG \u001b[0m\n"
      ]
     },
     "metadata": {},
     "output_type": "display_data"
    },
    {
     "data": {
      "text/html": [
       "<pre style=\"white-space:pre;overflow-x:auto;line-height:normal;font-family:Menlo,'DejaVu Sans Mono',consolas,'Courier New',monospace\"><span style=\"color: #008080; text-decoration-color: #008080; font-weight: bold\">Key ABLEST:</span>\n",
       "</pre>\n"
      ],
      "text/plain": [
       "\u001b[1;36mKey ABLEST:\u001b[0m\n"
      ]
     },
     "metadata": {},
     "output_type": "display_data"
    },
    {
     "data": {
      "text/html": [
       "<pre style=\"white-space:pre;overflow-x:auto;line-height:normal;font-family:Menlo,'DejaVu Sans Mono',consolas,'Courier New',monospace\"><span style=\"color: #a8a8a8; text-decoration-color: #a8a8a8; font-weight: bold\">Decrypted Message: TOTQXBMJDCSFDBPCFGC </span>\n",
       "</pre>\n"
      ],
      "text/plain": [
       "\u001b[1;38;5;248mDecrypted Message: TOTQXBMJDCSFDBPCFGC \u001b[0m\n"
      ]
     },
     "metadata": {},
     "output_type": "display_data"
    }
   ],
   "source": [
    "def hackVigenere(ciphertext):\n",
    "    #https://inventwithpython.com/dictionary.txt\n",
    "    fo = open('dictionary.txt')\n",
    "    words = fo.readlines()\n",
    "    fo.close()\n",
    "    i = 0\n",
    "    for word in words:\n",
    "        word = word.strip() # remove the newline at the end\n",
    "        decryptedText = decrypt(ciphertext,word)\n",
    "        console.print(\"Key \" + str(word) + \":\",style=\"key\")\n",
    "        console.print(\"Decrypted Message: {} \" . format(decryptedText[:100]), style=\"text\")\n",
    "        i= i +1\n",
    "        if i >100:\n",
    "            return decryptedText\n",
    "\n",
    "hackedMessage = hackVigenere(cipher)"
   ]
  },
  {
   "cell_type": "markdown",
   "id": "eec4a896-2bf2-45cf-b774-92fad8bc11b6",
   "metadata": {},
   "source": [
    "##### Források:\n",
    "https://www.geeksforgeeks.org/vigenere-cipher/\n",
    "\n",
    "https://inventwithpython.com/dictionary.txt\n",
    "\n",
    "https://inventwithpython.com/hacking/chapter21.html"
   ]
  },
  {
   "cell_type": "code",
   "execution_count": null,
   "id": "e4869760-778f-4963-8915-09d4948f6494",
   "metadata": {},
   "outputs": [],
   "source": [
    "\n"
   ]
  }
 ],
 "metadata": {
  "kernelspec": {
   "display_name": "Python 3 (ipykernel)",
   "language": "python",
   "name": "python3"
  },
  "language_info": {
   "codemirror_mode": {
    "name": "ipython",
    "version": 3
   },
   "file_extension": ".py",
   "mimetype": "text/x-python",
   "name": "python",
   "nbconvert_exporter": "python",
   "pygments_lexer": "ipython3",
   "version": "3.10.12"
  }
 },
 "nbformat": 4,
 "nbformat_minor": 5
}
