{
 "cells": [
  {
   "cell_type": "markdown",
   "id": "53097775",
   "metadata": {},
   "source": [
    "# A jupyter\n",
    "\n",
    "A Jupyter Notebook egy integrált dokumentációs és futtató környezet.\n",
    "Fő tulajdonságai:\n",
    "- Jegyzettömb a központi egysége, ami tartalmazhat, MarkDown szöveget, kódot és annak kimenetét, akár plotokat is,\n",
    "- egyesíti a dokumentációt, a kódot és a kimeneteket,\n",
    "- ideális oktató anyagok létrehozására,\n",
    "- képes a csomagtelepítésre a programból, a függőségeket is fel lehet oldani a dokumentumokban,\n",
    "- egyszerűen, gyorsan lehet telepíteni Windowsra és Linuxra is,\n",
    "- tud HTML, PDF, LaTeX exportot,\n",
    "- beépített fájl kezelőt felületet is tartalmaz,\n",
    "- web alapú a kezelő felület, de lehet lokálisan is futtatni, valamint szerveren is, autentikációval,\n",
    "- az egyes szerkesztők kerneljei (kódfuttatáshoz hozzárendelt python környezetek) szeparáltak,\n",
    "- az egyes ipynb fájlok tárolják a már lefuttatott kimeneteket, így azok az olvasó gépén futtatás nélkül is rendelkezésre állnak\n",
    "- a VSCode és a Codium is támogatja a IPYNB fájlok használatát, futtatással együtt.\n",
    "\n",
    "\n",
    "# A Jupyter notebook telepítése\n",
    "\n",
    "Windowson:\n",
    "```bash\n",
    "python -m pip install jupyter\n",
    "``` \n",
    "\n",
    "Linuxon (Debian alapú)\n",
    "```bash\n",
    "sudo apt install jupyter-notebook\n",
    "```\n",
    "\n",
    "\n",
    "Linuxon általános esetben:\n",
    "```bash\n",
    "python -m pip install jupyter\n",
    "```\n",
    "\n",
    "Példa a működésre:"
   ]
  },
  {
   "cell_type": "code",
   "execution_count": null,
   "id": "973911f5",
   "metadata": {},
   "outputs": [],
   "source": [
    "import os\n",
    "\n",
    "os.listdir()"
   ]
  },
  {
   "cell_type": "markdown",
   "id": "cb9eb5b7",
   "metadata": {},
   "source": [
    "Példa a telepítésre:"
   ]
  },
  {
   "cell_type": "code",
   "execution_count": null,
   "id": "f1007f4d",
   "metadata": {},
   "outputs": [],
   "source": [
    "!pip install numpy"
   ]
  }
 ],
 "metadata": {
  "kernelspec": {
   "display_name": "Python 3 (ipykernel)",
   "language": "python",
   "name": "python3"
  },
  "language_info": {
   "codemirror_mode": {
    "name": "ipython",
    "version": 3
   },
   "file_extension": ".py",
   "mimetype": "text/x-python",
   "name": "python",
   "nbconvert_exporter": "python",
   "pygments_lexer": "ipython3",
   "version": "3.10.12"
  }
 },
 "nbformat": 4,
 "nbformat_minor": 5
}
