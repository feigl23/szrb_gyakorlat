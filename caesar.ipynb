{
 "cells": [
  {
   "cell_type": "markdown",
   "id": "b1f7f1b5-36a3-4a86-8cb0-f5cf6b93d7be",
   "metadata": {},
   "source": [
    "# Caesar Cipher\n",
    "\n",
    "A kódrészletekben megvalósításra kerül a Caser kódolás, dekódolás és brute force támadással való dekódolás. Az ábácánek az angol ábécé kis és nagybetűit használtam, illetve egy szóköz karaktert."
   ]
  },
  {
   "cell_type": "markdown",
   "id": "754300b6-6089-4e16-bfdd-fc652a42382d",
   "metadata": {},
   "source": [
    "##### Rich Témák hozzáadása"
   ]
  },
  {
   "cell_type": "code",
   "execution_count": 1,
   "id": "ce21d932-3b0c-4418-8f19-0411d194da23",
   "metadata": {},
   "outputs": [],
   "source": [
    "from rich.console import Console\n",
    "from rich.theme import Theme\n",
    "\n",
    "custom_theme = Theme(\n",
    "     {\"shift\": \"bold cyan\", \"text\": \"bold grey66\", \"cipher\": \"bold red\"})\n",
    "console = Console(theme=custom_theme)"
   ]
  },
  {
   "cell_type": "markdown",
   "id": "551100f4-fb17-464e-9183-bdea858d2d11",
   "metadata": {},
   "source": [
    "#### Segéd függvények\n",
    "\n",
    "A kódolás és a dekódolás során használt függvények."
   ]
  },
  {
   "cell_type": "code",
   "execution_count": 2,
   "id": "dfc23061-e10e-4af5-9080-efe477b104fb",
   "metadata": {},
   "outputs": [],
   "source": [
    "def getLetter(letter, minus):\n",
    "     letters=\"abcdefghijklmnopqrstuvwxyzABCDEFGHIJKLMNOPQRSTUVWXYZ \"\n",
    "     if minus:\n",
    "         return letters[(letters.find(letter) - shift) % len(letters)]\n",
    "     return letters[(letters.find(letter) + shift) % len(letters)]\n",
    "    \n",
    "def inLetters(letter):\n",
    "    letters=\"abcdefghijklmnopqrstuvwxyzABCDEFGHIJKLMNOPQRSTUVWXYZ \"\n",
    "    if letter in letters:\n",
    "        return True\n",
    "    return False\n",
    "    \n"
   ]
  },
  {
   "cell_type": "markdown",
   "id": "0ed50e79-0e51-459c-964c-6413c0e408ea",
   "metadata": {},
   "source": [
    "### encrypt:\n",
    "Üzenet kódolása, 4-es eltolással."
   ]
  },
  {
   "cell_type": "code",
   "execution_count": 3,
   "id": "1fce902a-5a4c-4911-a222-5c29d2de30b9",
   "metadata": {},
   "outputs": [
    {
     "data": {
      "text/html": [
       "<pre style=\"white-space:pre;overflow-x:auto;line-height:normal;font-family:Menlo,'DejaVu Sans Mono',consolas,'Courier New',monospace\"><span style=\"color: #a8a8a8; text-decoration-color: #a8a8a8; font-weight: bold\">Message: Elementary my dear Watson </span>\n",
       "</pre>\n"
      ],
      "text/plain": [
       "\u001b[1;38;5;248mMessage: Elementary my dear Watson \u001b[0m\n"
      ]
     },
     "metadata": {},
     "output_type": "display_data"
    },
    {
     "data": {
      "text/html": [
       "<pre style=\"white-space:pre;overflow-x:auto;line-height:normal;font-family:Menlo,'DejaVu Sans Mono',consolas,'Courier New',monospace\"><span style=\"color: #008080; text-decoration-color: #008080; font-weight: bold\">Shift : </span><span style=\"color: #008080; text-decoration-color: #008080; font-weight: bold\">4</span><span style=\"color: #008080; text-decoration-color: #008080; font-weight: bold\"> </span>\n",
       "</pre>\n"
      ],
      "text/plain": [
       "\u001b[1;36mShift : \u001b[0m\u001b[1;36m4\u001b[0m\u001b[1;36m \u001b[0m\n"
      ]
     },
     "metadata": {},
     "output_type": "display_data"
    },
    {
     "data": {
      "text/html": [
       "<pre style=\"white-space:pre;overflow-x:auto;line-height:normal;font-family:Menlo,'DejaVu Sans Mono',consolas,'Courier New',monospace\"><span style=\"color: #800000; text-decoration-color: #800000; font-weight: bold\">Cipher: IpiqirxevCdqCdhievd exwsr </span>\n",
       "</pre>\n"
      ],
      "text/plain": [
       "\u001b[1;31mCipher: IpiqirxevCdqCdhievd exwsr \u001b[0m\n"
      ]
     },
     "metadata": {},
     "output_type": "display_data"
    }
   ],
   "source": [
    "def encrypt(text,shift):\n",
    "    eresult = \"\"\n",
    "    for letter in text:\n",
    "        if inLetters(letter):\n",
    "            eresult = eresult + getLetter(letter, False)\n",
    "        else:\n",
    "            eresult = eresult + letter\n",
    "    return eresult\n",
    "    \n",
    "message = \"Elementary my dear Watson\"\n",
    "shift = 4\n",
    "cipher = encrypt(message,shift)\n",
    "console.print(\"Message: {} \" . format(message), style=\"text\")\n",
    "console.print(\"Shift : {} \" . format(shift), style=\"shift\")\n",
    "console.print(\"Cipher: {} \" . format(cipher) , style=\"cipher\")"
   ]
  },
  {
   "cell_type": "markdown",
   "id": "f5130edf-6332-4eea-88da-806d35dffa89",
   "metadata": {},
   "source": [
    "### decrypt:\n",
    "Az üzenet dekódolása."
   ]
  },
  {
   "cell_type": "code",
   "execution_count": 4,
   "id": "c8ae14dc-1a5a-4d28-8e65-c76e9de3caa5",
   "metadata": {},
   "outputs": [
    {
     "data": {
      "text/html": [
       "<pre style=\"white-space:pre;overflow-x:auto;line-height:normal;font-family:Menlo,'DejaVu Sans Mono',consolas,'Courier New',monospace\"><span style=\"color: #a8a8a8; text-decoration-color: #a8a8a8; font-weight: bold\">Decrypted Message: Elementary my dear Watson </span>\n",
       "</pre>\n"
      ],
      "text/plain": [
       "\u001b[1;38;5;248mDecrypted Message: Elementary my dear Watson \u001b[0m\n"
      ]
     },
     "metadata": {},
     "output_type": "display_data"
    }
   ],
   "source": [
    "def decrypt(text, shift):\n",
    "    deresult = \"\" \n",
    "    for letter in text:\n",
    "        if inLetters(letter):\n",
    "            deresult = deresult + getLetter(letter, True)\n",
    "        else:\n",
    "            deresult = deresult +  letter\n",
    "    return deresult\n",
    "    \n",
    "decrypted_msg = decrypt(cipher,shift)\n",
    "console.print(\"Decrypted Message: {} \" . format(decrypted_msg), style=\"text\")"
   ]
  },
  {
   "cell_type": "markdown",
   "id": "832b0a86-d073-4333-869b-e34521249789",
   "metadata": {},
   "source": [
    "### Crack:"
   ]
  },
  {
   "cell_type": "markdown",
   "id": "bef0d3d8-e185-4746-9ebc-d1d15cb12334",
   "metadata": {},
   "source": [
    "Brute force támadás, ami végig próbál két féle abécé készletet is, annak a hosszáig próbálgatva az eltolásokat."
   ]
  },
  {
   "cell_type": "code",
   "execution_count": 5,
   "id": "10a1dd9e-249c-4165-bf13-7c9e0c54275a",
   "metadata": {},
   "outputs": [
    {
     "data": {
      "text/html": [
       "<pre style=\"white-space:pre;overflow-x:auto;line-height:normal;font-family:Menlo,'DejaVu Sans Mono',consolas,'Courier New',monospace\"><span style=\"color: #800000; text-decoration-color: #800000; font-weight: bold\">TRY </span><span style=\"color: #008080; text-decoration-color: #008080; font-weight: bold\">1</span>\n",
       "</pre>\n"
      ],
      "text/plain": [
       "\u001b[1;31mTRY \u001b[0m\u001b[1;36m1\u001b[0m\n"
      ]
     },
     "metadata": {},
     "output_type": "display_data"
    },
    {
     "data": {
      "text/html": [
       "<pre style=\"white-space:pre;overflow-x:auto;line-height:normal;font-family:Menlo,'DejaVu Sans Mono',consolas,'Courier New',monospace\"><span style=\"color: #a8a8a8; text-decoration-color: #a8a8a8; font-weight: bold\">Shift </span><span style=\"color: #008080; text-decoration-color: #008080; font-weight: bold\">0</span>\n",
       "</pre>\n"
      ],
      "text/plain": [
       "\u001b[1;38;5;248mShift \u001b[0m\u001b[1;36m0\u001b[0m\n"
      ]
     },
     "metadata": {},
     "output_type": "display_data"
    },
    {
     "data": {
      "text/html": [
       "<pre style=\"white-space:pre;overflow-x:auto;line-height:normal;font-family:Menlo,'DejaVu Sans Mono',consolas,'Courier New',monospace\"><span style=\"color: #800000; text-decoration-color: #800000; font-weight: bold\">Decrypted Message: IpiqirxevCdqCdhievd exwsr </span>\n",
       "</pre>\n"
      ],
      "text/plain": [
       "\u001b[1;31mDecrypted Message: IpiqirxevCdqCdhievd exwsr \u001b[0m\n"
      ]
     },
     "metadata": {},
     "output_type": "display_data"
    },
    {
     "data": {
      "text/html": [
       "<pre style=\"white-space:pre;overflow-x:auto;line-height:normal;font-family:Menlo,'DejaVu Sans Mono',consolas,'Courier New',monospace\"><span style=\"color: #a8a8a8; text-decoration-color: #a8a8a8; font-weight: bold\">Shift </span><span style=\"color: #008080; text-decoration-color: #008080; font-weight: bold\">1</span>\n",
       "</pre>\n"
      ],
      "text/plain": [
       "\u001b[1;38;5;248mShift \u001b[0m\u001b[1;36m1\u001b[0m\n"
      ]
     },
     "metadata": {},
     "output_type": "display_data"
    },
    {
     "data": {
      "text/html": [
       "<pre style=\"white-space:pre;overflow-x:auto;line-height:normal;font-family:Menlo,'DejaVu Sans Mono',consolas,'Courier New',monospace\"><span style=\"color: #800000; text-decoration-color: #800000; font-weight: bold\">Decrypted Message: HohphqwduBcpBcghducZdwvrq </span>\n",
       "</pre>\n"
      ],
      "text/plain": [
       "\u001b[1;31mDecrypted Message: HohphqwduBcpBcghducZdwvrq \u001b[0m\n"
      ]
     },
     "metadata": {},
     "output_type": "display_data"
    },
    {
     "data": {
      "text/html": [
       "<pre style=\"white-space:pre;overflow-x:auto;line-height:normal;font-family:Menlo,'DejaVu Sans Mono',consolas,'Courier New',monospace\"><span style=\"color: #a8a8a8; text-decoration-color: #a8a8a8; font-weight: bold\">Shift </span><span style=\"color: #008080; text-decoration-color: #008080; font-weight: bold\">2</span>\n",
       "</pre>\n"
      ],
      "text/plain": [
       "\u001b[1;38;5;248mShift \u001b[0m\u001b[1;36m2\u001b[0m\n"
      ]
     },
     "metadata": {},
     "output_type": "display_data"
    },
    {
     "data": {
      "text/html": [
       "<pre style=\"white-space:pre;overflow-x:auto;line-height:normal;font-family:Menlo,'DejaVu Sans Mono',consolas,'Courier New',monospace\"><span style=\"color: #800000; text-decoration-color: #800000; font-weight: bold\">Decrypted Message: GngogpvctAboAbfgctbYcvuqp </span>\n",
       "</pre>\n"
      ],
      "text/plain": [
       "\u001b[1;31mDecrypted Message: GngogpvctAboAbfgctbYcvuqp \u001b[0m\n"
      ]
     },
     "metadata": {},
     "output_type": "display_data"
    },
    {
     "data": {
      "text/html": [
       "<pre style=\"white-space:pre;overflow-x:auto;line-height:normal;font-family:Menlo,'DejaVu Sans Mono',consolas,'Courier New',monospace\"><span style=\"color: #a8a8a8; text-decoration-color: #a8a8a8; font-weight: bold\">Shift </span><span style=\"color: #008080; text-decoration-color: #008080; font-weight: bold\">3</span>\n",
       "</pre>\n"
      ],
      "text/plain": [
       "\u001b[1;38;5;248mShift \u001b[0m\u001b[1;36m3\u001b[0m\n"
      ]
     },
     "metadata": {},
     "output_type": "display_data"
    },
    {
     "data": {
      "text/html": [
       "<pre style=\"white-space:pre;overflow-x:auto;line-height:normal;font-family:Menlo,'DejaVu Sans Mono',consolas,'Courier New',monospace\"><span style=\"color: #800000; text-decoration-color: #800000; font-weight: bold\">Decrypted Message: FmfnfoubszanzaefbsaXbutpo </span>\n",
       "</pre>\n"
      ],
      "text/plain": [
       "\u001b[1;31mDecrypted Message: FmfnfoubszanzaefbsaXbutpo \u001b[0m\n"
      ]
     },
     "metadata": {},
     "output_type": "display_data"
    },
    {
     "data": {
      "text/html": [
       "<pre style=\"white-space:pre;overflow-x:auto;line-height:normal;font-family:Menlo,'DejaVu Sans Mono',consolas,'Courier New',monospace\"><span style=\"color: #a8a8a8; text-decoration-color: #a8a8a8; font-weight: bold\">Shift </span><span style=\"color: #008080; text-decoration-color: #008080; font-weight: bold\">4</span>\n",
       "</pre>\n"
      ],
      "text/plain": [
       "\u001b[1;38;5;248mShift \u001b[0m\u001b[1;36m4\u001b[0m\n"
      ]
     },
     "metadata": {},
     "output_type": "display_data"
    },
    {
     "data": {
      "text/html": [
       "<pre style=\"white-space:pre;overflow-x:auto;line-height:normal;font-family:Menlo,'DejaVu Sans Mono',consolas,'Courier New',monospace\"><span style=\"color: #800000; text-decoration-color: #800000; font-weight: bold\">Decrypted Message: Elementary my dear Watson </span>\n",
       "</pre>\n"
      ],
      "text/plain": [
       "\u001b[1;31mDecrypted Message: Elementary my dear Watson \u001b[0m\n"
      ]
     },
     "metadata": {},
     "output_type": "display_data"
    },
    {
     "data": {
      "text/html": [
       "<pre style=\"white-space:pre;overflow-x:auto;line-height:normal;font-family:Menlo,'DejaVu Sans Mono',consolas,'Courier New',monospace\"><span style=\"color: #a8a8a8; text-decoration-color: #a8a8a8; font-weight: bold\">Shift </span><span style=\"color: #008080; text-decoration-color: #008080; font-weight: bold\">5</span>\n",
       "</pre>\n"
      ],
      "text/plain": [
       "\u001b[1;38;5;248mShift \u001b[0m\u001b[1;36m5\u001b[0m\n"
      ]
     },
     "metadata": {},
     "output_type": "display_data"
    },
    {
     "data": {
      "text/html": [
       "<pre style=\"white-space:pre;overflow-x:auto;line-height:normal;font-family:Menlo,'DejaVu Sans Mono',consolas,'Courier New',monospace\"><span style=\"color: #800000; text-decoration-color: #800000; font-weight: bold\">Decrypted Message: Dkdldms qxZlxZcd qZV srnm </span>\n",
       "</pre>\n"
      ],
      "text/plain": [
       "\u001b[1;31mDecrypted Message: Dkdldms qxZlxZcd qZV srnm \u001b[0m\n"
      ]
     },
     "metadata": {},
     "output_type": "display_data"
    },
    {
     "data": {
      "text/html": [
       "<pre style=\"white-space:pre;overflow-x:auto;line-height:normal;font-family:Menlo,'DejaVu Sans Mono',consolas,'Courier New',monospace\"><span style=\"color: #a8a8a8; text-decoration-color: #a8a8a8; font-weight: bold\">Shift </span><span style=\"color: #008080; text-decoration-color: #008080; font-weight: bold\">6</span>\n",
       "</pre>\n"
      ],
      "text/plain": [
       "\u001b[1;38;5;248mShift \u001b[0m\u001b[1;36m6\u001b[0m\n"
      ]
     },
     "metadata": {},
     "output_type": "display_data"
    },
    {
     "data": {
      "text/html": [
       "<pre style=\"white-space:pre;overflow-x:auto;line-height:normal;font-family:Menlo,'DejaVu Sans Mono',consolas,'Courier New',monospace\"><span style=\"color: #800000; text-decoration-color: #800000; font-weight: bold\">Decrypted Message: CjckclrZpwYkwYbcZpYUZrqml </span>\n",
       "</pre>\n"
      ],
      "text/plain": [
       "\u001b[1;31mDecrypted Message: CjckclrZpwYkwYbcZpYUZrqml \u001b[0m\n"
      ]
     },
     "metadata": {},
     "output_type": "display_data"
    },
    {
     "data": {
      "text/html": [
       "<pre style=\"white-space:pre;overflow-x:auto;line-height:normal;font-family:Menlo,'DejaVu Sans Mono',consolas,'Courier New',monospace\"><span style=\"color: #a8a8a8; text-decoration-color: #a8a8a8; font-weight: bold\">Shift </span><span style=\"color: #008080; text-decoration-color: #008080; font-weight: bold\">7</span>\n",
       "</pre>\n"
      ],
      "text/plain": [
       "\u001b[1;38;5;248mShift \u001b[0m\u001b[1;36m7\u001b[0m\n"
      ]
     },
     "metadata": {},
     "output_type": "display_data"
    },
    {
     "data": {
      "text/html": [
       "<pre style=\"white-space:pre;overflow-x:auto;line-height:normal;font-family:Menlo,'DejaVu Sans Mono',consolas,'Courier New',monospace\"><span style=\"color: #800000; text-decoration-color: #800000; font-weight: bold\">Decrypted Message: BibjbkqYovXjvXabYoXTYqplk </span>\n",
       "</pre>\n"
      ],
      "text/plain": [
       "\u001b[1;31mDecrypted Message: BibjbkqYovXjvXabYoXTYqplk \u001b[0m\n"
      ]
     },
     "metadata": {},
     "output_type": "display_data"
    },
    {
     "data": {
      "text/html": [
       "<pre style=\"white-space:pre;overflow-x:auto;line-height:normal;font-family:Menlo,'DejaVu Sans Mono',consolas,'Courier New',monospace\"><span style=\"color: #a8a8a8; text-decoration-color: #a8a8a8; font-weight: bold\">Shift </span><span style=\"color: #008080; text-decoration-color: #008080; font-weight: bold\">8</span>\n",
       "</pre>\n"
      ],
      "text/plain": [
       "\u001b[1;38;5;248mShift \u001b[0m\u001b[1;36m8\u001b[0m\n"
      ]
     },
     "metadata": {},
     "output_type": "display_data"
    },
    {
     "data": {
      "text/html": [
       "<pre style=\"white-space:pre;overflow-x:auto;line-height:normal;font-family:Menlo,'DejaVu Sans Mono',consolas,'Courier New',monospace\"><span style=\"color: #800000; text-decoration-color: #800000; font-weight: bold\">Decrypted Message: AhaiajpXnuWiuW aXnWSXpokj </span>\n",
       "</pre>\n"
      ],
      "text/plain": [
       "\u001b[1;31mDecrypted Message: AhaiajpXnuWiuW aXnWSXpokj \u001b[0m\n"
      ]
     },
     "metadata": {},
     "output_type": "display_data"
    },
    {
     "data": {
      "text/html": [
       "<pre style=\"white-space:pre;overflow-x:auto;line-height:normal;font-family:Menlo,'DejaVu Sans Mono',consolas,'Courier New',monospace\"><span style=\"color: #a8a8a8; text-decoration-color: #a8a8a8; font-weight: bold\">Shift </span><span style=\"color: #008080; text-decoration-color: #008080; font-weight: bold\">9</span>\n",
       "</pre>\n"
      ],
      "text/plain": [
       "\u001b[1;38;5;248mShift \u001b[0m\u001b[1;36m9\u001b[0m\n"
      ]
     },
     "metadata": {},
     "output_type": "display_data"
    },
    {
     "data": {
      "text/html": [
       "<pre style=\"white-space:pre;overflow-x:auto;line-height:normal;font-family:Menlo,'DejaVu Sans Mono',consolas,'Courier New',monospace\"><span style=\"color: #800000; text-decoration-color: #800000; font-weight: bold\">Decrypted Message: zg h ioWmtVhtVZ WmVRWonji </span>\n",
       "</pre>\n"
      ],
      "text/plain": [
       "\u001b[1;31mDecrypted Message: zg h ioWmtVhtVZ WmVRWonji \u001b[0m\n"
      ]
     },
     "metadata": {},
     "output_type": "display_data"
    },
    {
     "data": {
      "text/html": [
       "<pre style=\"white-space:pre;overflow-x:auto;line-height:normal;font-family:Menlo,'DejaVu Sans Mono',consolas,'Courier New',monospace\"><span style=\"color: #a8a8a8; text-decoration-color: #a8a8a8; font-weight: bold\">Shift </span><span style=\"color: #008080; text-decoration-color: #008080; font-weight: bold\">10</span>\n",
       "</pre>\n"
      ],
      "text/plain": [
       "\u001b[1;38;5;248mShift \u001b[0m\u001b[1;36m10\u001b[0m\n"
      ]
     },
     "metadata": {},
     "output_type": "display_data"
    },
    {
     "data": {
      "text/html": [
       "<pre style=\"white-space:pre;overflow-x:auto;line-height:normal;font-family:Menlo,'DejaVu Sans Mono',consolas,'Courier New',monospace\"><span style=\"color: #800000; text-decoration-color: #800000; font-weight: bold\">Decrypted Message: yfZgZhnVlsUgsUYZVlUQVnmih </span>\n",
       "</pre>\n"
      ],
      "text/plain": [
       "\u001b[1;31mDecrypted Message: yfZgZhnVlsUgsUYZVlUQVnmih \u001b[0m\n"
      ]
     },
     "metadata": {},
     "output_type": "display_data"
    },
    {
     "data": {
      "text/html": [
       "<pre style=\"white-space:pre;overflow-x:auto;line-height:normal;font-family:Menlo,'DejaVu Sans Mono',consolas,'Courier New',monospace\"><span style=\"color: #a8a8a8; text-decoration-color: #a8a8a8; font-weight: bold\">Shift </span><span style=\"color: #008080; text-decoration-color: #008080; font-weight: bold\">11</span>\n",
       "</pre>\n"
      ],
      "text/plain": [
       "\u001b[1;38;5;248mShift \u001b[0m\u001b[1;36m11\u001b[0m\n"
      ]
     },
     "metadata": {},
     "output_type": "display_data"
    },
    {
     "data": {
      "text/html": [
       "<pre style=\"white-space:pre;overflow-x:auto;line-height:normal;font-family:Menlo,'DejaVu Sans Mono',consolas,'Courier New',monospace\"><span style=\"color: #800000; text-decoration-color: #800000; font-weight: bold\">Decrypted Message: xeYfYgmUkrTfrTXYUkTPUmlhg </span>\n",
       "</pre>\n"
      ],
      "text/plain": [
       "\u001b[1;31mDecrypted Message: xeYfYgmUkrTfrTXYUkTPUmlhg \u001b[0m\n"
      ]
     },
     "metadata": {},
     "output_type": "display_data"
    },
    {
     "data": {
      "text/html": [
       "<pre style=\"white-space:pre;overflow-x:auto;line-height:normal;font-family:Menlo,'DejaVu Sans Mono',consolas,'Courier New',monospace\"><span style=\"color: #a8a8a8; text-decoration-color: #a8a8a8; font-weight: bold\">Shift </span><span style=\"color: #008080; text-decoration-color: #008080; font-weight: bold\">12</span>\n",
       "</pre>\n"
      ],
      "text/plain": [
       "\u001b[1;38;5;248mShift \u001b[0m\u001b[1;36m12\u001b[0m\n"
      ]
     },
     "metadata": {},
     "output_type": "display_data"
    },
    {
     "data": {
      "text/html": [
       "<pre style=\"white-space:pre;overflow-x:auto;line-height:normal;font-family:Menlo,'DejaVu Sans Mono',consolas,'Courier New',monospace\"><span style=\"color: #800000; text-decoration-color: #800000; font-weight: bold\">Decrypted Message: wdXeXflTjqSeqSWXTjSOTlkgf </span>\n",
       "</pre>\n"
      ],
      "text/plain": [
       "\u001b[1;31mDecrypted Message: wdXeXflTjqSeqSWXTjSOTlkgf \u001b[0m\n"
      ]
     },
     "metadata": {},
     "output_type": "display_data"
    },
    {
     "data": {
      "text/html": [
       "<pre style=\"white-space:pre;overflow-x:auto;line-height:normal;font-family:Menlo,'DejaVu Sans Mono',consolas,'Courier New',monospace\"><span style=\"color: #a8a8a8; text-decoration-color: #a8a8a8; font-weight: bold\">Shift </span><span style=\"color: #008080; text-decoration-color: #008080; font-weight: bold\">13</span>\n",
       "</pre>\n"
      ],
      "text/plain": [
       "\u001b[1;38;5;248mShift \u001b[0m\u001b[1;36m13\u001b[0m\n"
      ]
     },
     "metadata": {},
     "output_type": "display_data"
    },
    {
     "data": {
      "text/html": [
       "<pre style=\"white-space:pre;overflow-x:auto;line-height:normal;font-family:Menlo,'DejaVu Sans Mono',consolas,'Courier New',monospace\"><span style=\"color: #800000; text-decoration-color: #800000; font-weight: bold\">Decrypted Message: vcWdWekSipRdpRVWSiRNSkjfe </span>\n",
       "</pre>\n"
      ],
      "text/plain": [
       "\u001b[1;31mDecrypted Message: vcWdWekSipRdpRVWSiRNSkjfe \u001b[0m\n"
      ]
     },
     "metadata": {},
     "output_type": "display_data"
    },
    {
     "data": {
      "text/html": [
       "<pre style=\"white-space:pre;overflow-x:auto;line-height:normal;font-family:Menlo,'DejaVu Sans Mono',consolas,'Courier New',monospace\"><span style=\"color: #a8a8a8; text-decoration-color: #a8a8a8; font-weight: bold\">Shift </span><span style=\"color: #008080; text-decoration-color: #008080; font-weight: bold\">14</span>\n",
       "</pre>\n"
      ],
      "text/plain": [
       "\u001b[1;38;5;248mShift \u001b[0m\u001b[1;36m14\u001b[0m\n"
      ]
     },
     "metadata": {},
     "output_type": "display_data"
    },
    {
     "data": {
      "text/html": [
       "<pre style=\"white-space:pre;overflow-x:auto;line-height:normal;font-family:Menlo,'DejaVu Sans Mono',consolas,'Courier New',monospace\"><span style=\"color: #800000; text-decoration-color: #800000; font-weight: bold\">Decrypted Message: ubVcVdjRhoQcoQUVRhQMRjied </span>\n",
       "</pre>\n"
      ],
      "text/plain": [
       "\u001b[1;31mDecrypted Message: ubVcVdjRhoQcoQUVRhQMRjied \u001b[0m\n"
      ]
     },
     "metadata": {},
     "output_type": "display_data"
    },
    {
     "data": {
      "text/html": [
       "<pre style=\"white-space:pre;overflow-x:auto;line-height:normal;font-family:Menlo,'DejaVu Sans Mono',consolas,'Courier New',monospace\"><span style=\"color: #a8a8a8; text-decoration-color: #a8a8a8; font-weight: bold\">Shift </span><span style=\"color: #008080; text-decoration-color: #008080; font-weight: bold\">15</span>\n",
       "</pre>\n"
      ],
      "text/plain": [
       "\u001b[1;38;5;248mShift \u001b[0m\u001b[1;36m15\u001b[0m\n"
      ]
     },
     "metadata": {},
     "output_type": "display_data"
    },
    {
     "data": {
      "text/html": [
       "<pre style=\"white-space:pre;overflow-x:auto;line-height:normal;font-family:Menlo,'DejaVu Sans Mono',consolas,'Courier New',monospace\"><span style=\"color: #800000; text-decoration-color: #800000; font-weight: bold\">Decrypted Message: taUbUciQgnPbnPTUQgPLQihdc </span>\n",
       "</pre>\n"
      ],
      "text/plain": [
       "\u001b[1;31mDecrypted Message: taUbUciQgnPbnPTUQgPLQihdc \u001b[0m\n"
      ]
     },
     "metadata": {},
     "output_type": "display_data"
    },
    {
     "data": {
      "text/html": [
       "<pre style=\"white-space:pre;overflow-x:auto;line-height:normal;font-family:Menlo,'DejaVu Sans Mono',consolas,'Courier New',monospace\"><span style=\"color: #a8a8a8; text-decoration-color: #a8a8a8; font-weight: bold\">Shift </span><span style=\"color: #008080; text-decoration-color: #008080; font-weight: bold\">16</span>\n",
       "</pre>\n"
      ],
      "text/plain": [
       "\u001b[1;38;5;248mShift \u001b[0m\u001b[1;36m16\u001b[0m\n"
      ]
     },
     "metadata": {},
     "output_type": "display_data"
    },
    {
     "data": {
      "text/html": [
       "<pre style=\"white-space:pre;overflow-x:auto;line-height:normal;font-family:Menlo,'DejaVu Sans Mono',consolas,'Courier New',monospace\"><span style=\"color: #800000; text-decoration-color: #800000; font-weight: bold\">Decrypted Message: s TaTbhPfmOamOSTPfOKPhgcb </span>\n",
       "</pre>\n"
      ],
      "text/plain": [
       "\u001b[1;31mDecrypted Message: s TaTbhPfmOamOSTPfOKPhgcb \u001b[0m\n"
      ]
     },
     "metadata": {},
     "output_type": "display_data"
    },
    {
     "data": {
      "text/html": [
       "<pre style=\"white-space:pre;overflow-x:auto;line-height:normal;font-family:Menlo,'DejaVu Sans Mono',consolas,'Courier New',monospace\"><span style=\"color: #a8a8a8; text-decoration-color: #a8a8a8; font-weight: bold\">Shift </span><span style=\"color: #008080; text-decoration-color: #008080; font-weight: bold\">17</span>\n",
       "</pre>\n"
      ],
      "text/plain": [
       "\u001b[1;38;5;248mShift \u001b[0m\u001b[1;36m17\u001b[0m\n"
      ]
     },
     "metadata": {},
     "output_type": "display_data"
    },
    {
     "data": {
      "text/html": [
       "<pre style=\"white-space:pre;overflow-x:auto;line-height:normal;font-family:Menlo,'DejaVu Sans Mono',consolas,'Courier New',monospace\"><span style=\"color: #800000; text-decoration-color: #800000; font-weight: bold\">Decrypted Message: rZS SagOelN lNRSOeNJOgfba </span>\n",
       "</pre>\n"
      ],
      "text/plain": [
       "\u001b[1;31mDecrypted Message: rZS SagOelN lNRSOeNJOgfba \u001b[0m\n"
      ]
     },
     "metadata": {},
     "output_type": "display_data"
    },
    {
     "data": {
      "text/html": [
       "<pre style=\"white-space:pre;overflow-x:auto;line-height:normal;font-family:Menlo,'DejaVu Sans Mono',consolas,'Courier New',monospace\"><span style=\"color: #a8a8a8; text-decoration-color: #a8a8a8; font-weight: bold\">Shift </span><span style=\"color: #008080; text-decoration-color: #008080; font-weight: bold\">18</span>\n",
       "</pre>\n"
      ],
      "text/plain": [
       "\u001b[1;38;5;248mShift \u001b[0m\u001b[1;36m18\u001b[0m\n"
      ]
     },
     "metadata": {},
     "output_type": "display_data"
    },
    {
     "data": {
      "text/html": [
       "<pre style=\"white-space:pre;overflow-x:auto;line-height:normal;font-family:Menlo,'DejaVu Sans Mono',consolas,'Courier New',monospace\"><span style=\"color: #800000; text-decoration-color: #800000; font-weight: bold\">Decrypted Message: qYRZR fNdkMZkMQRNdMINfea  </span>\n",
       "</pre>\n"
      ],
      "text/plain": [
       "\u001b[1;31mDecrypted Message: qYRZR fNdkMZkMQRNdMINfea  \u001b[0m\n"
      ]
     },
     "metadata": {},
     "output_type": "display_data"
    },
    {
     "data": {
      "text/html": [
       "<pre style=\"white-space:pre;overflow-x:auto;line-height:normal;font-family:Menlo,'DejaVu Sans Mono',consolas,'Courier New',monospace\"><span style=\"color: #a8a8a8; text-decoration-color: #a8a8a8; font-weight: bold\">Shift </span><span style=\"color: #008080; text-decoration-color: #008080; font-weight: bold\">19</span>\n",
       "</pre>\n"
      ],
      "text/plain": [
       "\u001b[1;38;5;248mShift \u001b[0m\u001b[1;36m19\u001b[0m\n"
      ]
     },
     "metadata": {},
     "output_type": "display_data"
    },
    {
     "data": {
      "text/html": [
       "<pre style=\"white-space:pre;overflow-x:auto;line-height:normal;font-family:Menlo,'DejaVu Sans Mono',consolas,'Courier New',monospace\"><span style=\"color: #800000; text-decoration-color: #800000; font-weight: bold\">Decrypted Message: pXQYQZeMcjLYjLPQMcLHMed Z </span>\n",
       "</pre>\n"
      ],
      "text/plain": [
       "\u001b[1;31mDecrypted Message: pXQYQZeMcjLYjLPQMcLHMed Z \u001b[0m\n"
      ]
     },
     "metadata": {},
     "output_type": "display_data"
    },
    {
     "data": {
      "text/html": [
       "<pre style=\"white-space:pre;overflow-x:auto;line-height:normal;font-family:Menlo,'DejaVu Sans Mono',consolas,'Courier New',monospace\"><span style=\"color: #a8a8a8; text-decoration-color: #a8a8a8; font-weight: bold\">Shift </span><span style=\"color: #008080; text-decoration-color: #008080; font-weight: bold\">20</span>\n",
       "</pre>\n"
      ],
      "text/plain": [
       "\u001b[1;38;5;248mShift \u001b[0m\u001b[1;36m20\u001b[0m\n"
      ]
     },
     "metadata": {},
     "output_type": "display_data"
    },
    {
     "data": {
      "text/html": [
       "<pre style=\"white-space:pre;overflow-x:auto;line-height:normal;font-family:Menlo,'DejaVu Sans Mono',consolas,'Courier New',monospace\"><span style=\"color: #800000; text-decoration-color: #800000; font-weight: bold\">Decrypted Message: oWPXPYdLbiKXiKOPLbKGLdcZY </span>\n",
       "</pre>\n"
      ],
      "text/plain": [
       "\u001b[1;31mDecrypted Message: oWPXPYdLbiKXiKOPLbKGLdcZY \u001b[0m\n"
      ]
     },
     "metadata": {},
     "output_type": "display_data"
    },
    {
     "data": {
      "text/html": [
       "<pre style=\"white-space:pre;overflow-x:auto;line-height:normal;font-family:Menlo,'DejaVu Sans Mono',consolas,'Courier New',monospace\"><span style=\"color: #a8a8a8; text-decoration-color: #a8a8a8; font-weight: bold\">Shift </span><span style=\"color: #008080; text-decoration-color: #008080; font-weight: bold\">21</span>\n",
       "</pre>\n"
      ],
      "text/plain": [
       "\u001b[1;38;5;248mShift \u001b[0m\u001b[1;36m21\u001b[0m\n"
      ]
     },
     "metadata": {},
     "output_type": "display_data"
    },
    {
     "data": {
      "text/html": [
       "<pre style=\"white-space:pre;overflow-x:auto;line-height:normal;font-family:Menlo,'DejaVu Sans Mono',consolas,'Courier New',monospace\"><span style=\"color: #800000; text-decoration-color: #800000; font-weight: bold\">Decrypted Message: nVOWOXcKahJWhJNOKaJFKcbYX </span>\n",
       "</pre>\n"
      ],
      "text/plain": [
       "\u001b[1;31mDecrypted Message: nVOWOXcKahJWhJNOKaJFKcbYX \u001b[0m\n"
      ]
     },
     "metadata": {},
     "output_type": "display_data"
    },
    {
     "data": {
      "text/html": [
       "<pre style=\"white-space:pre;overflow-x:auto;line-height:normal;font-family:Menlo,'DejaVu Sans Mono',consolas,'Courier New',monospace\"><span style=\"color: #a8a8a8; text-decoration-color: #a8a8a8; font-weight: bold\">Shift </span><span style=\"color: #008080; text-decoration-color: #008080; font-weight: bold\">22</span>\n",
       "</pre>\n"
      ],
      "text/plain": [
       "\u001b[1;38;5;248mShift \u001b[0m\u001b[1;36m22\u001b[0m\n"
      ]
     },
     "metadata": {},
     "output_type": "display_data"
    },
    {
     "data": {
      "text/html": [
       "<pre style=\"white-space:pre;overflow-x:auto;line-height:normal;font-family:Menlo,'DejaVu Sans Mono',consolas,'Courier New',monospace\"><span style=\"color: #800000; text-decoration-color: #800000; font-weight: bold\">Decrypted Message: mUNVNWbJ gIVgIMNJ IEJbaXW </span>\n",
       "</pre>\n"
      ],
      "text/plain": [
       "\u001b[1;31mDecrypted Message: mUNVNWbJ gIVgIMNJ IEJbaXW \u001b[0m\n"
      ]
     },
     "metadata": {},
     "output_type": "display_data"
    },
    {
     "data": {
      "text/html": [
       "<pre style=\"white-space:pre;overflow-x:auto;line-height:normal;font-family:Menlo,'DejaVu Sans Mono',consolas,'Courier New',monospace\"><span style=\"color: #a8a8a8; text-decoration-color: #a8a8a8; font-weight: bold\">Shift </span><span style=\"color: #008080; text-decoration-color: #008080; font-weight: bold\">23</span>\n",
       "</pre>\n"
      ],
      "text/plain": [
       "\u001b[1;38;5;248mShift \u001b[0m\u001b[1;36m23\u001b[0m\n"
      ]
     },
     "metadata": {},
     "output_type": "display_data"
    },
    {
     "data": {
      "text/html": [
       "<pre style=\"white-space:pre;overflow-x:auto;line-height:normal;font-family:Menlo,'DejaVu Sans Mono',consolas,'Courier New',monospace\"><span style=\"color: #800000; text-decoration-color: #800000; font-weight: bold\">Decrypted Message: lTMUMVaIZfHUfHLMIZHDIa WV </span>\n",
       "</pre>\n"
      ],
      "text/plain": [
       "\u001b[1;31mDecrypted Message: lTMUMVaIZfHUfHLMIZHDIa WV \u001b[0m\n"
      ]
     },
     "metadata": {},
     "output_type": "display_data"
    },
    {
     "data": {
      "text/html": [
       "<pre style=\"white-space:pre;overflow-x:auto;line-height:normal;font-family:Menlo,'DejaVu Sans Mono',consolas,'Courier New',monospace\"><span style=\"color: #a8a8a8; text-decoration-color: #a8a8a8; font-weight: bold\">Shift </span><span style=\"color: #008080; text-decoration-color: #008080; font-weight: bold\">24</span>\n",
       "</pre>\n"
      ],
      "text/plain": [
       "\u001b[1;38;5;248mShift \u001b[0m\u001b[1;36m24\u001b[0m\n"
      ]
     },
     "metadata": {},
     "output_type": "display_data"
    },
    {
     "data": {
      "text/html": [
       "<pre style=\"white-space:pre;overflow-x:auto;line-height:normal;font-family:Menlo,'DejaVu Sans Mono',consolas,'Courier New',monospace\"><span style=\"color: #800000; text-decoration-color: #800000; font-weight: bold\">Decrypted Message: kSLTLU HYeGTeGKLHYGCH ZVU </span>\n",
       "</pre>\n"
      ],
      "text/plain": [
       "\u001b[1;31mDecrypted Message: kSLTLU HYeGTeGKLHYGCH ZVU \u001b[0m\n"
      ]
     },
     "metadata": {},
     "output_type": "display_data"
    },
    {
     "data": {
      "text/html": [
       "<pre style=\"white-space:pre;overflow-x:auto;line-height:normal;font-family:Menlo,'DejaVu Sans Mono',consolas,'Courier New',monospace\"><span style=\"color: #a8a8a8; text-decoration-color: #a8a8a8; font-weight: bold\">Shift </span><span style=\"color: #008080; text-decoration-color: #008080; font-weight: bold\">25</span>\n",
       "</pre>\n"
      ],
      "text/plain": [
       "\u001b[1;38;5;248mShift \u001b[0m\u001b[1;36m25\u001b[0m\n"
      ]
     },
     "metadata": {},
     "output_type": "display_data"
    },
    {
     "data": {
      "text/html": [
       "<pre style=\"white-space:pre;overflow-x:auto;line-height:normal;font-family:Menlo,'DejaVu Sans Mono',consolas,'Courier New',monospace\"><span style=\"color: #800000; text-decoration-color: #800000; font-weight: bold\">Decrypted Message: jRKSKTZGXdFSdFJKGXFBGZYUT </span>\n",
       "</pre>\n"
      ],
      "text/plain": [
       "\u001b[1;31mDecrypted Message: jRKSKTZGXdFSdFJKGXFBGZYUT \u001b[0m\n"
      ]
     },
     "metadata": {},
     "output_type": "display_data"
    },
    {
     "data": {
      "text/html": [
       "<pre style=\"white-space:pre;overflow-x:auto;line-height:normal;font-family:Menlo,'DejaVu Sans Mono',consolas,'Courier New',monospace\"><span style=\"color: #a8a8a8; text-decoration-color: #a8a8a8; font-weight: bold\">Shift </span><span style=\"color: #008080; text-decoration-color: #008080; font-weight: bold\">26</span>\n",
       "</pre>\n"
      ],
      "text/plain": [
       "\u001b[1;38;5;248mShift \u001b[0m\u001b[1;36m26\u001b[0m\n"
      ]
     },
     "metadata": {},
     "output_type": "display_data"
    },
    {
     "data": {
      "text/html": [
       "<pre style=\"white-space:pre;overflow-x:auto;line-height:normal;font-family:Menlo,'DejaVu Sans Mono',consolas,'Courier New',monospace\"><span style=\"color: #800000; text-decoration-color: #800000; font-weight: bold\">Decrypted Message: iQJRJSYFWcERcEIJFWEAFYXTS </span>\n",
       "</pre>\n"
      ],
      "text/plain": [
       "\u001b[1;31mDecrypted Message: iQJRJSYFWcERcEIJFWEAFYXTS \u001b[0m\n"
      ]
     },
     "metadata": {},
     "output_type": "display_data"
    },
    {
     "data": {
      "text/html": [
       "<pre style=\"white-space:pre;overflow-x:auto;line-height:normal;font-family:Menlo,'DejaVu Sans Mono',consolas,'Courier New',monospace\"><span style=\"color: #a8a8a8; text-decoration-color: #a8a8a8; font-weight: bold\">Shift </span><span style=\"color: #008080; text-decoration-color: #008080; font-weight: bold\">27</span>\n",
       "</pre>\n"
      ],
      "text/plain": [
       "\u001b[1;38;5;248mShift \u001b[0m\u001b[1;36m27\u001b[0m\n"
      ]
     },
     "metadata": {},
     "output_type": "display_data"
    },
    {
     "data": {
      "text/html": [
       "<pre style=\"white-space:pre;overflow-x:auto;line-height:normal;font-family:Menlo,'DejaVu Sans Mono',consolas,'Courier New',monospace\"><span style=\"color: #800000; text-decoration-color: #800000; font-weight: bold\">Decrypted Message: hPIQIRXEVbDQbDHIEVDzEXWSR </span>\n",
       "</pre>\n"
      ],
      "text/plain": [
       "\u001b[1;31mDecrypted Message: hPIQIRXEVbDQbDHIEVDzEXWSR \u001b[0m\n"
      ]
     },
     "metadata": {},
     "output_type": "display_data"
    },
    {
     "data": {
      "text/html": [
       "<pre style=\"white-space:pre;overflow-x:auto;line-height:normal;font-family:Menlo,'DejaVu Sans Mono',consolas,'Courier New',monospace\"><span style=\"color: #a8a8a8; text-decoration-color: #a8a8a8; font-weight: bold\">Shift </span><span style=\"color: #008080; text-decoration-color: #008080; font-weight: bold\">28</span>\n",
       "</pre>\n"
      ],
      "text/plain": [
       "\u001b[1;38;5;248mShift \u001b[0m\u001b[1;36m28\u001b[0m\n"
      ]
     },
     "metadata": {},
     "output_type": "display_data"
    },
    {
     "data": {
      "text/html": [
       "<pre style=\"white-space:pre;overflow-x:auto;line-height:normal;font-family:Menlo,'DejaVu Sans Mono',consolas,'Courier New',monospace\"><span style=\"color: #800000; text-decoration-color: #800000; font-weight: bold\">Decrypted Message: gOHPHQWDUaCPaCGHDUCyDWVRQ </span>\n",
       "</pre>\n"
      ],
      "text/plain": [
       "\u001b[1;31mDecrypted Message: gOHPHQWDUaCPaCGHDUCyDWVRQ \u001b[0m\n"
      ]
     },
     "metadata": {},
     "output_type": "display_data"
    },
    {
     "data": {
      "text/html": [
       "<pre style=\"white-space:pre;overflow-x:auto;line-height:normal;font-family:Menlo,'DejaVu Sans Mono',consolas,'Courier New',monospace\"><span style=\"color: #a8a8a8; text-decoration-color: #a8a8a8; font-weight: bold\">Shift </span><span style=\"color: #008080; text-decoration-color: #008080; font-weight: bold\">29</span>\n",
       "</pre>\n"
      ],
      "text/plain": [
       "\u001b[1;38;5;248mShift \u001b[0m\u001b[1;36m29\u001b[0m\n"
      ]
     },
     "metadata": {},
     "output_type": "display_data"
    },
    {
     "data": {
      "text/html": [
       "<pre style=\"white-space:pre;overflow-x:auto;line-height:normal;font-family:Menlo,'DejaVu Sans Mono',consolas,'Courier New',monospace\"><span style=\"color: #800000; text-decoration-color: #800000; font-weight: bold\">Decrypted Message: fNGOGPVCT BO BFGCTBxCVUQP </span>\n",
       "</pre>\n"
      ],
      "text/plain": [
       "\u001b[1;31mDecrypted Message: fNGOGPVCT BO BFGCTBxCVUQP \u001b[0m\n"
      ]
     },
     "metadata": {},
     "output_type": "display_data"
    },
    {
     "data": {
      "text/html": [
       "<pre style=\"white-space:pre;overflow-x:auto;line-height:normal;font-family:Menlo,'DejaVu Sans Mono',consolas,'Courier New',monospace\"><span style=\"color: #a8a8a8; text-decoration-color: #a8a8a8; font-weight: bold\">Shift </span><span style=\"color: #008080; text-decoration-color: #008080; font-weight: bold\">30</span>\n",
       "</pre>\n"
      ],
      "text/plain": [
       "\u001b[1;38;5;248mShift \u001b[0m\u001b[1;36m30\u001b[0m\n"
      ]
     },
     "metadata": {},
     "output_type": "display_data"
    },
    {
     "data": {
      "text/html": [
       "<pre style=\"white-space:pre;overflow-x:auto;line-height:normal;font-family:Menlo,'DejaVu Sans Mono',consolas,'Courier New',monospace\"><span style=\"color: #800000; text-decoration-color: #800000; font-weight: bold\">Decrypted Message: eMFNFOUBSZANZAEFBSAwBUTPO </span>\n",
       "</pre>\n"
      ],
      "text/plain": [
       "\u001b[1;31mDecrypted Message: eMFNFOUBSZANZAEFBSAwBUTPO \u001b[0m\n"
      ]
     },
     "metadata": {},
     "output_type": "display_data"
    },
    {
     "data": {
      "text/html": [
       "<pre style=\"white-space:pre;overflow-x:auto;line-height:normal;font-family:Menlo,'DejaVu Sans Mono',consolas,'Courier New',monospace\"><span style=\"color: #a8a8a8; text-decoration-color: #a8a8a8; font-weight: bold\">Shift </span><span style=\"color: #008080; text-decoration-color: #008080; font-weight: bold\">31</span>\n",
       "</pre>\n"
      ],
      "text/plain": [
       "\u001b[1;38;5;248mShift \u001b[0m\u001b[1;36m31\u001b[0m\n"
      ]
     },
     "metadata": {},
     "output_type": "display_data"
    },
    {
     "data": {
      "text/html": [
       "<pre style=\"white-space:pre;overflow-x:auto;line-height:normal;font-family:Menlo,'DejaVu Sans Mono',consolas,'Courier New',monospace\"><span style=\"color: #800000; text-decoration-color: #800000; font-weight: bold\">Decrypted Message: dLEMENTARYzMYzDEARzvATSON </span>\n",
       "</pre>\n"
      ],
      "text/plain": [
       "\u001b[1;31mDecrypted Message: dLEMENTARYzMYzDEARzvATSON \u001b[0m\n"
      ]
     },
     "metadata": {},
     "output_type": "display_data"
    },
    {
     "data": {
      "text/html": [
       "<pre style=\"white-space:pre;overflow-x:auto;line-height:normal;font-family:Menlo,'DejaVu Sans Mono',consolas,'Courier New',monospace\"><span style=\"color: #a8a8a8; text-decoration-color: #a8a8a8; font-weight: bold\">Shift </span><span style=\"color: #008080; text-decoration-color: #008080; font-weight: bold\">32</span>\n",
       "</pre>\n"
      ],
      "text/plain": [
       "\u001b[1;38;5;248mShift \u001b[0m\u001b[1;36m32\u001b[0m\n"
      ]
     },
     "metadata": {},
     "output_type": "display_data"
    },
    {
     "data": {
      "text/html": [
       "<pre style=\"white-space:pre;overflow-x:auto;line-height:normal;font-family:Menlo,'DejaVu Sans Mono',consolas,'Courier New',monospace\"><span style=\"color: #800000; text-decoration-color: #800000; font-weight: bold\">Decrypted Message: cKDLDMSzQXyLXyCDzQyuzSRNM </span>\n",
       "</pre>\n"
      ],
      "text/plain": [
       "\u001b[1;31mDecrypted Message: cKDLDMSzQXyLXyCDzQyuzSRNM \u001b[0m\n"
      ]
     },
     "metadata": {},
     "output_type": "display_data"
    },
    {
     "data": {
      "text/html": [
       "<pre style=\"white-space:pre;overflow-x:auto;line-height:normal;font-family:Menlo,'DejaVu Sans Mono',consolas,'Courier New',monospace\"><span style=\"color: #a8a8a8; text-decoration-color: #a8a8a8; font-weight: bold\">Shift </span><span style=\"color: #008080; text-decoration-color: #008080; font-weight: bold\">33</span>\n",
       "</pre>\n"
      ],
      "text/plain": [
       "\u001b[1;38;5;248mShift \u001b[0m\u001b[1;36m33\u001b[0m\n"
      ]
     },
     "metadata": {},
     "output_type": "display_data"
    },
    {
     "data": {
      "text/html": [
       "<pre style=\"white-space:pre;overflow-x:auto;line-height:normal;font-family:Menlo,'DejaVu Sans Mono',consolas,'Courier New',monospace\"><span style=\"color: #800000; text-decoration-color: #800000; font-weight: bold\">Decrypted Message: bJCKCLRyPWxKWxBCyPxtyRQML </span>\n",
       "</pre>\n"
      ],
      "text/plain": [
       "\u001b[1;31mDecrypted Message: bJCKCLRyPWxKWxBCyPxtyRQML \u001b[0m\n"
      ]
     },
     "metadata": {},
     "output_type": "display_data"
    },
    {
     "data": {
      "text/html": [
       "<pre style=\"white-space:pre;overflow-x:auto;line-height:normal;font-family:Menlo,'DejaVu Sans Mono',consolas,'Courier New',monospace\"><span style=\"color: #a8a8a8; text-decoration-color: #a8a8a8; font-weight: bold\">Shift </span><span style=\"color: #008080; text-decoration-color: #008080; font-weight: bold\">34</span>\n",
       "</pre>\n"
      ],
      "text/plain": [
       "\u001b[1;38;5;248mShift \u001b[0m\u001b[1;36m34\u001b[0m\n"
      ]
     },
     "metadata": {},
     "output_type": "display_data"
    },
    {
     "data": {
      "text/html": [
       "<pre style=\"white-space:pre;overflow-x:auto;line-height:normal;font-family:Menlo,'DejaVu Sans Mono',consolas,'Courier New',monospace\"><span style=\"color: #800000; text-decoration-color: #800000; font-weight: bold\">Decrypted Message: aIBJBKQxOVwJVwABxOwsxQPLK </span>\n",
       "</pre>\n"
      ],
      "text/plain": [
       "\u001b[1;31mDecrypted Message: aIBJBKQxOVwJVwABxOwsxQPLK \u001b[0m\n"
      ]
     },
     "metadata": {},
     "output_type": "display_data"
    },
    {
     "data": {
      "text/html": [
       "<pre style=\"white-space:pre;overflow-x:auto;line-height:normal;font-family:Menlo,'DejaVu Sans Mono',consolas,'Courier New',monospace\"><span style=\"color: #a8a8a8; text-decoration-color: #a8a8a8; font-weight: bold\">Shift </span><span style=\"color: #008080; text-decoration-color: #008080; font-weight: bold\">35</span>\n",
       "</pre>\n"
      ],
      "text/plain": [
       "\u001b[1;38;5;248mShift \u001b[0m\u001b[1;36m35\u001b[0m\n"
      ]
     },
     "metadata": {},
     "output_type": "display_data"
    },
    {
     "data": {
      "text/html": [
       "<pre style=\"white-space:pre;overflow-x:auto;line-height:normal;font-family:Menlo,'DejaVu Sans Mono',consolas,'Courier New',monospace\"><span style=\"color: #800000; text-decoration-color: #800000; font-weight: bold\">Decrypted Message:  HAIAJPwNUvIUvzAwNvrwPOKJ </span>\n",
       "</pre>\n"
      ],
      "text/plain": [
       "\u001b[1;31mDecrypted Message:  HAIAJPwNUvIUvzAwNvrwPOKJ \u001b[0m\n"
      ]
     },
     "metadata": {},
     "output_type": "display_data"
    },
    {
     "data": {
      "text/html": [
       "<pre style=\"white-space:pre;overflow-x:auto;line-height:normal;font-family:Menlo,'DejaVu Sans Mono',consolas,'Courier New',monospace\"><span style=\"color: #a8a8a8; text-decoration-color: #a8a8a8; font-weight: bold\">Shift </span><span style=\"color: #008080; text-decoration-color: #008080; font-weight: bold\">36</span>\n",
       "</pre>\n"
      ],
      "text/plain": [
       "\u001b[1;38;5;248mShift \u001b[0m\u001b[1;36m36\u001b[0m\n"
      ]
     },
     "metadata": {},
     "output_type": "display_data"
    },
    {
     "data": {
      "text/html": [
       "<pre style=\"white-space:pre;overflow-x:auto;line-height:normal;font-family:Menlo,'DejaVu Sans Mono',consolas,'Courier New',monospace\"><span style=\"color: #800000; text-decoration-color: #800000; font-weight: bold\">Decrypted Message: ZGzHzIOvMTuHTuyzvMuqvONJI </span>\n",
       "</pre>\n"
      ],
      "text/plain": [
       "\u001b[1;31mDecrypted Message: ZGzHzIOvMTuHTuyzvMuqvONJI \u001b[0m\n"
      ]
     },
     "metadata": {},
     "output_type": "display_data"
    },
    {
     "data": {
      "text/html": [
       "<pre style=\"white-space:pre;overflow-x:auto;line-height:normal;font-family:Menlo,'DejaVu Sans Mono',consolas,'Courier New',monospace\"><span style=\"color: #a8a8a8; text-decoration-color: #a8a8a8; font-weight: bold\">Shift </span><span style=\"color: #008080; text-decoration-color: #008080; font-weight: bold\">37</span>\n",
       "</pre>\n"
      ],
      "text/plain": [
       "\u001b[1;38;5;248mShift \u001b[0m\u001b[1;36m37\u001b[0m\n"
      ]
     },
     "metadata": {},
     "output_type": "display_data"
    },
    {
     "data": {
      "text/html": [
       "<pre style=\"white-space:pre;overflow-x:auto;line-height:normal;font-family:Menlo,'DejaVu Sans Mono',consolas,'Courier New',monospace\"><span style=\"color: #800000; text-decoration-color: #800000; font-weight: bold\">Decrypted Message: YFyGyHNuLStGStxyuLtpuNMIH </span>\n",
       "</pre>\n"
      ],
      "text/plain": [
       "\u001b[1;31mDecrypted Message: YFyGyHNuLStGStxyuLtpuNMIH \u001b[0m\n"
      ]
     },
     "metadata": {},
     "output_type": "display_data"
    },
    {
     "data": {
      "text/html": [
       "<pre style=\"white-space:pre;overflow-x:auto;line-height:normal;font-family:Menlo,'DejaVu Sans Mono',consolas,'Courier New',monospace\"><span style=\"color: #a8a8a8; text-decoration-color: #a8a8a8; font-weight: bold\">Shift </span><span style=\"color: #008080; text-decoration-color: #008080; font-weight: bold\">38</span>\n",
       "</pre>\n"
      ],
      "text/plain": [
       "\u001b[1;38;5;248mShift \u001b[0m\u001b[1;36m38\u001b[0m\n"
      ]
     },
     "metadata": {},
     "output_type": "display_data"
    },
    {
     "data": {
      "text/html": [
       "<pre style=\"white-space:pre;overflow-x:auto;line-height:normal;font-family:Menlo,'DejaVu Sans Mono',consolas,'Courier New',monospace\"><span style=\"color: #800000; text-decoration-color: #800000; font-weight: bold\">Decrypted Message: XExFxGMtKRsFRswxtKsotMLHG </span>\n",
       "</pre>\n"
      ],
      "text/plain": [
       "\u001b[1;31mDecrypted Message: XExFxGMtKRsFRswxtKsotMLHG \u001b[0m\n"
      ]
     },
     "metadata": {},
     "output_type": "display_data"
    },
    {
     "data": {
      "text/html": [
       "<pre style=\"white-space:pre;overflow-x:auto;line-height:normal;font-family:Menlo,'DejaVu Sans Mono',consolas,'Courier New',monospace\"><span style=\"color: #a8a8a8; text-decoration-color: #a8a8a8; font-weight: bold\">Shift </span><span style=\"color: #008080; text-decoration-color: #008080; font-weight: bold\">39</span>\n",
       "</pre>\n"
      ],
      "text/plain": [
       "\u001b[1;38;5;248mShift \u001b[0m\u001b[1;36m39\u001b[0m\n"
      ]
     },
     "metadata": {},
     "output_type": "display_data"
    },
    {
     "data": {
      "text/html": [
       "<pre style=\"white-space:pre;overflow-x:auto;line-height:normal;font-family:Menlo,'DejaVu Sans Mono',consolas,'Courier New',monospace\"><span style=\"color: #800000; text-decoration-color: #800000; font-weight: bold\">Decrypted Message: WDwEwFLsJQrEQrvwsJrnsLKGF </span>\n",
       "</pre>\n"
      ],
      "text/plain": [
       "\u001b[1;31mDecrypted Message: WDwEwFLsJQrEQrvwsJrnsLKGF \u001b[0m\n"
      ]
     },
     "metadata": {},
     "output_type": "display_data"
    },
    {
     "data": {
      "text/html": [
       "<pre style=\"white-space:pre;overflow-x:auto;line-height:normal;font-family:Menlo,'DejaVu Sans Mono',consolas,'Courier New',monospace\"><span style=\"color: #a8a8a8; text-decoration-color: #a8a8a8; font-weight: bold\">Shift </span><span style=\"color: #008080; text-decoration-color: #008080; font-weight: bold\">40</span>\n",
       "</pre>\n"
      ],
      "text/plain": [
       "\u001b[1;38;5;248mShift \u001b[0m\u001b[1;36m40\u001b[0m\n"
      ]
     },
     "metadata": {},
     "output_type": "display_data"
    },
    {
     "data": {
      "text/html": [
       "<pre style=\"white-space:pre;overflow-x:auto;line-height:normal;font-family:Menlo,'DejaVu Sans Mono',consolas,'Courier New',monospace\"><span style=\"color: #800000; text-decoration-color: #800000; font-weight: bold\">Decrypted Message: VCvDvEKrIPqDPquvrIqmrKJFE </span>\n",
       "</pre>\n"
      ],
      "text/plain": [
       "\u001b[1;31mDecrypted Message: VCvDvEKrIPqDPquvrIqmrKJFE \u001b[0m\n"
      ]
     },
     "metadata": {},
     "output_type": "display_data"
    },
    {
     "data": {
      "text/html": [
       "<pre style=\"white-space:pre;overflow-x:auto;line-height:normal;font-family:Menlo,'DejaVu Sans Mono',consolas,'Courier New',monospace\"><span style=\"color: #a8a8a8; text-decoration-color: #a8a8a8; font-weight: bold\">Shift </span><span style=\"color: #008080; text-decoration-color: #008080; font-weight: bold\">41</span>\n",
       "</pre>\n"
      ],
      "text/plain": [
       "\u001b[1;38;5;248mShift \u001b[0m\u001b[1;36m41\u001b[0m\n"
      ]
     },
     "metadata": {},
     "output_type": "display_data"
    },
    {
     "data": {
      "text/html": [
       "<pre style=\"white-space:pre;overflow-x:auto;line-height:normal;font-family:Menlo,'DejaVu Sans Mono',consolas,'Courier New',monospace\"><span style=\"color: #800000; text-decoration-color: #800000; font-weight: bold\">Decrypted Message: UBuCuDJqHOpCOptuqHplqJIED </span>\n",
       "</pre>\n"
      ],
      "text/plain": [
       "\u001b[1;31mDecrypted Message: UBuCuDJqHOpCOptuqHplqJIED \u001b[0m\n"
      ]
     },
     "metadata": {},
     "output_type": "display_data"
    },
    {
     "data": {
      "text/html": [
       "<pre style=\"white-space:pre;overflow-x:auto;line-height:normal;font-family:Menlo,'DejaVu Sans Mono',consolas,'Courier New',monospace\"><span style=\"color: #a8a8a8; text-decoration-color: #a8a8a8; font-weight: bold\">Shift </span><span style=\"color: #008080; text-decoration-color: #008080; font-weight: bold\">42</span>\n",
       "</pre>\n"
      ],
      "text/plain": [
       "\u001b[1;38;5;248mShift \u001b[0m\u001b[1;36m42\u001b[0m\n"
      ]
     },
     "metadata": {},
     "output_type": "display_data"
    },
    {
     "data": {
      "text/html": [
       "<pre style=\"white-space:pre;overflow-x:auto;line-height:normal;font-family:Menlo,'DejaVu Sans Mono',consolas,'Courier New',monospace\"><span style=\"color: #800000; text-decoration-color: #800000; font-weight: bold\">Decrypted Message: TAtBtCIpGNoBNostpGokpIHDC </span>\n",
       "</pre>\n"
      ],
      "text/plain": [
       "\u001b[1;31mDecrypted Message: TAtBtCIpGNoBNostpGokpIHDC \u001b[0m\n"
      ]
     },
     "metadata": {},
     "output_type": "display_data"
    },
    {
     "data": {
      "text/html": [
       "<pre style=\"white-space:pre;overflow-x:auto;line-height:normal;font-family:Menlo,'DejaVu Sans Mono',consolas,'Courier New',monospace\"><span style=\"color: #a8a8a8; text-decoration-color: #a8a8a8; font-weight: bold\">Shift </span><span style=\"color: #008080; text-decoration-color: #008080; font-weight: bold\">43</span>\n",
       "</pre>\n"
      ],
      "text/plain": [
       "\u001b[1;38;5;248mShift \u001b[0m\u001b[1;36m43\u001b[0m\n"
      ]
     },
     "metadata": {},
     "output_type": "display_data"
    },
    {
     "data": {
      "text/html": [
       "<pre style=\"white-space:pre;overflow-x:auto;line-height:normal;font-family:Menlo,'DejaVu Sans Mono',consolas,'Courier New',monospace\"><span style=\"color: #800000; text-decoration-color: #800000; font-weight: bold\">Decrypted Message: SzsAsBHoFMnAMnrsoFnjoHGCB </span>\n",
       "</pre>\n"
      ],
      "text/plain": [
       "\u001b[1;31mDecrypted Message: SzsAsBHoFMnAMnrsoFnjoHGCB \u001b[0m\n"
      ]
     },
     "metadata": {},
     "output_type": "display_data"
    },
    {
     "data": {
      "text/html": [
       "<pre style=\"white-space:pre;overflow-x:auto;line-height:normal;font-family:Menlo,'DejaVu Sans Mono',consolas,'Courier New',monospace\"><span style=\"color: #a8a8a8; text-decoration-color: #a8a8a8; font-weight: bold\">Shift </span><span style=\"color: #008080; text-decoration-color: #008080; font-weight: bold\">44</span>\n",
       "</pre>\n"
      ],
      "text/plain": [
       "\u001b[1;38;5;248mShift \u001b[0m\u001b[1;36m44\u001b[0m\n"
      ]
     },
     "metadata": {},
     "output_type": "display_data"
    },
    {
     "data": {
      "text/html": [
       "<pre style=\"white-space:pre;overflow-x:auto;line-height:normal;font-family:Menlo,'DejaVu Sans Mono',consolas,'Courier New',monospace\"><span style=\"color: #800000; text-decoration-color: #800000; font-weight: bold\">Decrypted Message: RyrzrAGnELmzLmqrnEminGFBA </span>\n",
       "</pre>\n"
      ],
      "text/plain": [
       "\u001b[1;31mDecrypted Message: RyrzrAGnELmzLmqrnEminGFBA \u001b[0m\n"
      ]
     },
     "metadata": {},
     "output_type": "display_data"
    },
    {
     "data": {
      "text/html": [
       "<pre style=\"white-space:pre;overflow-x:auto;line-height:normal;font-family:Menlo,'DejaVu Sans Mono',consolas,'Courier New',monospace\"><span style=\"color: #a8a8a8; text-decoration-color: #a8a8a8; font-weight: bold\">Shift </span><span style=\"color: #008080; text-decoration-color: #008080; font-weight: bold\">45</span>\n",
       "</pre>\n"
      ],
      "text/plain": [
       "\u001b[1;38;5;248mShift \u001b[0m\u001b[1;36m45\u001b[0m\n"
      ]
     },
     "metadata": {},
     "output_type": "display_data"
    },
    {
     "data": {
      "text/html": [
       "<pre style=\"white-space:pre;overflow-x:auto;line-height:normal;font-family:Menlo,'DejaVu Sans Mono',consolas,'Courier New',monospace\"><span style=\"color: #800000; text-decoration-color: #800000; font-weight: bold\">Decrypted Message: QxqyqzFmDKlyKlpqmDlhmFEAz </span>\n",
       "</pre>\n"
      ],
      "text/plain": [
       "\u001b[1;31mDecrypted Message: QxqyqzFmDKlyKlpqmDlhmFEAz \u001b[0m\n"
      ]
     },
     "metadata": {},
     "output_type": "display_data"
    },
    {
     "data": {
      "text/html": [
       "<pre style=\"white-space:pre;overflow-x:auto;line-height:normal;font-family:Menlo,'DejaVu Sans Mono',consolas,'Courier New',monospace\"><span style=\"color: #a8a8a8; text-decoration-color: #a8a8a8; font-weight: bold\">Shift </span><span style=\"color: #008080; text-decoration-color: #008080; font-weight: bold\">46</span>\n",
       "</pre>\n"
      ],
      "text/plain": [
       "\u001b[1;38;5;248mShift \u001b[0m\u001b[1;36m46\u001b[0m\n"
      ]
     },
     "metadata": {},
     "output_type": "display_data"
    },
    {
     "data": {
      "text/html": [
       "<pre style=\"white-space:pre;overflow-x:auto;line-height:normal;font-family:Menlo,'DejaVu Sans Mono',consolas,'Courier New',monospace\"><span style=\"color: #800000; text-decoration-color: #800000; font-weight: bold\">Decrypted Message: PwpxpyElCJkxJkoplCkglEDzy </span>\n",
       "</pre>\n"
      ],
      "text/plain": [
       "\u001b[1;31mDecrypted Message: PwpxpyElCJkxJkoplCkglEDzy \u001b[0m\n"
      ]
     },
     "metadata": {},
     "output_type": "display_data"
    },
    {
     "data": {
      "text/html": [
       "<pre style=\"white-space:pre;overflow-x:auto;line-height:normal;font-family:Menlo,'DejaVu Sans Mono',consolas,'Courier New',monospace\"><span style=\"color: #a8a8a8; text-decoration-color: #a8a8a8; font-weight: bold\">Shift </span><span style=\"color: #008080; text-decoration-color: #008080; font-weight: bold\">47</span>\n",
       "</pre>\n"
      ],
      "text/plain": [
       "\u001b[1;38;5;248mShift \u001b[0m\u001b[1;36m47\u001b[0m\n"
      ]
     },
     "metadata": {},
     "output_type": "display_data"
    },
    {
     "data": {
      "text/html": [
       "<pre style=\"white-space:pre;overflow-x:auto;line-height:normal;font-family:Menlo,'DejaVu Sans Mono',consolas,'Courier New',monospace\"><span style=\"color: #800000; text-decoration-color: #800000; font-weight: bold\">Decrypted Message: OvowoxDkBIjwIjnokBjfkDCyx </span>\n",
       "</pre>\n"
      ],
      "text/plain": [
       "\u001b[1;31mDecrypted Message: OvowoxDkBIjwIjnokBjfkDCyx \u001b[0m\n"
      ]
     },
     "metadata": {},
     "output_type": "display_data"
    },
    {
     "data": {
      "text/html": [
       "<pre style=\"white-space:pre;overflow-x:auto;line-height:normal;font-family:Menlo,'DejaVu Sans Mono',consolas,'Courier New',monospace\"><span style=\"color: #a8a8a8; text-decoration-color: #a8a8a8; font-weight: bold\">Shift </span><span style=\"color: #008080; text-decoration-color: #008080; font-weight: bold\">48</span>\n",
       "</pre>\n"
      ],
      "text/plain": [
       "\u001b[1;38;5;248mShift \u001b[0m\u001b[1;36m48\u001b[0m\n"
      ]
     },
     "metadata": {},
     "output_type": "display_data"
    },
    {
     "data": {
      "text/html": [
       "<pre style=\"white-space:pre;overflow-x:auto;line-height:normal;font-family:Menlo,'DejaVu Sans Mono',consolas,'Courier New',monospace\"><span style=\"color: #800000; text-decoration-color: #800000; font-weight: bold\">Decrypted Message: NunvnwCjAHivHimnjAiejCBxw </span>\n",
       "</pre>\n"
      ],
      "text/plain": [
       "\u001b[1;31mDecrypted Message: NunvnwCjAHivHimnjAiejCBxw \u001b[0m\n"
      ]
     },
     "metadata": {},
     "output_type": "display_data"
    },
    {
     "data": {
      "text/html": [
       "<pre style=\"white-space:pre;overflow-x:auto;line-height:normal;font-family:Menlo,'DejaVu Sans Mono',consolas,'Courier New',monospace\"><span style=\"color: #a8a8a8; text-decoration-color: #a8a8a8; font-weight: bold\">Shift </span><span style=\"color: #008080; text-decoration-color: #008080; font-weight: bold\">49</span>\n",
       "</pre>\n"
      ],
      "text/plain": [
       "\u001b[1;38;5;248mShift \u001b[0m\u001b[1;36m49\u001b[0m\n"
      ]
     },
     "metadata": {},
     "output_type": "display_data"
    },
    {
     "data": {
      "text/html": [
       "<pre style=\"white-space:pre;overflow-x:auto;line-height:normal;font-family:Menlo,'DejaVu Sans Mono',consolas,'Courier New',monospace\"><span style=\"color: #800000; text-decoration-color: #800000; font-weight: bold\">Decrypted Message: MtmumvBizGhuGhlmizhdiBAwv </span>\n",
       "</pre>\n"
      ],
      "text/plain": [
       "\u001b[1;31mDecrypted Message: MtmumvBizGhuGhlmizhdiBAwv \u001b[0m\n"
      ]
     },
     "metadata": {},
     "output_type": "display_data"
    },
    {
     "data": {
      "text/html": [
       "<pre style=\"white-space:pre;overflow-x:auto;line-height:normal;font-family:Menlo,'DejaVu Sans Mono',consolas,'Courier New',monospace\"><span style=\"color: #a8a8a8; text-decoration-color: #a8a8a8; font-weight: bold\">Shift </span><span style=\"color: #008080; text-decoration-color: #008080; font-weight: bold\">50</span>\n",
       "</pre>\n"
      ],
      "text/plain": [
       "\u001b[1;38;5;248mShift \u001b[0m\u001b[1;36m50\u001b[0m\n"
      ]
     },
     "metadata": {},
     "output_type": "display_data"
    },
    {
     "data": {
      "text/html": [
       "<pre style=\"white-space:pre;overflow-x:auto;line-height:normal;font-family:Menlo,'DejaVu Sans Mono',consolas,'Courier New',monospace\"><span style=\"color: #800000; text-decoration-color: #800000; font-weight: bold\">Decrypted Message: LsltluAhyFgtFgklhygchAzvu </span>\n",
       "</pre>\n"
      ],
      "text/plain": [
       "\u001b[1;31mDecrypted Message: LsltluAhyFgtFgklhygchAzvu \u001b[0m\n"
      ]
     },
     "metadata": {},
     "output_type": "display_data"
    },
    {
     "data": {
      "text/html": [
       "<pre style=\"white-space:pre;overflow-x:auto;line-height:normal;font-family:Menlo,'DejaVu Sans Mono',consolas,'Courier New',monospace\"><span style=\"color: #a8a8a8; text-decoration-color: #a8a8a8; font-weight: bold\">Shift </span><span style=\"color: #008080; text-decoration-color: #008080; font-weight: bold\">51</span>\n",
       "</pre>\n"
      ],
      "text/plain": [
       "\u001b[1;38;5;248mShift \u001b[0m\u001b[1;36m51\u001b[0m\n"
      ]
     },
     "metadata": {},
     "output_type": "display_data"
    },
    {
     "data": {
      "text/html": [
       "<pre style=\"white-space:pre;overflow-x:auto;line-height:normal;font-family:Menlo,'DejaVu Sans Mono',consolas,'Courier New',monospace\"><span style=\"color: #800000; text-decoration-color: #800000; font-weight: bold\">Decrypted Message: KrksktzgxEfsEfjkgxfbgzyut </span>\n",
       "</pre>\n"
      ],
      "text/plain": [
       "\u001b[1;31mDecrypted Message: KrksktzgxEfsEfjkgxfbgzyut \u001b[0m\n"
      ]
     },
     "metadata": {},
     "output_type": "display_data"
    },
    {
     "data": {
      "text/html": [
       "<pre style=\"white-space:pre;overflow-x:auto;line-height:normal;font-family:Menlo,'DejaVu Sans Mono',consolas,'Courier New',monospace\"><span style=\"color: #a8a8a8; text-decoration-color: #a8a8a8; font-weight: bold\">Shift </span><span style=\"color: #008080; text-decoration-color: #008080; font-weight: bold\">52</span>\n",
       "</pre>\n"
      ],
      "text/plain": [
       "\u001b[1;38;5;248mShift \u001b[0m\u001b[1;36m52\u001b[0m\n"
      ]
     },
     "metadata": {},
     "output_type": "display_data"
    },
    {
     "data": {
      "text/html": [
       "<pre style=\"white-space:pre;overflow-x:auto;line-height:normal;font-family:Menlo,'DejaVu Sans Mono',consolas,'Courier New',monospace\"><span style=\"color: #800000; text-decoration-color: #800000; font-weight: bold\">Decrypted Message: JqjrjsyfwDerDeijfweafyxts </span>\n",
       "</pre>\n"
      ],
      "text/plain": [
       "\u001b[1;31mDecrypted Message: JqjrjsyfwDerDeijfweafyxts \u001b[0m\n"
      ]
     },
     "metadata": {},
     "output_type": "display_data"
    },
    {
     "data": {
      "text/html": [
       "<pre style=\"white-space:pre;overflow-x:auto;line-height:normal;font-family:Menlo,'DejaVu Sans Mono',consolas,'Courier New',monospace\"><span style=\"color: #800000; text-decoration-color: #800000; font-weight: bold\">TRY </span><span style=\"color: #008080; text-decoration-color: #008080; font-weight: bold\">2</span>\n",
       "</pre>\n"
      ],
      "text/plain": [
       "\u001b[1;31mTRY \u001b[0m\u001b[1;36m2\u001b[0m\n"
      ]
     },
     "metadata": {},
     "output_type": "display_data"
    },
    {
     "data": {
      "text/html": [
       "<pre style=\"white-space:pre;overflow-x:auto;line-height:normal;font-family:Menlo,'DejaVu Sans Mono',consolas,'Courier New',monospace\"><span style=\"color: #a8a8a8; text-decoration-color: #a8a8a8; font-weight: bold\">Shift </span><span style=\"color: #008080; text-decoration-color: #008080; font-weight: bold\">0</span>\n",
       "</pre>\n"
      ],
      "text/plain": [
       "\u001b[1;38;5;248mShift \u001b[0m\u001b[1;36m0\u001b[0m\n"
      ]
     },
     "metadata": {},
     "output_type": "display_data"
    },
    {
     "data": {
      "text/html": [
       "<pre style=\"white-space:pre;overflow-x:auto;line-height:normal;font-family:Menlo,'DejaVu Sans Mono',consolas,'Courier New',monospace\"><span style=\"color: #800000; text-decoration-color: #800000; font-weight: bold\">Decrypted Message: IpiqirxevCdqCdhievd exwsr </span>\n",
       "</pre>\n"
      ],
      "text/plain": [
       "\u001b[1;31mDecrypted Message: IpiqirxevCdqCdhievd exwsr \u001b[0m\n"
      ]
     },
     "metadata": {},
     "output_type": "display_data"
    },
    {
     "data": {
      "text/html": [
       "<pre style=\"white-space:pre;overflow-x:auto;line-height:normal;font-family:Menlo,'DejaVu Sans Mono',consolas,'Courier New',monospace\"><span style=\"color: #a8a8a8; text-decoration-color: #a8a8a8; font-weight: bold\">Shift </span><span style=\"color: #008080; text-decoration-color: #008080; font-weight: bold\">1</span>\n",
       "</pre>\n"
      ],
      "text/plain": [
       "\u001b[1;38;5;248mShift \u001b[0m\u001b[1;36m1\u001b[0m\n"
      ]
     },
     "metadata": {},
     "output_type": "display_data"
    },
    {
     "data": {
      "text/html": [
       "<pre style=\"white-space:pre;overflow-x:auto;line-height:normal;font-family:Menlo,'DejaVu Sans Mono',consolas,'Courier New',monospace\"><span style=\"color: #800000; text-decoration-color: #800000; font-weight: bold\">Decrypted Message: HohphqwduBcpBcghduczdwvrq </span>\n",
       "</pre>\n"
      ],
      "text/plain": [
       "\u001b[1;31mDecrypted Message: HohphqwduBcpBcghduczdwvrq \u001b[0m\n"
      ]
     },
     "metadata": {},
     "output_type": "display_data"
    },
    {
     "data": {
      "text/html": [
       "<pre style=\"white-space:pre;overflow-x:auto;line-height:normal;font-family:Menlo,'DejaVu Sans Mono',consolas,'Courier New',monospace\"><span style=\"color: #a8a8a8; text-decoration-color: #a8a8a8; font-weight: bold\">Shift </span><span style=\"color: #008080; text-decoration-color: #008080; font-weight: bold\">2</span>\n",
       "</pre>\n"
      ],
      "text/plain": [
       "\u001b[1;38;5;248mShift \u001b[0m\u001b[1;36m2\u001b[0m\n"
      ]
     },
     "metadata": {},
     "output_type": "display_data"
    },
    {
     "data": {
      "text/html": [
       "<pre style=\"white-space:pre;overflow-x:auto;line-height:normal;font-family:Menlo,'DejaVu Sans Mono',consolas,'Courier New',monospace\"><span style=\"color: #800000; text-decoration-color: #800000; font-weight: bold\">Decrypted Message: GngogpvctAboAbfgctbycvuqp </span>\n",
       "</pre>\n"
      ],
      "text/plain": [
       "\u001b[1;31mDecrypted Message: GngogpvctAboAbfgctbycvuqp \u001b[0m\n"
      ]
     },
     "metadata": {},
     "output_type": "display_data"
    },
    {
     "data": {
      "text/html": [
       "<pre style=\"white-space:pre;overflow-x:auto;line-height:normal;font-family:Menlo,'DejaVu Sans Mono',consolas,'Courier New',monospace\"><span style=\"color: #a8a8a8; text-decoration-color: #a8a8a8; font-weight: bold\">Shift </span><span style=\"color: #008080; text-decoration-color: #008080; font-weight: bold\">3</span>\n",
       "</pre>\n"
      ],
      "text/plain": [
       "\u001b[1;38;5;248mShift \u001b[0m\u001b[1;36m3\u001b[0m\n"
      ]
     },
     "metadata": {},
     "output_type": "display_data"
    },
    {
     "data": {
      "text/html": [
       "<pre style=\"white-space:pre;overflow-x:auto;line-height:normal;font-family:Menlo,'DejaVu Sans Mono',consolas,'Courier New',monospace\"><span style=\"color: #800000; text-decoration-color: #800000; font-weight: bold\">Decrypted Message: Fmfnfoubs an aefbsaxbutpo </span>\n",
       "</pre>\n"
      ],
      "text/plain": [
       "\u001b[1;31mDecrypted Message: Fmfnfoubs an aefbsaxbutpo \u001b[0m\n"
      ]
     },
     "metadata": {},
     "output_type": "display_data"
    },
    {
     "data": {
      "text/html": [
       "<pre style=\"white-space:pre;overflow-x:auto;line-height:normal;font-family:Menlo,'DejaVu Sans Mono',consolas,'Courier New',monospace\"><span style=\"color: #a8a8a8; text-decoration-color: #a8a8a8; font-weight: bold\">Shift </span><span style=\"color: #008080; text-decoration-color: #008080; font-weight: bold\">4</span>\n",
       "</pre>\n"
      ],
      "text/plain": [
       "\u001b[1;38;5;248mShift \u001b[0m\u001b[1;36m4\u001b[0m\n"
      ]
     },
     "metadata": {},
     "output_type": "display_data"
    },
    {
     "data": {
      "text/html": [
       "<pre style=\"white-space:pre;overflow-x:auto;line-height:normal;font-family:Menlo,'DejaVu Sans Mono',consolas,'Courier New',monospace\"><span style=\"color: #800000; text-decoration-color: #800000; font-weight: bold\">Decrypted Message: ElementarzZmzZdearZwatson </span>\n",
       "</pre>\n"
      ],
      "text/plain": [
       "\u001b[1;31mDecrypted Message: ElementarzZmzZdearZwatson \u001b[0m\n"
      ]
     },
     "metadata": {},
     "output_type": "display_data"
    },
    {
     "data": {
      "text/html": [
       "<pre style=\"white-space:pre;overflow-x:auto;line-height:normal;font-family:Menlo,'DejaVu Sans Mono',consolas,'Courier New',monospace\"><span style=\"color: #a8a8a8; text-decoration-color: #a8a8a8; font-weight: bold\">Shift </span><span style=\"color: #008080; text-decoration-color: #008080; font-weight: bold\">5</span>\n",
       "</pre>\n"
      ],
      "text/plain": [
       "\u001b[1;38;5;248mShift \u001b[0m\u001b[1;36m5\u001b[0m\n"
      ]
     },
     "metadata": {},
     "output_type": "display_data"
    },
    {
     "data": {
      "text/html": [
       "<pre style=\"white-space:pre;overflow-x:auto;line-height:normal;font-family:Menlo,'DejaVu Sans Mono',consolas,'Courier New',monospace\"><span style=\"color: #800000; text-decoration-color: #800000; font-weight: bold\">Decrypted Message: DkdldmsZqyYlyYcdZqYvZsrnm </span>\n",
       "</pre>\n"
      ],
      "text/plain": [
       "\u001b[1;31mDecrypted Message: DkdldmsZqyYlyYcdZqYvZsrnm \u001b[0m\n"
      ]
     },
     "metadata": {},
     "output_type": "display_data"
    },
    {
     "data": {
      "text/html": [
       "<pre style=\"white-space:pre;overflow-x:auto;line-height:normal;font-family:Menlo,'DejaVu Sans Mono',consolas,'Courier New',monospace\"><span style=\"color: #a8a8a8; text-decoration-color: #a8a8a8; font-weight: bold\">Shift </span><span style=\"color: #008080; text-decoration-color: #008080; font-weight: bold\">6</span>\n",
       "</pre>\n"
      ],
      "text/plain": [
       "\u001b[1;38;5;248mShift \u001b[0m\u001b[1;36m6\u001b[0m\n"
      ]
     },
     "metadata": {},
     "output_type": "display_data"
    },
    {
     "data": {
      "text/html": [
       "<pre style=\"white-space:pre;overflow-x:auto;line-height:normal;font-family:Menlo,'DejaVu Sans Mono',consolas,'Courier New',monospace\"><span style=\"color: #800000; text-decoration-color: #800000; font-weight: bold\">Decrypted Message: CjckclrYpxXkxXbcYpXuYrqml </span>\n",
       "</pre>\n"
      ],
      "text/plain": [
       "\u001b[1;31mDecrypted Message: CjckclrYpxXkxXbcYpXuYrqml \u001b[0m\n"
      ]
     },
     "metadata": {},
     "output_type": "display_data"
    },
    {
     "data": {
      "text/html": [
       "<pre style=\"white-space:pre;overflow-x:auto;line-height:normal;font-family:Menlo,'DejaVu Sans Mono',consolas,'Courier New',monospace\"><span style=\"color: #a8a8a8; text-decoration-color: #a8a8a8; font-weight: bold\">Shift </span><span style=\"color: #008080; text-decoration-color: #008080; font-weight: bold\">7</span>\n",
       "</pre>\n"
      ],
      "text/plain": [
       "\u001b[1;38;5;248mShift \u001b[0m\u001b[1;36m7\u001b[0m\n"
      ]
     },
     "metadata": {},
     "output_type": "display_data"
    },
    {
     "data": {
      "text/html": [
       "<pre style=\"white-space:pre;overflow-x:auto;line-height:normal;font-family:Menlo,'DejaVu Sans Mono',consolas,'Courier New',monospace\"><span style=\"color: #800000; text-decoration-color: #800000; font-weight: bold\">Decrypted Message: BibjbkqXowWjwWabXoWtXqplk </span>\n",
       "</pre>\n"
      ],
      "text/plain": [
       "\u001b[1;31mDecrypted Message: BibjbkqXowWjwWabXoWtXqplk \u001b[0m\n"
      ]
     },
     "metadata": {},
     "output_type": "display_data"
    },
    {
     "data": {
      "text/html": [
       "<pre style=\"white-space:pre;overflow-x:auto;line-height:normal;font-family:Menlo,'DejaVu Sans Mono',consolas,'Courier New',monospace\"><span style=\"color: #a8a8a8; text-decoration-color: #a8a8a8; font-weight: bold\">Shift </span><span style=\"color: #008080; text-decoration-color: #008080; font-weight: bold\">8</span>\n",
       "</pre>\n"
      ],
      "text/plain": [
       "\u001b[1;38;5;248mShift \u001b[0m\u001b[1;36m8\u001b[0m\n"
      ]
     },
     "metadata": {},
     "output_type": "display_data"
    },
    {
     "data": {
      "text/html": [
       "<pre style=\"white-space:pre;overflow-x:auto;line-height:normal;font-family:Menlo,'DejaVu Sans Mono',consolas,'Courier New',monospace\"><span style=\"color: #800000; text-decoration-color: #800000; font-weight: bold\">Decrypted Message: AhaiajpWnvVivVZaWnVsWpokj </span>\n",
       "</pre>\n"
      ],
      "text/plain": [
       "\u001b[1;31mDecrypted Message: AhaiajpWnvVivVZaWnVsWpokj \u001b[0m\n"
      ]
     },
     "metadata": {},
     "output_type": "display_data"
    },
    {
     "data": {
      "text/html": [
       "<pre style=\"white-space:pre;overflow-x:auto;line-height:normal;font-family:Menlo,'DejaVu Sans Mono',consolas,'Courier New',monospace\"><span style=\"color: #a8a8a8; text-decoration-color: #a8a8a8; font-weight: bold\">Shift </span><span style=\"color: #008080; text-decoration-color: #008080; font-weight: bold\">9</span>\n",
       "</pre>\n"
      ],
      "text/plain": [
       "\u001b[1;38;5;248mShift \u001b[0m\u001b[1;36m9\u001b[0m\n"
      ]
     },
     "metadata": {},
     "output_type": "display_data"
    },
    {
     "data": {
      "text/html": [
       "<pre style=\"white-space:pre;overflow-x:auto;line-height:normal;font-family:Menlo,'DejaVu Sans Mono',consolas,'Courier New',monospace\"><span style=\"color: #800000; text-decoration-color: #800000; font-weight: bold\">Decrypted Message:  gZhZioVmuUhuUYZVmUrVonji </span>\n",
       "</pre>\n"
      ],
      "text/plain": [
       "\u001b[1;31mDecrypted Message:  gZhZioVmuUhuUYZVmUrVonji \u001b[0m\n"
      ]
     },
     "metadata": {},
     "output_type": "display_data"
    },
    {
     "data": {
      "text/html": [
       "<pre style=\"white-space:pre;overflow-x:auto;line-height:normal;font-family:Menlo,'DejaVu Sans Mono',consolas,'Courier New',monospace\"><span style=\"color: #a8a8a8; text-decoration-color: #a8a8a8; font-weight: bold\">Shift </span><span style=\"color: #008080; text-decoration-color: #008080; font-weight: bold\">10</span>\n",
       "</pre>\n"
      ],
      "text/plain": [
       "\u001b[1;38;5;248mShift \u001b[0m\u001b[1;36m10\u001b[0m\n"
      ]
     },
     "metadata": {},
     "output_type": "display_data"
    },
    {
     "data": {
      "text/html": [
       "<pre style=\"white-space:pre;overflow-x:auto;line-height:normal;font-family:Menlo,'DejaVu Sans Mono',consolas,'Courier New',monospace\"><span style=\"color: #800000; text-decoration-color: #800000; font-weight: bold\">Decrypted Message: zfYgYhnUltTgtTXYUlTqUnmih </span>\n",
       "</pre>\n"
      ],
      "text/plain": [
       "\u001b[1;31mDecrypted Message: zfYgYhnUltTgtTXYUlTqUnmih \u001b[0m\n"
      ]
     },
     "metadata": {},
     "output_type": "display_data"
    },
    {
     "data": {
      "text/html": [
       "<pre style=\"white-space:pre;overflow-x:auto;line-height:normal;font-family:Menlo,'DejaVu Sans Mono',consolas,'Courier New',monospace\"><span style=\"color: #a8a8a8; text-decoration-color: #a8a8a8; font-weight: bold\">Shift </span><span style=\"color: #008080; text-decoration-color: #008080; font-weight: bold\">11</span>\n",
       "</pre>\n"
      ],
      "text/plain": [
       "\u001b[1;38;5;248mShift \u001b[0m\u001b[1;36m11\u001b[0m\n"
      ]
     },
     "metadata": {},
     "output_type": "display_data"
    },
    {
     "data": {
      "text/html": [
       "<pre style=\"white-space:pre;overflow-x:auto;line-height:normal;font-family:Menlo,'DejaVu Sans Mono',consolas,'Courier New',monospace\"><span style=\"color: #800000; text-decoration-color: #800000; font-weight: bold\">Decrypted Message: yeXfXgmTksSfsSWXTkSpTmlhg </span>\n",
       "</pre>\n"
      ],
      "text/plain": [
       "\u001b[1;31mDecrypted Message: yeXfXgmTksSfsSWXTkSpTmlhg \u001b[0m\n"
      ]
     },
     "metadata": {},
     "output_type": "display_data"
    },
    {
     "data": {
      "text/html": [
       "<pre style=\"white-space:pre;overflow-x:auto;line-height:normal;font-family:Menlo,'DejaVu Sans Mono',consolas,'Courier New',monospace\"><span style=\"color: #a8a8a8; text-decoration-color: #a8a8a8; font-weight: bold\">Shift </span><span style=\"color: #008080; text-decoration-color: #008080; font-weight: bold\">12</span>\n",
       "</pre>\n"
      ],
      "text/plain": [
       "\u001b[1;38;5;248mShift \u001b[0m\u001b[1;36m12\u001b[0m\n"
      ]
     },
     "metadata": {},
     "output_type": "display_data"
    },
    {
     "data": {
      "text/html": [
       "<pre style=\"white-space:pre;overflow-x:auto;line-height:normal;font-family:Menlo,'DejaVu Sans Mono',consolas,'Courier New',monospace\"><span style=\"color: #800000; text-decoration-color: #800000; font-weight: bold\">Decrypted Message: xdWeWflSjrRerRVWSjRoSlkgf </span>\n",
       "</pre>\n"
      ],
      "text/plain": [
       "\u001b[1;31mDecrypted Message: xdWeWflSjrRerRVWSjRoSlkgf \u001b[0m\n"
      ]
     },
     "metadata": {},
     "output_type": "display_data"
    },
    {
     "data": {
      "text/html": [
       "<pre style=\"white-space:pre;overflow-x:auto;line-height:normal;font-family:Menlo,'DejaVu Sans Mono',consolas,'Courier New',monospace\"><span style=\"color: #a8a8a8; text-decoration-color: #a8a8a8; font-weight: bold\">Shift </span><span style=\"color: #008080; text-decoration-color: #008080; font-weight: bold\">13</span>\n",
       "</pre>\n"
      ],
      "text/plain": [
       "\u001b[1;38;5;248mShift \u001b[0m\u001b[1;36m13\u001b[0m\n"
      ]
     },
     "metadata": {},
     "output_type": "display_data"
    },
    {
     "data": {
      "text/html": [
       "<pre style=\"white-space:pre;overflow-x:auto;line-height:normal;font-family:Menlo,'DejaVu Sans Mono',consolas,'Courier New',monospace\"><span style=\"color: #800000; text-decoration-color: #800000; font-weight: bold\">Decrypted Message: wcVdVekRiqQdqQUVRiQnRkjfe </span>\n",
       "</pre>\n"
      ],
      "text/plain": [
       "\u001b[1;31mDecrypted Message: wcVdVekRiqQdqQUVRiQnRkjfe \u001b[0m\n"
      ]
     },
     "metadata": {},
     "output_type": "display_data"
    },
    {
     "data": {
      "text/html": [
       "<pre style=\"white-space:pre;overflow-x:auto;line-height:normal;font-family:Menlo,'DejaVu Sans Mono',consolas,'Courier New',monospace\"><span style=\"color: #a8a8a8; text-decoration-color: #a8a8a8; font-weight: bold\">Shift </span><span style=\"color: #008080; text-decoration-color: #008080; font-weight: bold\">14</span>\n",
       "</pre>\n"
      ],
      "text/plain": [
       "\u001b[1;38;5;248mShift \u001b[0m\u001b[1;36m14\u001b[0m\n"
      ]
     },
     "metadata": {},
     "output_type": "display_data"
    },
    {
     "data": {
      "text/html": [
       "<pre style=\"white-space:pre;overflow-x:auto;line-height:normal;font-family:Menlo,'DejaVu Sans Mono',consolas,'Courier New',monospace\"><span style=\"color: #800000; text-decoration-color: #800000; font-weight: bold\">Decrypted Message: vbUcUdjQhpPcpPTUQhPmQjied </span>\n",
       "</pre>\n"
      ],
      "text/plain": [
       "\u001b[1;31mDecrypted Message: vbUcUdjQhpPcpPTUQhPmQjied \u001b[0m\n"
      ]
     },
     "metadata": {},
     "output_type": "display_data"
    },
    {
     "data": {
      "text/html": [
       "<pre style=\"white-space:pre;overflow-x:auto;line-height:normal;font-family:Menlo,'DejaVu Sans Mono',consolas,'Courier New',monospace\"><span style=\"color: #a8a8a8; text-decoration-color: #a8a8a8; font-weight: bold\">Shift </span><span style=\"color: #008080; text-decoration-color: #008080; font-weight: bold\">15</span>\n",
       "</pre>\n"
      ],
      "text/plain": [
       "\u001b[1;38;5;248mShift \u001b[0m\u001b[1;36m15\u001b[0m\n"
      ]
     },
     "metadata": {},
     "output_type": "display_data"
    },
    {
     "data": {
      "text/html": [
       "<pre style=\"white-space:pre;overflow-x:auto;line-height:normal;font-family:Menlo,'DejaVu Sans Mono',consolas,'Courier New',monospace\"><span style=\"color: #800000; text-decoration-color: #800000; font-weight: bold\">Decrypted Message: uaTbTciPgoOboOSTPgOlPihdc </span>\n",
       "</pre>\n"
      ],
      "text/plain": [
       "\u001b[1;31mDecrypted Message: uaTbTciPgoOboOSTPgOlPihdc \u001b[0m\n"
      ]
     },
     "metadata": {},
     "output_type": "display_data"
    },
    {
     "data": {
      "text/html": [
       "<pre style=\"white-space:pre;overflow-x:auto;line-height:normal;font-family:Menlo,'DejaVu Sans Mono',consolas,'Courier New',monospace\"><span style=\"color: #a8a8a8; text-decoration-color: #a8a8a8; font-weight: bold\">Shift </span><span style=\"color: #008080; text-decoration-color: #008080; font-weight: bold\">16</span>\n",
       "</pre>\n"
      ],
      "text/plain": [
       "\u001b[1;38;5;248mShift \u001b[0m\u001b[1;36m16\u001b[0m\n"
      ]
     },
     "metadata": {},
     "output_type": "display_data"
    },
    {
     "data": {
      "text/html": [
       "<pre style=\"white-space:pre;overflow-x:auto;line-height:normal;font-family:Menlo,'DejaVu Sans Mono',consolas,'Courier New',monospace\"><span style=\"color: #800000; text-decoration-color: #800000; font-weight: bold\">Decrypted Message: tZSaSbhOfnNanNRSOfNkOhgcb </span>\n",
       "</pre>\n"
      ],
      "text/plain": [
       "\u001b[1;31mDecrypted Message: tZSaSbhOfnNanNRSOfNkOhgcb \u001b[0m\n"
      ]
     },
     "metadata": {},
     "output_type": "display_data"
    },
    {
     "data": {
      "text/html": [
       "<pre style=\"white-space:pre;overflow-x:auto;line-height:normal;font-family:Menlo,'DejaVu Sans Mono',consolas,'Courier New',monospace\"><span style=\"color: #a8a8a8; text-decoration-color: #a8a8a8; font-weight: bold\">Shift </span><span style=\"color: #008080; text-decoration-color: #008080; font-weight: bold\">17</span>\n",
       "</pre>\n"
      ],
      "text/plain": [
       "\u001b[1;38;5;248mShift \u001b[0m\u001b[1;36m17\u001b[0m\n"
      ]
     },
     "metadata": {},
     "output_type": "display_data"
    },
    {
     "data": {
      "text/html": [
       "<pre style=\"white-space:pre;overflow-x:auto;line-height:normal;font-family:Menlo,'DejaVu Sans Mono',consolas,'Courier New',monospace\"><span style=\"color: #800000; text-decoration-color: #800000; font-weight: bold\">Decrypted Message: sYRZRagNemMZmMQRNeMjNgfba </span>\n",
       "</pre>\n"
      ],
      "text/plain": [
       "\u001b[1;31mDecrypted Message: sYRZRagNemMZmMQRNeMjNgfba \u001b[0m\n"
      ]
     },
     "metadata": {},
     "output_type": "display_data"
    },
    {
     "data": {
      "text/html": [
       "<pre style=\"white-space:pre;overflow-x:auto;line-height:normal;font-family:Menlo,'DejaVu Sans Mono',consolas,'Courier New',monospace\"><span style=\"color: #a8a8a8; text-decoration-color: #a8a8a8; font-weight: bold\">Shift </span><span style=\"color: #008080; text-decoration-color: #008080; font-weight: bold\">18</span>\n",
       "</pre>\n"
      ],
      "text/plain": [
       "\u001b[1;38;5;248mShift \u001b[0m\u001b[1;36m18\u001b[0m\n"
      ]
     },
     "metadata": {},
     "output_type": "display_data"
    },
    {
     "data": {
      "text/html": [
       "<pre style=\"white-space:pre;overflow-x:auto;line-height:normal;font-family:Menlo,'DejaVu Sans Mono',consolas,'Courier New',monospace\"><span style=\"color: #800000; text-decoration-color: #800000; font-weight: bold\">Decrypted Message: rXQYQZfMdlLYlLPQMdLiMfeaZ </span>\n",
       "</pre>\n"
      ],
      "text/plain": [
       "\u001b[1;31mDecrypted Message: rXQYQZfMdlLYlLPQMdLiMfeaZ \u001b[0m\n"
      ]
     },
     "metadata": {},
     "output_type": "display_data"
    },
    {
     "data": {
      "text/html": [
       "<pre style=\"white-space:pre;overflow-x:auto;line-height:normal;font-family:Menlo,'DejaVu Sans Mono',consolas,'Courier New',monospace\"><span style=\"color: #a8a8a8; text-decoration-color: #a8a8a8; font-weight: bold\">Shift </span><span style=\"color: #008080; text-decoration-color: #008080; font-weight: bold\">19</span>\n",
       "</pre>\n"
      ],
      "text/plain": [
       "\u001b[1;38;5;248mShift \u001b[0m\u001b[1;36m19\u001b[0m\n"
      ]
     },
     "metadata": {},
     "output_type": "display_data"
    },
    {
     "data": {
      "text/html": [
       "<pre style=\"white-space:pre;overflow-x:auto;line-height:normal;font-family:Menlo,'DejaVu Sans Mono',consolas,'Courier New',monospace\"><span style=\"color: #800000; text-decoration-color: #800000; font-weight: bold\">Decrypted Message: qWPXPYeLckKXkKOPLcKhLedZY </span>\n",
       "</pre>\n"
      ],
      "text/plain": [
       "\u001b[1;31mDecrypted Message: qWPXPYeLckKXkKOPLcKhLedZY \u001b[0m\n"
      ]
     },
     "metadata": {},
     "output_type": "display_data"
    },
    {
     "data": {
      "text/html": [
       "<pre style=\"white-space:pre;overflow-x:auto;line-height:normal;font-family:Menlo,'DejaVu Sans Mono',consolas,'Courier New',monospace\"><span style=\"color: #a8a8a8; text-decoration-color: #a8a8a8; font-weight: bold\">Shift </span><span style=\"color: #008080; text-decoration-color: #008080; font-weight: bold\">20</span>\n",
       "</pre>\n"
      ],
      "text/plain": [
       "\u001b[1;38;5;248mShift \u001b[0m\u001b[1;36m20\u001b[0m\n"
      ]
     },
     "metadata": {},
     "output_type": "display_data"
    },
    {
     "data": {
      "text/html": [
       "<pre style=\"white-space:pre;overflow-x:auto;line-height:normal;font-family:Menlo,'DejaVu Sans Mono',consolas,'Courier New',monospace\"><span style=\"color: #800000; text-decoration-color: #800000; font-weight: bold\">Decrypted Message: pVOWOXdKbjJWjJNOKbJgKdcYX </span>\n",
       "</pre>\n"
      ],
      "text/plain": [
       "\u001b[1;31mDecrypted Message: pVOWOXdKbjJWjJNOKbJgKdcYX \u001b[0m\n"
      ]
     },
     "metadata": {},
     "output_type": "display_data"
    },
    {
     "data": {
      "text/html": [
       "<pre style=\"white-space:pre;overflow-x:auto;line-height:normal;font-family:Menlo,'DejaVu Sans Mono',consolas,'Courier New',monospace\"><span style=\"color: #a8a8a8; text-decoration-color: #a8a8a8; font-weight: bold\">Shift </span><span style=\"color: #008080; text-decoration-color: #008080; font-weight: bold\">21</span>\n",
       "</pre>\n"
      ],
      "text/plain": [
       "\u001b[1;38;5;248mShift \u001b[0m\u001b[1;36m21\u001b[0m\n"
      ]
     },
     "metadata": {},
     "output_type": "display_data"
    },
    {
     "data": {
      "text/html": [
       "<pre style=\"white-space:pre;overflow-x:auto;line-height:normal;font-family:Menlo,'DejaVu Sans Mono',consolas,'Courier New',monospace\"><span style=\"color: #800000; text-decoration-color: #800000; font-weight: bold\">Decrypted Message: oUNVNWcJaiIViIMNJaIfJcbXW </span>\n",
       "</pre>\n"
      ],
      "text/plain": [
       "\u001b[1;31mDecrypted Message: oUNVNWcJaiIViIMNJaIfJcbXW \u001b[0m\n"
      ]
     },
     "metadata": {},
     "output_type": "display_data"
    },
    {
     "data": {
      "text/html": [
       "<pre style=\"white-space:pre;overflow-x:auto;line-height:normal;font-family:Menlo,'DejaVu Sans Mono',consolas,'Courier New',monospace\"><span style=\"color: #a8a8a8; text-decoration-color: #a8a8a8; font-weight: bold\">Shift </span><span style=\"color: #008080; text-decoration-color: #008080; font-weight: bold\">22</span>\n",
       "</pre>\n"
      ],
      "text/plain": [
       "\u001b[1;38;5;248mShift \u001b[0m\u001b[1;36m22\u001b[0m\n"
      ]
     },
     "metadata": {},
     "output_type": "display_data"
    },
    {
     "data": {
      "text/html": [
       "<pre style=\"white-space:pre;overflow-x:auto;line-height:normal;font-family:Menlo,'DejaVu Sans Mono',consolas,'Courier New',monospace\"><span style=\"color: #800000; text-decoration-color: #800000; font-weight: bold\">Decrypted Message: nTMUMVbIZhHUhHLMIZHeIbaWV </span>\n",
       "</pre>\n"
      ],
      "text/plain": [
       "\u001b[1;31mDecrypted Message: nTMUMVbIZhHUhHLMIZHeIbaWV \u001b[0m\n"
      ]
     },
     "metadata": {},
     "output_type": "display_data"
    },
    {
     "data": {
      "text/html": [
       "<pre style=\"white-space:pre;overflow-x:auto;line-height:normal;font-family:Menlo,'DejaVu Sans Mono',consolas,'Courier New',monospace\"><span style=\"color: #a8a8a8; text-decoration-color: #a8a8a8; font-weight: bold\">Shift </span><span style=\"color: #008080; text-decoration-color: #008080; font-weight: bold\">23</span>\n",
       "</pre>\n"
      ],
      "text/plain": [
       "\u001b[1;38;5;248mShift \u001b[0m\u001b[1;36m23\u001b[0m\n"
      ]
     },
     "metadata": {},
     "output_type": "display_data"
    },
    {
     "data": {
      "text/html": [
       "<pre style=\"white-space:pre;overflow-x:auto;line-height:normal;font-family:Menlo,'DejaVu Sans Mono',consolas,'Courier New',monospace\"><span style=\"color: #800000; text-decoration-color: #800000; font-weight: bold\">Decrypted Message: mSLTLUaHYgGTgGKLHYGdHaZVU </span>\n",
       "</pre>\n"
      ],
      "text/plain": [
       "\u001b[1;31mDecrypted Message: mSLTLUaHYgGTgGKLHYGdHaZVU \u001b[0m\n"
      ]
     },
     "metadata": {},
     "output_type": "display_data"
    },
    {
     "data": {
      "text/html": [
       "<pre style=\"white-space:pre;overflow-x:auto;line-height:normal;font-family:Menlo,'DejaVu Sans Mono',consolas,'Courier New',monospace\"><span style=\"color: #a8a8a8; text-decoration-color: #a8a8a8; font-weight: bold\">Shift </span><span style=\"color: #008080; text-decoration-color: #008080; font-weight: bold\">24</span>\n",
       "</pre>\n"
      ],
      "text/plain": [
       "\u001b[1;38;5;248mShift \u001b[0m\u001b[1;36m24\u001b[0m\n"
      ]
     },
     "metadata": {},
     "output_type": "display_data"
    },
    {
     "data": {
      "text/html": [
       "<pre style=\"white-space:pre;overflow-x:auto;line-height:normal;font-family:Menlo,'DejaVu Sans Mono',consolas,'Courier New',monospace\"><span style=\"color: #800000; text-decoration-color: #800000; font-weight: bold\">Decrypted Message: lRKSKTZGXfFSfFJKGXFcGZYUT </span>\n",
       "</pre>\n"
      ],
      "text/plain": [
       "\u001b[1;31mDecrypted Message: lRKSKTZGXfFSfFJKGXFcGZYUT \u001b[0m\n"
      ]
     },
     "metadata": {},
     "output_type": "display_data"
    },
    {
     "data": {
      "text/html": [
       "<pre style=\"white-space:pre;overflow-x:auto;line-height:normal;font-family:Menlo,'DejaVu Sans Mono',consolas,'Courier New',monospace\"><span style=\"color: #a8a8a8; text-decoration-color: #a8a8a8; font-weight: bold\">Shift </span><span style=\"color: #008080; text-decoration-color: #008080; font-weight: bold\">25</span>\n",
       "</pre>\n"
      ],
      "text/plain": [
       "\u001b[1;38;5;248mShift \u001b[0m\u001b[1;36m25\u001b[0m\n"
      ]
     },
     "metadata": {},
     "output_type": "display_data"
    },
    {
     "data": {
      "text/html": [
       "<pre style=\"white-space:pre;overflow-x:auto;line-height:normal;font-family:Menlo,'DejaVu Sans Mono',consolas,'Courier New',monospace\"><span style=\"color: #800000; text-decoration-color: #800000; font-weight: bold\">Decrypted Message: kQJRJSYFWeEReEIJFWEbFYXTS </span>\n",
       "</pre>\n"
      ],
      "text/plain": [
       "\u001b[1;31mDecrypted Message: kQJRJSYFWeEReEIJFWEbFYXTS \u001b[0m\n"
      ]
     },
     "metadata": {},
     "output_type": "display_data"
    },
    {
     "data": {
      "text/html": [
       "<pre style=\"white-space:pre;overflow-x:auto;line-height:normal;font-family:Menlo,'DejaVu Sans Mono',consolas,'Courier New',monospace\"><span style=\"color: #a8a8a8; text-decoration-color: #a8a8a8; font-weight: bold\">Shift </span><span style=\"color: #008080; text-decoration-color: #008080; font-weight: bold\">26</span>\n",
       "</pre>\n"
      ],
      "text/plain": [
       "\u001b[1;38;5;248mShift \u001b[0m\u001b[1;36m26\u001b[0m\n"
      ]
     },
     "metadata": {},
     "output_type": "display_data"
    },
    {
     "data": {
      "text/html": [
       "<pre style=\"white-space:pre;overflow-x:auto;line-height:normal;font-family:Menlo,'DejaVu Sans Mono',consolas,'Courier New',monospace\"><span style=\"color: #800000; text-decoration-color: #800000; font-weight: bold\">Decrypted Message: jPIQIRXEVdDQdDHIEVDaEXWSR </span>\n",
       "</pre>\n"
      ],
      "text/plain": [
       "\u001b[1;31mDecrypted Message: jPIQIRXEVdDQdDHIEVDaEXWSR \u001b[0m\n"
      ]
     },
     "metadata": {},
     "output_type": "display_data"
    },
    {
     "data": {
      "text/html": [
       "<pre style=\"white-space:pre;overflow-x:auto;line-height:normal;font-family:Menlo,'DejaVu Sans Mono',consolas,'Courier New',monospace\"><span style=\"color: #a8a8a8; text-decoration-color: #a8a8a8; font-weight: bold\">Shift </span><span style=\"color: #008080; text-decoration-color: #008080; font-weight: bold\">27</span>\n",
       "</pre>\n"
      ],
      "text/plain": [
       "\u001b[1;38;5;248mShift \u001b[0m\u001b[1;36m27\u001b[0m\n"
      ]
     },
     "metadata": {},
     "output_type": "display_data"
    },
    {
     "data": {
      "text/html": [
       "<pre style=\"white-space:pre;overflow-x:auto;line-height:normal;font-family:Menlo,'DejaVu Sans Mono',consolas,'Courier New',monospace\"><span style=\"color: #800000; text-decoration-color: #800000; font-weight: bold\">Decrypted Message: iOHPHQWDUcCPcCGHDUCZDWVRQ </span>\n",
       "</pre>\n"
      ],
      "text/plain": [
       "\u001b[1;31mDecrypted Message: iOHPHQWDUcCPcCGHDUCZDWVRQ \u001b[0m\n"
      ]
     },
     "metadata": {},
     "output_type": "display_data"
    },
    {
     "data": {
      "text/html": [
       "<pre style=\"white-space:pre;overflow-x:auto;line-height:normal;font-family:Menlo,'DejaVu Sans Mono',consolas,'Courier New',monospace\"><span style=\"color: #a8a8a8; text-decoration-color: #a8a8a8; font-weight: bold\">Shift </span><span style=\"color: #008080; text-decoration-color: #008080; font-weight: bold\">28</span>\n",
       "</pre>\n"
      ],
      "text/plain": [
       "\u001b[1;38;5;248mShift \u001b[0m\u001b[1;36m28\u001b[0m\n"
      ]
     },
     "metadata": {},
     "output_type": "display_data"
    },
    {
     "data": {
      "text/html": [
       "<pre style=\"white-space:pre;overflow-x:auto;line-height:normal;font-family:Menlo,'DejaVu Sans Mono',consolas,'Courier New',monospace\"><span style=\"color: #800000; text-decoration-color: #800000; font-weight: bold\">Decrypted Message: hNGOGPVCTbBObBFGCTBYCVUQP </span>\n",
       "</pre>\n"
      ],
      "text/plain": [
       "\u001b[1;31mDecrypted Message: hNGOGPVCTbBObBFGCTBYCVUQP \u001b[0m\n"
      ]
     },
     "metadata": {},
     "output_type": "display_data"
    },
    {
     "data": {
      "text/html": [
       "<pre style=\"white-space:pre;overflow-x:auto;line-height:normal;font-family:Menlo,'DejaVu Sans Mono',consolas,'Courier New',monospace\"><span style=\"color: #a8a8a8; text-decoration-color: #a8a8a8; font-weight: bold\">Shift </span><span style=\"color: #008080; text-decoration-color: #008080; font-weight: bold\">29</span>\n",
       "</pre>\n"
      ],
      "text/plain": [
       "\u001b[1;38;5;248mShift \u001b[0m\u001b[1;36m29\u001b[0m\n"
      ]
     },
     "metadata": {},
     "output_type": "display_data"
    },
    {
     "data": {
      "text/html": [
       "<pre style=\"white-space:pre;overflow-x:auto;line-height:normal;font-family:Menlo,'DejaVu Sans Mono',consolas,'Courier New',monospace\"><span style=\"color: #800000; text-decoration-color: #800000; font-weight: bold\">Decrypted Message: gMFNFOUBSaANaAEFBSAXBUTPO </span>\n",
       "</pre>\n"
      ],
      "text/plain": [
       "\u001b[1;31mDecrypted Message: gMFNFOUBSaANaAEFBSAXBUTPO \u001b[0m\n"
      ]
     },
     "metadata": {},
     "output_type": "display_data"
    },
    {
     "data": {
      "text/html": [
       "<pre style=\"white-space:pre;overflow-x:auto;line-height:normal;font-family:Menlo,'DejaVu Sans Mono',consolas,'Courier New',monospace\"><span style=\"color: #a8a8a8; text-decoration-color: #a8a8a8; font-weight: bold\">Shift </span><span style=\"color: #008080; text-decoration-color: #008080; font-weight: bold\">30</span>\n",
       "</pre>\n"
      ],
      "text/plain": [
       "\u001b[1;38;5;248mShift \u001b[0m\u001b[1;36m30\u001b[0m\n"
      ]
     },
     "metadata": {},
     "output_type": "display_data"
    },
    {
     "data": {
      "text/html": [
       "<pre style=\"white-space:pre;overflow-x:auto;line-height:normal;font-family:Menlo,'DejaVu Sans Mono',consolas,'Courier New',monospace\"><span style=\"color: #800000; text-decoration-color: #800000; font-weight: bold\">Decrypted Message: fLEMENTARZ MZ DEAR WATSON </span>\n",
       "</pre>\n"
      ],
      "text/plain": [
       "\u001b[1;31mDecrypted Message: fLEMENTARZ MZ DEAR WATSON \u001b[0m\n"
      ]
     },
     "metadata": {},
     "output_type": "display_data"
    },
    {
     "data": {
      "text/html": [
       "<pre style=\"white-space:pre;overflow-x:auto;line-height:normal;font-family:Menlo,'DejaVu Sans Mono',consolas,'Courier New',monospace\"><span style=\"color: #a8a8a8; text-decoration-color: #a8a8a8; font-weight: bold\">Shift </span><span style=\"color: #008080; text-decoration-color: #008080; font-weight: bold\">31</span>\n",
       "</pre>\n"
      ],
      "text/plain": [
       "\u001b[1;38;5;248mShift \u001b[0m\u001b[1;36m31\u001b[0m\n"
      ]
     },
     "metadata": {},
     "output_type": "display_data"
    },
    {
     "data": {
      "text/html": [
       "<pre style=\"white-space:pre;overflow-x:auto;line-height:normal;font-family:Menlo,'DejaVu Sans Mono',consolas,'Courier New',monospace\"><span style=\"color: #800000; text-decoration-color: #800000; font-weight: bold\">Decrypted Message: eKDLDMS QYzLYzCD QzV SRNM </span>\n",
       "</pre>\n"
      ],
      "text/plain": [
       "\u001b[1;31mDecrypted Message: eKDLDMS QYzLYzCD QzV SRNM \u001b[0m\n"
      ]
     },
     "metadata": {},
     "output_type": "display_data"
    },
    {
     "data": {
      "text/html": [
       "<pre style=\"white-space:pre;overflow-x:auto;line-height:normal;font-family:Menlo,'DejaVu Sans Mono',consolas,'Courier New',monospace\"><span style=\"color: #a8a8a8; text-decoration-color: #a8a8a8; font-weight: bold\">Shift </span><span style=\"color: #008080; text-decoration-color: #008080; font-weight: bold\">32</span>\n",
       "</pre>\n"
      ],
      "text/plain": [
       "\u001b[1;38;5;248mShift \u001b[0m\u001b[1;36m32\u001b[0m\n"
      ]
     },
     "metadata": {},
     "output_type": "display_data"
    },
    {
     "data": {
      "text/html": [
       "<pre style=\"white-space:pre;overflow-x:auto;line-height:normal;font-family:Menlo,'DejaVu Sans Mono',consolas,'Courier New',monospace\"><span style=\"color: #800000; text-decoration-color: #800000; font-weight: bold\">Decrypted Message: dJCKCLRzPXyKXyBCzPyUzRQML </span>\n",
       "</pre>\n"
      ],
      "text/plain": [
       "\u001b[1;31mDecrypted Message: dJCKCLRzPXyKXyBCzPyUzRQML \u001b[0m\n"
      ]
     },
     "metadata": {},
     "output_type": "display_data"
    },
    {
     "data": {
      "text/html": [
       "<pre style=\"white-space:pre;overflow-x:auto;line-height:normal;font-family:Menlo,'DejaVu Sans Mono',consolas,'Courier New',monospace\"><span style=\"color: #a8a8a8; text-decoration-color: #a8a8a8; font-weight: bold\">Shift </span><span style=\"color: #008080; text-decoration-color: #008080; font-weight: bold\">33</span>\n",
       "</pre>\n"
      ],
      "text/plain": [
       "\u001b[1;38;5;248mShift \u001b[0m\u001b[1;36m33\u001b[0m\n"
      ]
     },
     "metadata": {},
     "output_type": "display_data"
    },
    {
     "data": {
      "text/html": [
       "<pre style=\"white-space:pre;overflow-x:auto;line-height:normal;font-family:Menlo,'DejaVu Sans Mono',consolas,'Courier New',monospace\"><span style=\"color: #800000; text-decoration-color: #800000; font-weight: bold\">Decrypted Message: cIBJBKQyOWxJWxAByOxTyQPLK </span>\n",
       "</pre>\n"
      ],
      "text/plain": [
       "\u001b[1;31mDecrypted Message: cIBJBKQyOWxJWxAByOxTyQPLK \u001b[0m\n"
      ]
     },
     "metadata": {},
     "output_type": "display_data"
    },
    {
     "data": {
      "text/html": [
       "<pre style=\"white-space:pre;overflow-x:auto;line-height:normal;font-family:Menlo,'DejaVu Sans Mono',consolas,'Courier New',monospace\"><span style=\"color: #a8a8a8; text-decoration-color: #a8a8a8; font-weight: bold\">Shift </span><span style=\"color: #008080; text-decoration-color: #008080; font-weight: bold\">34</span>\n",
       "</pre>\n"
      ],
      "text/plain": [
       "\u001b[1;38;5;248mShift \u001b[0m\u001b[1;36m34\u001b[0m\n"
      ]
     },
     "metadata": {},
     "output_type": "display_data"
    },
    {
     "data": {
      "text/html": [
       "<pre style=\"white-space:pre;overflow-x:auto;line-height:normal;font-family:Menlo,'DejaVu Sans Mono',consolas,'Courier New',monospace\"><span style=\"color: #800000; text-decoration-color: #800000; font-weight: bold\">Decrypted Message: bHAIAJPxNVwIVw AxNwSxPOKJ </span>\n",
       "</pre>\n"
      ],
      "text/plain": [
       "\u001b[1;31mDecrypted Message: bHAIAJPxNVwIVw AxNwSxPOKJ \u001b[0m\n"
      ]
     },
     "metadata": {},
     "output_type": "display_data"
    },
    {
     "data": {
      "text/html": [
       "<pre style=\"white-space:pre;overflow-x:auto;line-height:normal;font-family:Menlo,'DejaVu Sans Mono',consolas,'Courier New',monospace\"><span style=\"color: #a8a8a8; text-decoration-color: #a8a8a8; font-weight: bold\">Shift </span><span style=\"color: #008080; text-decoration-color: #008080; font-weight: bold\">35</span>\n",
       "</pre>\n"
      ],
      "text/plain": [
       "\u001b[1;38;5;248mShift \u001b[0m\u001b[1;36m35\u001b[0m\n"
      ]
     },
     "metadata": {},
     "output_type": "display_data"
    },
    {
     "data": {
      "text/html": [
       "<pre style=\"white-space:pre;overflow-x:auto;line-height:normal;font-family:Menlo,'DejaVu Sans Mono',consolas,'Courier New',monospace\"><span style=\"color: #800000; text-decoration-color: #800000; font-weight: bold\">Decrypted Message: aG H IOwMUvHUvz wMvRwONJI </span>\n",
       "</pre>\n"
      ],
      "text/plain": [
       "\u001b[1;31mDecrypted Message: aG H IOwMUvHUvz wMvRwONJI \u001b[0m\n"
      ]
     },
     "metadata": {},
     "output_type": "display_data"
    },
    {
     "data": {
      "text/html": [
       "<pre style=\"white-space:pre;overflow-x:auto;line-height:normal;font-family:Menlo,'DejaVu Sans Mono',consolas,'Courier New',monospace\"><span style=\"color: #a8a8a8; text-decoration-color: #a8a8a8; font-weight: bold\">Shift </span><span style=\"color: #008080; text-decoration-color: #008080; font-weight: bold\">36</span>\n",
       "</pre>\n"
      ],
      "text/plain": [
       "\u001b[1;38;5;248mShift \u001b[0m\u001b[1;36m36\u001b[0m\n"
      ]
     },
     "metadata": {},
     "output_type": "display_data"
    },
    {
     "data": {
      "text/html": [
       "<pre style=\"white-space:pre;overflow-x:auto;line-height:normal;font-family:Menlo,'DejaVu Sans Mono',consolas,'Courier New',monospace\"><span style=\"color: #800000; text-decoration-color: #800000; font-weight: bold\">Decrypted Message: ZFzGzHNvLTuGTuyzvLuQvNMIH </span>\n",
       "</pre>\n"
      ],
      "text/plain": [
       "\u001b[1;31mDecrypted Message: ZFzGzHNvLTuGTuyzvLuQvNMIH \u001b[0m\n"
      ]
     },
     "metadata": {},
     "output_type": "display_data"
    },
    {
     "data": {
      "text/html": [
       "<pre style=\"white-space:pre;overflow-x:auto;line-height:normal;font-family:Menlo,'DejaVu Sans Mono',consolas,'Courier New',monospace\"><span style=\"color: #a8a8a8; text-decoration-color: #a8a8a8; font-weight: bold\">Shift </span><span style=\"color: #008080; text-decoration-color: #008080; font-weight: bold\">37</span>\n",
       "</pre>\n"
      ],
      "text/plain": [
       "\u001b[1;38;5;248mShift \u001b[0m\u001b[1;36m37\u001b[0m\n"
      ]
     },
     "metadata": {},
     "output_type": "display_data"
    },
    {
     "data": {
      "text/html": [
       "<pre style=\"white-space:pre;overflow-x:auto;line-height:normal;font-family:Menlo,'DejaVu Sans Mono',consolas,'Courier New',monospace\"><span style=\"color: #800000; text-decoration-color: #800000; font-weight: bold\">Decrypted Message: YEyFyGMuKStFStxyuKtPuMLHG </span>\n",
       "</pre>\n"
      ],
      "text/plain": [
       "\u001b[1;31mDecrypted Message: YEyFyGMuKStFStxyuKtPuMLHG \u001b[0m\n"
      ]
     },
     "metadata": {},
     "output_type": "display_data"
    },
    {
     "data": {
      "text/html": [
       "<pre style=\"white-space:pre;overflow-x:auto;line-height:normal;font-family:Menlo,'DejaVu Sans Mono',consolas,'Courier New',monospace\"><span style=\"color: #a8a8a8; text-decoration-color: #a8a8a8; font-weight: bold\">Shift </span><span style=\"color: #008080; text-decoration-color: #008080; font-weight: bold\">38</span>\n",
       "</pre>\n"
      ],
      "text/plain": [
       "\u001b[1;38;5;248mShift \u001b[0m\u001b[1;36m38\u001b[0m\n"
      ]
     },
     "metadata": {},
     "output_type": "display_data"
    },
    {
     "data": {
      "text/html": [
       "<pre style=\"white-space:pre;overflow-x:auto;line-height:normal;font-family:Menlo,'DejaVu Sans Mono',consolas,'Courier New',monospace\"><span style=\"color: #800000; text-decoration-color: #800000; font-weight: bold\">Decrypted Message: XDxExFLtJRsERswxtJsOtLKGF </span>\n",
       "</pre>\n"
      ],
      "text/plain": [
       "\u001b[1;31mDecrypted Message: XDxExFLtJRsERswxtJsOtLKGF \u001b[0m\n"
      ]
     },
     "metadata": {},
     "output_type": "display_data"
    },
    {
     "data": {
      "text/html": [
       "<pre style=\"white-space:pre;overflow-x:auto;line-height:normal;font-family:Menlo,'DejaVu Sans Mono',consolas,'Courier New',monospace\"><span style=\"color: #a8a8a8; text-decoration-color: #a8a8a8; font-weight: bold\">Shift </span><span style=\"color: #008080; text-decoration-color: #008080; font-weight: bold\">39</span>\n",
       "</pre>\n"
      ],
      "text/plain": [
       "\u001b[1;38;5;248mShift \u001b[0m\u001b[1;36m39\u001b[0m\n"
      ]
     },
     "metadata": {},
     "output_type": "display_data"
    },
    {
     "data": {
      "text/html": [
       "<pre style=\"white-space:pre;overflow-x:auto;line-height:normal;font-family:Menlo,'DejaVu Sans Mono',consolas,'Courier New',monospace\"><span style=\"color: #800000; text-decoration-color: #800000; font-weight: bold\">Decrypted Message: WCwDwEKsIQrDQrvwsIrNsKJFE </span>\n",
       "</pre>\n"
      ],
      "text/plain": [
       "\u001b[1;31mDecrypted Message: WCwDwEKsIQrDQrvwsIrNsKJFE \u001b[0m\n"
      ]
     },
     "metadata": {},
     "output_type": "display_data"
    },
    {
     "data": {
      "text/html": [
       "<pre style=\"white-space:pre;overflow-x:auto;line-height:normal;font-family:Menlo,'DejaVu Sans Mono',consolas,'Courier New',monospace\"><span style=\"color: #a8a8a8; text-decoration-color: #a8a8a8; font-weight: bold\">Shift </span><span style=\"color: #008080; text-decoration-color: #008080; font-weight: bold\">40</span>\n",
       "</pre>\n"
      ],
      "text/plain": [
       "\u001b[1;38;5;248mShift \u001b[0m\u001b[1;36m40\u001b[0m\n"
      ]
     },
     "metadata": {},
     "output_type": "display_data"
    },
    {
     "data": {
      "text/html": [
       "<pre style=\"white-space:pre;overflow-x:auto;line-height:normal;font-family:Menlo,'DejaVu Sans Mono',consolas,'Courier New',monospace\"><span style=\"color: #800000; text-decoration-color: #800000; font-weight: bold\">Decrypted Message: VBvCvDJrHPqCPquvrHqMrJIED </span>\n",
       "</pre>\n"
      ],
      "text/plain": [
       "\u001b[1;31mDecrypted Message: VBvCvDJrHPqCPquvrHqMrJIED \u001b[0m\n"
      ]
     },
     "metadata": {},
     "output_type": "display_data"
    },
    {
     "data": {
      "text/html": [
       "<pre style=\"white-space:pre;overflow-x:auto;line-height:normal;font-family:Menlo,'DejaVu Sans Mono',consolas,'Courier New',monospace\"><span style=\"color: #a8a8a8; text-decoration-color: #a8a8a8; font-weight: bold\">Shift </span><span style=\"color: #008080; text-decoration-color: #008080; font-weight: bold\">41</span>\n",
       "</pre>\n"
      ],
      "text/plain": [
       "\u001b[1;38;5;248mShift \u001b[0m\u001b[1;36m41\u001b[0m\n"
      ]
     },
     "metadata": {},
     "output_type": "display_data"
    },
    {
     "data": {
      "text/html": [
       "<pre style=\"white-space:pre;overflow-x:auto;line-height:normal;font-family:Menlo,'DejaVu Sans Mono',consolas,'Courier New',monospace\"><span style=\"color: #800000; text-decoration-color: #800000; font-weight: bold\">Decrypted Message: UAuBuCIqGOpBOptuqGpLqIHDC </span>\n",
       "</pre>\n"
      ],
      "text/plain": [
       "\u001b[1;31mDecrypted Message: UAuBuCIqGOpBOptuqGpLqIHDC \u001b[0m\n"
      ]
     },
     "metadata": {},
     "output_type": "display_data"
    },
    {
     "data": {
      "text/html": [
       "<pre style=\"white-space:pre;overflow-x:auto;line-height:normal;font-family:Menlo,'DejaVu Sans Mono',consolas,'Courier New',monospace\"><span style=\"color: #a8a8a8; text-decoration-color: #a8a8a8; font-weight: bold\">Shift </span><span style=\"color: #008080; text-decoration-color: #008080; font-weight: bold\">42</span>\n",
       "</pre>\n"
      ],
      "text/plain": [
       "\u001b[1;38;5;248mShift \u001b[0m\u001b[1;36m42\u001b[0m\n"
      ]
     },
     "metadata": {},
     "output_type": "display_data"
    },
    {
     "data": {
      "text/html": [
       "<pre style=\"white-space:pre;overflow-x:auto;line-height:normal;font-family:Menlo,'DejaVu Sans Mono',consolas,'Courier New',monospace\"><span style=\"color: #800000; text-decoration-color: #800000; font-weight: bold\">Decrypted Message: T tAtBHpFNoANostpFoKpHGCB </span>\n",
       "</pre>\n"
      ],
      "text/plain": [
       "\u001b[1;31mDecrypted Message: T tAtBHpFNoANostpFoKpHGCB \u001b[0m\n"
      ]
     },
     "metadata": {},
     "output_type": "display_data"
    },
    {
     "data": {
      "text/html": [
       "<pre style=\"white-space:pre;overflow-x:auto;line-height:normal;font-family:Menlo,'DejaVu Sans Mono',consolas,'Courier New',monospace\"><span style=\"color: #a8a8a8; text-decoration-color: #a8a8a8; font-weight: bold\">Shift </span><span style=\"color: #008080; text-decoration-color: #008080; font-weight: bold\">43</span>\n",
       "</pre>\n"
      ],
      "text/plain": [
       "\u001b[1;38;5;248mShift \u001b[0m\u001b[1;36m43\u001b[0m\n"
      ]
     },
     "metadata": {},
     "output_type": "display_data"
    },
    {
     "data": {
      "text/html": [
       "<pre style=\"white-space:pre;overflow-x:auto;line-height:normal;font-family:Menlo,'DejaVu Sans Mono',consolas,'Courier New',monospace\"><span style=\"color: #800000; text-decoration-color: #800000; font-weight: bold\">Decrypted Message: Szs sAGoEMn MnrsoEnJoGFBA </span>\n",
       "</pre>\n"
      ],
      "text/plain": [
       "\u001b[1;31mDecrypted Message: Szs sAGoEMn MnrsoEnJoGFBA \u001b[0m\n"
      ]
     },
     "metadata": {},
     "output_type": "display_data"
    },
    {
     "data": {
      "text/html": [
       "<pre style=\"white-space:pre;overflow-x:auto;line-height:normal;font-family:Menlo,'DejaVu Sans Mono',consolas,'Courier New',monospace\"><span style=\"color: #a8a8a8; text-decoration-color: #a8a8a8; font-weight: bold\">Shift </span><span style=\"color: #008080; text-decoration-color: #008080; font-weight: bold\">44</span>\n",
       "</pre>\n"
      ],
      "text/plain": [
       "\u001b[1;38;5;248mShift \u001b[0m\u001b[1;36m44\u001b[0m\n"
      ]
     },
     "metadata": {},
     "output_type": "display_data"
    },
    {
     "data": {
      "text/html": [
       "<pre style=\"white-space:pre;overflow-x:auto;line-height:normal;font-family:Menlo,'DejaVu Sans Mono',consolas,'Courier New',monospace\"><span style=\"color: #800000; text-decoration-color: #800000; font-weight: bold\">Decrypted Message: Ryrzr FnDLmzLmqrnDmInFEA  </span>\n",
       "</pre>\n"
      ],
      "text/plain": [
       "\u001b[1;31mDecrypted Message: Ryrzr FnDLmzLmqrnDmInFEA  \u001b[0m\n"
      ]
     },
     "metadata": {},
     "output_type": "display_data"
    },
    {
     "data": {
      "text/html": [
       "<pre style=\"white-space:pre;overflow-x:auto;line-height:normal;font-family:Menlo,'DejaVu Sans Mono',consolas,'Courier New',monospace\"><span style=\"color: #a8a8a8; text-decoration-color: #a8a8a8; font-weight: bold\">Shift </span><span style=\"color: #008080; text-decoration-color: #008080; font-weight: bold\">45</span>\n",
       "</pre>\n"
      ],
      "text/plain": [
       "\u001b[1;38;5;248mShift \u001b[0m\u001b[1;36m45\u001b[0m\n"
      ]
     },
     "metadata": {},
     "output_type": "display_data"
    },
    {
     "data": {
      "text/html": [
       "<pre style=\"white-space:pre;overflow-x:auto;line-height:normal;font-family:Menlo,'DejaVu Sans Mono',consolas,'Courier New',monospace\"><span style=\"color: #800000; text-decoration-color: #800000; font-weight: bold\">Decrypted Message: QxqyqzEmCKlyKlpqmClHmED z </span>\n",
       "</pre>\n"
      ],
      "text/plain": [
       "\u001b[1;31mDecrypted Message: QxqyqzEmCKlyKlpqmClHmED z \u001b[0m\n"
      ]
     },
     "metadata": {},
     "output_type": "display_data"
    },
    {
     "data": {
      "text/html": [
       "<pre style=\"white-space:pre;overflow-x:auto;line-height:normal;font-family:Menlo,'DejaVu Sans Mono',consolas,'Courier New',monospace\"><span style=\"color: #a8a8a8; text-decoration-color: #a8a8a8; font-weight: bold\">Shift </span><span style=\"color: #008080; text-decoration-color: #008080; font-weight: bold\">46</span>\n",
       "</pre>\n"
      ],
      "text/plain": [
       "\u001b[1;38;5;248mShift \u001b[0m\u001b[1;36m46\u001b[0m\n"
      ]
     },
     "metadata": {},
     "output_type": "display_data"
    },
    {
     "data": {
      "text/html": [
       "<pre style=\"white-space:pre;overflow-x:auto;line-height:normal;font-family:Menlo,'DejaVu Sans Mono',consolas,'Courier New',monospace\"><span style=\"color: #800000; text-decoration-color: #800000; font-weight: bold\">Decrypted Message: PwpxpyDlBJkxJkoplBkGlDCzy </span>\n",
       "</pre>\n"
      ],
      "text/plain": [
       "\u001b[1;31mDecrypted Message: PwpxpyDlBJkxJkoplBkGlDCzy \u001b[0m\n"
      ]
     },
     "metadata": {},
     "output_type": "display_data"
    },
    {
     "data": {
      "text/html": [
       "<pre style=\"white-space:pre;overflow-x:auto;line-height:normal;font-family:Menlo,'DejaVu Sans Mono',consolas,'Courier New',monospace\"><span style=\"color: #a8a8a8; text-decoration-color: #a8a8a8; font-weight: bold\">Shift </span><span style=\"color: #008080; text-decoration-color: #008080; font-weight: bold\">47</span>\n",
       "</pre>\n"
      ],
      "text/plain": [
       "\u001b[1;38;5;248mShift \u001b[0m\u001b[1;36m47\u001b[0m\n"
      ]
     },
     "metadata": {},
     "output_type": "display_data"
    },
    {
     "data": {
      "text/html": [
       "<pre style=\"white-space:pre;overflow-x:auto;line-height:normal;font-family:Menlo,'DejaVu Sans Mono',consolas,'Courier New',monospace\"><span style=\"color: #800000; text-decoration-color: #800000; font-weight: bold\">Decrypted Message: OvowoxCkAIjwIjnokAjFkCByx </span>\n",
       "</pre>\n"
      ],
      "text/plain": [
       "\u001b[1;31mDecrypted Message: OvowoxCkAIjwIjnokAjFkCByx \u001b[0m\n"
      ]
     },
     "metadata": {},
     "output_type": "display_data"
    },
    {
     "data": {
      "text/html": [
       "<pre style=\"white-space:pre;overflow-x:auto;line-height:normal;font-family:Menlo,'DejaVu Sans Mono',consolas,'Courier New',monospace\"><span style=\"color: #a8a8a8; text-decoration-color: #a8a8a8; font-weight: bold\">Shift </span><span style=\"color: #008080; text-decoration-color: #008080; font-weight: bold\">48</span>\n",
       "</pre>\n"
      ],
      "text/plain": [
       "\u001b[1;38;5;248mShift \u001b[0m\u001b[1;36m48\u001b[0m\n"
      ]
     },
     "metadata": {},
     "output_type": "display_data"
    },
    {
     "data": {
      "text/html": [
       "<pre style=\"white-space:pre;overflow-x:auto;line-height:normal;font-family:Menlo,'DejaVu Sans Mono',consolas,'Courier New',monospace\"><span style=\"color: #800000; text-decoration-color: #800000; font-weight: bold\">Decrypted Message: NunvnwBj HivHimnj iEjBAxw </span>\n",
       "</pre>\n"
      ],
      "text/plain": [
       "\u001b[1;31mDecrypted Message: NunvnwBj HivHimnj iEjBAxw \u001b[0m\n"
      ]
     },
     "metadata": {},
     "output_type": "display_data"
    },
    {
     "data": {
      "text/html": [
       "<pre style=\"white-space:pre;overflow-x:auto;line-height:normal;font-family:Menlo,'DejaVu Sans Mono',consolas,'Courier New',monospace\"><span style=\"color: #a8a8a8; text-decoration-color: #a8a8a8; font-weight: bold\">Shift </span><span style=\"color: #008080; text-decoration-color: #008080; font-weight: bold\">49</span>\n",
       "</pre>\n"
      ],
      "text/plain": [
       "\u001b[1;38;5;248mShift \u001b[0m\u001b[1;36m49\u001b[0m\n"
      ]
     },
     "metadata": {},
     "output_type": "display_data"
    },
    {
     "data": {
      "text/html": [
       "<pre style=\"white-space:pre;overflow-x:auto;line-height:normal;font-family:Menlo,'DejaVu Sans Mono',consolas,'Courier New',monospace\"><span style=\"color: #800000; text-decoration-color: #800000; font-weight: bold\">Decrypted Message: MtmumvAizGhuGhlmizhDiA wv </span>\n",
       "</pre>\n"
      ],
      "text/plain": [
       "\u001b[1;31mDecrypted Message: MtmumvAizGhuGhlmizhDiA wv \u001b[0m\n"
      ]
     },
     "metadata": {},
     "output_type": "display_data"
    },
    {
     "data": {
      "text/html": [
       "<pre style=\"white-space:pre;overflow-x:auto;line-height:normal;font-family:Menlo,'DejaVu Sans Mono',consolas,'Courier New',monospace\"><span style=\"color: #a8a8a8; text-decoration-color: #a8a8a8; font-weight: bold\">Shift </span><span style=\"color: #008080; text-decoration-color: #008080; font-weight: bold\">50</span>\n",
       "</pre>\n"
      ],
      "text/plain": [
       "\u001b[1;38;5;248mShift \u001b[0m\u001b[1;36m50\u001b[0m\n"
      ]
     },
     "metadata": {},
     "output_type": "display_data"
    },
    {
     "data": {
      "text/html": [
       "<pre style=\"white-space:pre;overflow-x:auto;line-height:normal;font-family:Menlo,'DejaVu Sans Mono',consolas,'Courier New',monospace\"><span style=\"color: #800000; text-decoration-color: #800000; font-weight: bold\">Decrypted Message: Lsltlu hyFgtFgklhygCh zvu </span>\n",
       "</pre>\n"
      ],
      "text/plain": [
       "\u001b[1;31mDecrypted Message: Lsltlu hyFgtFgklhygCh zvu \u001b[0m\n"
      ]
     },
     "metadata": {},
     "output_type": "display_data"
    },
    {
     "data": {
      "text/html": [
       "<pre style=\"white-space:pre;overflow-x:auto;line-height:normal;font-family:Menlo,'DejaVu Sans Mono',consolas,'Courier New',monospace\"><span style=\"color: #a8a8a8; text-decoration-color: #a8a8a8; font-weight: bold\">Shift </span><span style=\"color: #008080; text-decoration-color: #008080; font-weight: bold\">51</span>\n",
       "</pre>\n"
      ],
      "text/plain": [
       "\u001b[1;38;5;248mShift \u001b[0m\u001b[1;36m51\u001b[0m\n"
      ]
     },
     "metadata": {},
     "output_type": "display_data"
    },
    {
     "data": {
      "text/html": [
       "<pre style=\"white-space:pre;overflow-x:auto;line-height:normal;font-family:Menlo,'DejaVu Sans Mono',consolas,'Courier New',monospace\"><span style=\"color: #800000; text-decoration-color: #800000; font-weight: bold\">Decrypted Message: KrksktzgxEfsEfjkgxfBgzyut </span>\n",
       "</pre>\n"
      ],
      "text/plain": [
       "\u001b[1;31mDecrypted Message: KrksktzgxEfsEfjkgxfBgzyut \u001b[0m\n"
      ]
     },
     "metadata": {},
     "output_type": "display_data"
    },
    {
     "data": {
      "text/html": [
       "<pre style=\"white-space:pre;overflow-x:auto;line-height:normal;font-family:Menlo,'DejaVu Sans Mono',consolas,'Courier New',monospace\"><span style=\"color: #a8a8a8; text-decoration-color: #a8a8a8; font-weight: bold\">Shift </span><span style=\"color: #008080; text-decoration-color: #008080; font-weight: bold\">52</span>\n",
       "</pre>\n"
      ],
      "text/plain": [
       "\u001b[1;38;5;248mShift \u001b[0m\u001b[1;36m52\u001b[0m\n"
      ]
     },
     "metadata": {},
     "output_type": "display_data"
    },
    {
     "data": {
      "text/html": [
       "<pre style=\"white-space:pre;overflow-x:auto;line-height:normal;font-family:Menlo,'DejaVu Sans Mono',consolas,'Courier New',monospace\"><span style=\"color: #800000; text-decoration-color: #800000; font-weight: bold\">Decrypted Message: JqjrjsyfwDerDeijfweAfyxts </span>\n",
       "</pre>\n"
      ],
      "text/plain": [
       "\u001b[1;31mDecrypted Message: JqjrjsyfwDerDeijfweAfyxts \u001b[0m\n"
      ]
     },
     "metadata": {},
     "output_type": "display_data"
    }
   ],
   "source": [
    "def hack(cipher, letters):\n",
    "    for shift in range(len(letters)):\n",
    "        hresult = \"\"\n",
    "        for letter in cipher:\n",
    "            hresult = hresult +  letters[(letters.find(letter) - shift) % len(letters)]\n",
    "        console.print(\"Shift {}\" . format(shift), style=\"text\")\n",
    "        console.print(\"Decrypted Message: {} \" . format(hresult), style=\"cipher\")\n",
    "\n",
    "\n",
    "letters1=\"abcdefghijklmnopqrstuvwxyzABCDEFGHIJKLMNOPQRSTUVWXYZ \"\n",
    "letters2=\"ABCDEFGHIJKLMNOPQRSTUVWXYZabcdefghijklmnopqrstuvwxyz \"\n",
    "console.print(\"TRY 1\", style=\"cipher\")\n",
    "hack(cipher, letters1)\n",
    "console.print(\"TRY 2\", style=\"cipher\")\n",
    "hack(cipher, letters2)"
   ]
  },
  {
   "cell_type": "markdown",
   "id": "3d034f3d-5b4c-4c3c-bf63-92387493643e",
   "metadata": {},
   "source": [
    "##### Forras : https://teachen.info/cspp/unit4/lab04-02.html"
   ]
  },
  {
   "cell_type": "code",
   "execution_count": null,
   "id": "adfcca9c-3006-49c9-89db-375ecd42dc5e",
   "metadata": {},
   "outputs": [],
   "source": []
  }
 ],
 "metadata": {
  "kernelspec": {
   "display_name": "Python 3 (ipykernel)",
   "language": "python",
   "name": "python3"
  },
  "language_info": {
   "codemirror_mode": {
    "name": "ipython",
    "version": 3
   },
   "file_extension": ".py",
   "mimetype": "text/x-python",
   "name": "python",
   "nbconvert_exporter": "python",
   "pygments_lexer": "ipython3",
   "version": "3.10.12"
  }
 },
 "nbformat": 4,
 "nbformat_minor": 5
}
